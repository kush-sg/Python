{
  "nbformat": 4,
  "nbformat_minor": 0,
  "metadata": {
    "colab": {
      "provenance": [],
      "authorship_tag": "ABX9TyPKJz2O9fz1zD2OYCFrvtCe",
      "include_colab_link": true
    },
    "kernelspec": {
      "name": "python3",
      "display_name": "Python 3"
    },
    "language_info": {
      "name": "python"
    }
  },
  "cells": [
    {
      "cell_type": "markdown",
      "metadata": {
        "id": "view-in-github",
        "colab_type": "text"
      },
      "source": [
        "<a href=\"https://colab.research.google.com/github/kush-sg/Python/blob/Self-Notes/SelfNotes_Conditional_Statements.ipynb\" target=\"_parent\"><img src=\"https://colab.research.google.com/assets/colab-badge.svg\" alt=\"Open In Colab\"/></a>"
      ]
    },
    {
      "cell_type": "markdown",
      "source": [
        "#PYTHON"
      ],
      "metadata": {
        "id": "No9SDsRJrxoG"
      }
    },
    {
      "cell_type": "markdown",
      "source": [
        "#Conditional Statements\n",
        "\n",
        "\n",
        "> In Python, conditionals are programming language commands for handling decisions"
      ],
      "metadata": {
        "id": "jAw0XHPYqQkj"
      }
    },
    {
      "cell_type": "markdown",
      "source": [
        "#**Syntax:**\n",
        "\n",
        "\n",
        "##conditional statement\n",
        "```\n",
        "if condition:\n",
        "  do this\n",
        "  do this\n",
        "eles:\n",
        "  do this\n",
        "  do this\n",
        "```\n",
        "\n",
        "##nested conditional statement\n",
        "```\n",
        "if condition:\n",
        "  do this\n",
        "  do this\n",
        "elif condition:\n",
        "  do this\n",
        "  do this\n",
        "eles:\n",
        "  do this\n",
        "  do this\n",
        "```\n",
        "\n"
      ],
      "metadata": {
        "id": "7ojJQGVGEFGy"
      }
    },
    {
      "cell_type": "markdown",
      "source": [
        "# **Practice Questions**\n",
        "\n",
        "---\n",
        "\n",
        "\n"
      ],
      "metadata": {
        "id": "RKGSoSywLsSk"
      }
    },
    {
      "cell_type": "markdown",
      "source": [
        "Q1- A company decided to give bonus of 5% to employee if his/her year of service is more than 5 years.Ask user for their salary and year of service and print the net bonus amoun"
      ],
      "metadata": {
        "id": "NdfORPyx3jgs"
      }
    },
    {
      "cell_type": "code",
      "source": [
        "name = str(input(\"Enter your name \"))\n",
        "year = int(input(\"Enter the number of years in Service \"))\n",
        "salary = int(input(\"Enter your Salary \\u20B9 \"))\n",
        "if year>5 :\n",
        "  increment = salary*0.05\n",
        "  salary = (salary+increment)\n",
        "  print(f\"Congratulation {name} you got an increment of \\u20B9 {increment}\")\n",
        "  print(f\"Your new salary is \\u20B9 {salary}\")\n",
        "else :\n",
        "  print(f\"Sorry {name} you are not eligible for the increment\")"
      ],
      "metadata": {
        "colab": {
          "base_uri": "https://localhost:8080/",
          "height": 0
        },
        "id": "nfOm4gI64hOX",
        "outputId": "70b496a5-78ba-4e6c-b9d9-a566c152a5b7"
      },
      "execution_count": 12,
      "outputs": [
        {
          "output_type": "stream",
          "name": "stdout",
          "text": [
            "Enter your name Kushagra Sharma\n",
            "Enter the number of years in Service 6\n",
            "Enter your Salary ₹ 100000\n",
            "Congratulation Kushagra Sharma you got an increment of ₹ 5000.0\n",
            "Your new salary is ₹ 105000.0\n"
          ]
        }
      ]
    },
    {
      "cell_type": "markdown",
      "source": [
        "Q2- Take values of length and breadth of a rectangle from user and check if it is square or not."
      ],
      "metadata": {
        "id": "q8Xca_CI_1pL"
      }
    },
    {
      "cell_type": "code",
      "source": [
        "a= int(input(\"Enter Length \"))\n",
        "b= int(input(\"Enter Breadth \"))\n",
        "if a==b:\n",
        "  print(f\"It is a Square\")\n",
        "else:\n",
        "  print(f\"It is not a Square\")"
      ],
      "metadata": {
        "colab": {
          "base_uri": "https://localhost:8080/",
          "height": 0
        },
        "id": "d8wHlARG_-_d",
        "outputId": "0140fd2a-3571-4f55-8543-cb32da73ba56"
      },
      "execution_count": 15,
      "outputs": [
        {
          "output_type": "stream",
          "name": "stdout",
          "text": [
            "Enter Length 20\n",
            "Enter Breadth 30\n",
            "It is not a Square\n"
          ]
        }
      ]
    },
    {
      "cell_type": "markdown",
      "source": [
        "Q3- Take two int values from user and print greatest among them.\n"
      ],
      "metadata": {
        "id": "hPhJmp07BJOd"
      }
    },
    {
      "cell_type": "code",
      "source": [
        "a= int(input(\"Enter your 1st value \"))\n",
        "b= int(input(\"Enter your 2nd value \"))\n",
        "if a>b:\n",
        "  print(f\"{a} is greater\")\n",
        "elif a<b:\n",
        "  print(f\"{b} is greater\")\n",
        "else:\n",
        "  print(f\"{a} and {b} are equal\")"
      ],
      "metadata": {
        "colab": {
          "base_uri": "https://localhost:8080/",
          "height": 0
        },
        "id": "ywlUWw_xBQp1",
        "outputId": "650cba06-006a-45ad-e415-218b4733214f"
      },
      "execution_count": 20,
      "outputs": [
        {
          "output_type": "stream",
          "name": "stdout",
          "text": [
            "Enter your 1st value 20\n",
            "Enter your 2nd value -20\n",
            "20 is greater\n"
          ]
        }
      ]
    },
    {
      "cell_type": "markdown",
      "source": [
        "Q4- A shop will give discount of 10% if the cost of purchased quantity is more than 1000.\n",
        "* Ask user for quantity\n",
        "Suppose, one unit will cost 100.\n",
        "Judge and print total cost for user."
      ],
      "metadata": {
        "id": "5lRS-VysCNmz"
      }
    },
    {
      "cell_type": "code",
      "source": [
        "a= str(input(\"Enter your name \"))\n",
        "price= int(input(\"Enter product price \"))\n",
        "qty= int(input(\"Enter quantity \"))\n",
        "total = price*qty\n",
        "discount = total*0.1\n",
        "if total>1000:\n",
        "  print(f\"hooray! {a} you got a discount of \\u209B {discount}\")\n",
        "  print(f\"Your Final Bill Amount is \\u209B {total- discount}\")\n",
        "else:\n",
        "  print(f\"{a} your Final Bill Amount is {total} \")"
      ],
      "metadata": {
        "colab": {
          "base_uri": "https://localhost:8080/",
          "height": 0
        },
        "id": "YD2ctMjlFCbj",
        "outputId": "59480a0c-1937-4f98-856f-db83608d58cc"
      },
      "execution_count": 24,
      "outputs": [
        {
          "output_type": "stream",
          "name": "stdout",
          "text": [
            "Enter your name Kushagra Sharma\n",
            "Enter product price 500\n",
            "Enter quantity 3\n",
            "hooray! Kushagra Sharma you got a discount of ₛ 150.0\n",
            "Your Final Bill Amount is ₛ 1350.0\n"
          ]
        }
      ]
    },
    {
      "cell_type": "markdown",
      "source": [
        "Q5- Take input of age of 3 people by user and determine oldest and youngest among them."
      ],
      "metadata": {
        "id": "EBK17JmVFk0m"
      }
    },
    {
      "cell_type": "code",
      "source": [
        "a= int(input(\"Enter 1st age \"))\n",
        "b= int(input(\"Enter 2nd age \"))\n",
        "c= int(input(\"Enter 3rd age \"))\n",
        "if a>b and a>c:\n",
        "  if b>c:\n",
        "    print(f\"3rd is Youngest\")\n",
        "  else:\n",
        "    print(f\"2nd is Youngest\")\n",
        "  print(f\"1st is Oldest\")\n",
        "elif b>a and b>c:\n",
        "  if a>c:\n",
        "    print(f\"3rd is Youngest\")\n",
        "  else:\n",
        "    print(f\"1st is Youngest\")\n",
        "  print(f\"2nd is Oldest\")\n",
        "elif c>a and c>b:\n",
        "  if a>b:\n",
        "    print(f\"2nd is Youngest\")\n",
        "  else:\n",
        "    print(f\"1st is Youngest\")\n",
        "  print(f\"3rd is Oldest\")\n",
        "else:\n",
        "  print(f\"Ages of all are equal\")"
      ],
      "metadata": {
        "colab": {
          "base_uri": "https://localhost:8080/",
          "height": 0
        },
        "id": "CWL8M2crF0p5",
        "outputId": "5bf3e711-3b07-417d-af55-51218e39d466"
      },
      "execution_count": 28,
      "outputs": [
        {
          "output_type": "stream",
          "name": "stdout",
          "text": [
            "Enter 1st age 23\n",
            "Enter 2nd age 23\n",
            "Enter 3rd age 23\n",
            "Ages of all are equal\n"
          ]
        }
      ]
    },
    {
      "cell_type": "markdown",
      "source": [
        "Q6- A school has following rules for grading system:\n",
        ">a. Below 25 - F, \n",
        "b. 25 to 45 - E,\n",
        "c. 45 to 50 - D,\n",
        "d. 50 to 60 - C,\n",
        "e. 60 to 80 - B,\n",
        "f. Above 80 - A,\n",
        "* Ask user to enter marks and print the corresponding grade"
      ],
      "metadata": {
        "id": "oQKteEMHS5th"
      }
    },
    {
      "cell_type": "code",
      "source": [
        "name= str(input(\"Enter your name \"))\n",
        "marks = int(input(\"Enter your Marks \"))\n",
        "if marks>=80:\n",
        "  print(f\"Congratulations {name}, you got A \")\n",
        "elif marks<80 and marks>=60:\n",
        "  print(f\"Congratulations {name}, you got B \")\n",
        "elif marks<60 and marks>=50:\n",
        "  print(f\"{name}, you got C \")\n",
        "elif marks<50 and marks>=45:\n",
        "  print(f\"{name}, you got D \")\n",
        "elif marks<45 and marks>=25:\n",
        "  print(f\"You need to work hard {name}, you got E \")\n",
        "else:\n",
        "  print(f\"Sorry {name}, you Failed \")"
      ],
      "metadata": {
        "colab": {
          "base_uri": "https://localhost:8080/",
          "height": 0
        },
        "id": "ayGNLWXTTWHQ",
        "outputId": "8c52fda3-faf3-4f03-a88f-95170fefd45c"
      },
      "execution_count": 31,
      "outputs": [
        {
          "output_type": "stream",
          "name": "stdout",
          "text": [
            "Enter your name Kushagra\n",
            "Enter your Marks 80\n",
            "Congratulations Kushagra, you got A \n"
          ]
        }
      ]
    },
    {
      "cell_type": "markdown",
      "source": [
        "Q7- Write a program to print absolute vlaue of a number entered by user. E.g.\n",
        "> *   INPUT: 1        OUTPUT: 1\n",
        "*   INPUT: -1        OUTPUT: 1\n",
        "\n",
        "\n"
      ],
      "metadata": {
        "id": "9IZfNYVNVdOO"
      }
    },
    {
      "cell_type": "code",
      "source": [
        "num = int(input(\"Enter number \"))\n",
        "if num==0:\n",
        "  print(\"You Entered a 0\")\n",
        "elif num>0:\n",
        "  print(f\"{num} is a positive number\")\n",
        "else:\n",
        "  print(f\"{num*(-1)} is Absolute Value of {num}\")"
      ],
      "metadata": {
        "colab": {
          "base_uri": "https://localhost:8080/",
          "height": 0
        },
        "id": "aC2Gaqm-WDYN",
        "outputId": "c7331051-91b3-40b9-d5c3-c623c0cd1931"
      },
      "execution_count": 39,
      "outputs": [
        {
          "output_type": "stream",
          "name": "stdout",
          "text": [
            "Enter number -1\n",
            "1 is Absolute Value of -1\n"
          ]
        }
      ]
    },
    {
      "cell_type": "markdown",
      "source": [
        "Q8- A student will not be allowed to sit in exam if his/her attendence is less than 75%.\n",
        "Take following input from user\n",
        "Number of classes held\n",
        "Number of classes attended.\n",
        "And print\n",
        "percentage of class attended\n",
        "Is student is allowed to sit in exam or not."
      ],
      "metadata": {
        "id": "2WzFjiR_exuM"
      }
    },
    {
      "cell_type": "code",
      "source": [
        "a= str(input(\"Enter your name \"))\n",
        "b= int(input(\"Enter your attendance \"))\n",
        "per= round((b/310)*100,2)\n",
        "if per>=75:\n",
        "  print(f\"Hey, {a} you are eligible for Exam\")\n",
        "else:\n",
        "  print(f\"Sorry, {a} you are not eligible for the Exam\")"
      ],
      "metadata": {
        "colab": {
          "base_uri": "https://localhost:8080/",
          "height": 0
        },
        "id": "x-6PpwDNjGUz",
        "outputId": "001b3c34-760b-4c23-ec68-e66fb600462c"
      },
      "execution_count": 48,
      "outputs": [
        {
          "output_type": "stream",
          "name": "stdout",
          "text": [
            "Enter your name Kushagra\n",
            "Enter your attendance 250\n",
            "Hey, Kushagra you are eligible for Exam\n"
          ]
        }
      ]
    }
  ]
}