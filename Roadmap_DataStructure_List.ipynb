{
  "nbformat": 4,
  "nbformat_minor": 0,
  "metadata": {
    "colab": {
      "provenance": [],
      "authorship_tag": "ABX9TyOXdH11FtecccNfhdun3LzC",
      "include_colab_link": true
    },
    "kernelspec": {
      "name": "python3",
      "display_name": "Python 3"
    },
    "language_info": {
      "name": "python"
    }
  },
  "cells": [
    {
      "cell_type": "markdown",
      "metadata": {
        "id": "view-in-github",
        "colab_type": "text"
      },
      "source": [
        "<a href=\"https://colab.research.google.com/github/kush-sg/Python/blob/main/Roadmap_DataStructure_List.ipynb\" target=\"_parent\"><img src=\"https://colab.research.google.com/assets/colab-badge.svg\" alt=\"Open In Colab\"/></a>"
      ]
    },
    {
      "cell_type": "markdown",
      "source": [
        "#Python Roadmap - Data Structure\n",
        "\n",
        "Data Structures are methods for organizing, managing, and storing data in the most efficient way possible to allow for quick\n",
        "access and modification."
      ],
      "metadata": {
        "id": "_gHSEkoxPzgc"
      }
    },
    {
      "cell_type": "markdown",
      "source": [
        "#**List** \n",
        "\n",
        "The list is one of the inbuilt data types used to store multiple elements.\n",
        "A list is created by putting the comma-separated elements in square brackets [ ]\n",
        "\n",
        "\n",
        "\n",
        "1.  Adding elements using append, extend and insert function.\n",
        "2.  List Slicing.\n",
        "3.  Applying aggregation on the list.\n",
        "    > min( ) and max( ) \n",
        "4.  Converting a string into a list.\n",
        "    > ```\n",
        "      list('Kushagra') \n",
        "      ```\n",
        "5.  Adding to the List\n",
        "    > append( )\n",
        "    > ```\n",
        "      l = [1,2,3,4] \n",
        "      l.append(5) # it takes only single value\n",
        "      ```\n",
        "    > extend( )\n",
        "    > ```\n",
        "      l = [1,2,3,4] \n",
        "      l.extend([5,6]) # it takes multiple value\n",
        "      ```  \n",
        "    > insert( )\n",
        "    > ```\n",
        "      l = [1,2,3,4] \n",
        "      l.insert(3,6) # it insert element at specific position\n",
        "      3 is position\n",
        "      6 is element\n",
        "      ```   \n",
        "6.  Removing the elements from the list.\n",
        "    > remove( )\n",
        "    > ```\n",
        "      l = [1,2,3,4] \n",
        "      l.remove(3) # it remove element from the list\n",
        "                    3 is the value\n",
        "      ```  \n",
        "    > pop( )\n",
        "    > ```\n",
        "      l = [1,2,3,4] \n",
        "      l.pop(3) # it pops-out element from the list\n",
        "                 3 is the *index* value\n",
        "      ```  \n",
        "    > clear( )\n",
        "    > ```\n",
        "      l = [1,2,3,4] \n",
        "      l.clear() # it removes all the values\n",
        "      ``` \n",
        "\n",
        "\n",
        "\n"
      ],
      "metadata": {
        "id": "XxsS_4BvP-xT"
      }
    },
    {
      "cell_type": "code",
      "execution_count": 7,
      "metadata": {
        "colab": {
          "base_uri": "https://localhost:8080/"
        },
        "id": "e7GW3HMXPPoQ",
        "outputId": "9ab4d10d-5e54-41b1-aea2-c53a0d9d0805"
      },
      "outputs": [
        {
          "output_type": "stream",
          "name": "stdout",
          "text": [
            "[2, 3, 4]\n"
          ]
        }
      ],
      "source": [
        "# takes values as input\n",
        "l = [1,2,3,4]\n",
        "l.remove(1)\n",
        "print(l)"
      ]
    },
    {
      "cell_type": "code",
      "source": [
        "# takes index values\n",
        "x = [2,5,8,5,6,3]\n",
        "x.pop(3)"
      ],
      "metadata": {
        "colab": {
          "base_uri": "https://localhost:8080/"
        },
        "id": "qKFRnQWpVvDn",
        "outputId": "b95afa8c-96fa-4245-80d2-f8a198ca9a6e"
      },
      "execution_count": 9,
      "outputs": [
        {
          "output_type": "execute_result",
          "data": {
            "text/plain": [
              "5"
            ]
          },
          "metadata": {},
          "execution_count": 9
        }
      ]
    },
    {
      "cell_type": "code",
      "source": [],
      "metadata": {
        "id": "vInyswGugQ8z"
      },
      "execution_count": null,
      "outputs": []
    }
  ]
}