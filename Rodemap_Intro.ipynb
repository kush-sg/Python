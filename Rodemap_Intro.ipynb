{
  "nbformat": 4,
  "nbformat_minor": 0,
  "metadata": {
    "colab": {
      "provenance": [],
      "authorship_tag": "ABX9TyNEsEymQET18cD1e0OZVBye",
      "include_colab_link": true
    },
    "kernelspec": {
      "name": "python3",
      "display_name": "Python 3"
    },
    "language_info": {
      "name": "python"
    }
  },
  "cells": [
    {
      "cell_type": "markdown",
      "metadata": {
        "id": "view-in-github",
        "colab_type": "text"
      },
      "source": [
        "<a href=\"https://colab.research.google.com/github/kush-sg/Python/blob/main/Rodemap_Intro.ipynb\" target=\"_parent\"><img src=\"https://colab.research.google.com/assets/colab-badge.svg\" alt=\"Open In Colab\"/></a>"
      ]
    },
    {
      "cell_type": "markdown",
      "source": [
        "# Python Rodemap - Intro"
      ],
      "metadata": {
        "id": "oQUVw87r_QtI"
      }
    },
    {
      "cell_type": "markdown",
      "source": [
        "> Intro to Python\n",
        "----\n"
      ],
      "metadata": {
        "id": "FhI95q3e_cpr"
      }
    },
    {
      "cell_type": "markdown",
      "source": [
        "\n",
        "**Types of Comments**\n",
        "1. One liner comments\n",
        "2. Multi-line comments\n",
        "\n",
        "**Types of Errors in Python**\n",
        "1. Syntax Error\n",
        "2. Runtime Error\n",
        "\n",
        "**Variable**\n",
        "\n",
        "**Stamements**\n",
        "\n",
        "**Data Type**\n",
        "1. **str:** stores text datatype\n",
        "2. **int, float:** stores numerical data type\n",
        "3. **list, tuple, range:** stores sequential data\n",
        "4. **dict:** stores mapping data b/w multiple elements\n",
        "5. **Set, frozenset:** stores set type variables\n",
        "6. **bool:** stores boolean type data types\n",
        "7. **Bytes, byte array, memoryview:** stores Binary data types\n",
        "\n",
        "**Arithmetic operation**\n",
        "1. **Addition:** + operator is used to carry out addition b/w two variables\n",
        "2. **Subtraction:** - operator is used to carry out subtraction b/w two variables\n",
        "3. **Multiplication:** * operator is used to carry out multiplication b/w two variables\n",
        "4. **Division:** / operator is used to carry out division b/w two variables\n",
        "5. **Modulus:** % operator is used to carry out the remainder when dividing two variables\n",
        "6. **Exponential:** ** operator is used to carry out exponent b/w two variables\n",
        "7. **Floor Division:** // operator is used for floor division b/w two variables\n",
        "\n",
        "\n",
        "\n"
      ],
      "metadata": {
        "id": "JDJU8l1D_mg9"
      }
    },
    {
      "cell_type": "markdown",
      "source": [
        "**String Declaration**\n",
        "\n",
        "> Single line String single quotes\n",
        "\n",
        "> str1 = 'I love Python'\n",
        "\n",
        "> Single line String multiple quotes\n",
        "Str2 = \"I love Python.\"\n",
        "\n",
        "> multiple line strings\n",
        "str3= “”” I\n",
        "\n",
        "Love Python ”””\n",
        "\n"
      ],
      "metadata": {
        "id": "B0eWO2kFCXGW"
      }
    },
    {
      "cell_type": "markdown",
      "source": [
        "**String Operations**\n",
        "\n",
        "1. lower(): converts the string to lowercase\n",
        "2. upper(): Converts the string into uppercase\n",
        "3. title(): Convert string to title case\n",
        "4. strip(): Removes the string with both leading and trailing characters\n",
        "5. startswith(): returns true if a string starts with a given cha"
      ],
      "metadata": {
        "id": "zpDt83_LDMaT"
      }
    },
    {
      "cell_type": "markdown",
      "source": [
        "# Some Practice"
      ],
      "metadata": {
        "id": "I4VVx0drHjv_"
      }
    },
    {
      "cell_type": "code",
      "source": [
        "var = \"Kushagra\"\n",
        "print(*var)\n"
      ],
      "metadata": {
        "colab": {
          "base_uri": "https://localhost:8080/",
          "height": 0
        },
        "id": "OhgqWJZZC4mk",
        "outputId": "8b88b3ef-e7f6-4a6d-9040-ac0bb649f837"
      },
      "execution_count": 5,
      "outputs": [
        {
          "output_type": "stream",
          "name": "stdout",
          "text": [
            "K u s h a g r a\n"
          ]
        }
      ]
    },
    {
      "cell_type": "code",
      "source": [
        "# trim dowm extra spaces\n",
        "var = \"   Kushagra Sharm\"\n",
        "x = var.strip()\n",
        "print(x)"
      ],
      "metadata": {
        "colab": {
          "base_uri": "https://localhost:8080/",
          "height": 0
        },
        "id": "zyRZuqb-HY_Y",
        "outputId": "fd01f04a-7632-45a3-f430-202ed1b64621"
      },
      "execution_count": 7,
      "outputs": [
        {
          "output_type": "stream",
          "name": "stdout",
          "text": [
            "Kushagra Sharm\n"
          ]
        }
      ]
    }
  ]
}