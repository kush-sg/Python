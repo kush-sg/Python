{
  "nbformat": 4,
  "nbformat_minor": 0,
  "metadata": {
    "colab": {
      "provenance": [],
      "authorship_tag": "ABX9TyNpoOvwFburN0PF0S9UFKHM",
      "include_colab_link": true
    },
    "kernelspec": {
      "name": "python3",
      "display_name": "Python 3"
    },
    "language_info": {
      "name": "python"
    }
  },
  "cells": [
    {
      "cell_type": "markdown",
      "metadata": {
        "id": "view-in-github",
        "colab_type": "text"
      },
      "source": [
        "<a href=\"https://colab.research.google.com/github/kush-sg/Python/blob/Projects/EDA_(E_Commerce_Purchase).ipynb\" target=\"_parent\"><img src=\"https://colab.research.google.com/assets/colab-badge.svg\" alt=\"Open In Colab\"/></a>"
      ]
    },
    {
      "cell_type": "markdown",
      "source": [
        "# E-Commerce Purchase\n",
        "\n",
        "\n",
        "\n"
      ],
      "metadata": {
        "id": "Gtj_6hpn4irb"
      }
    },
    {
      "cell_type": "markdown",
      "source": [
        "Dataset : https://www.kaggle.com/utkarsharya/ecommerce-purchases"
      ],
      "metadata": {
        "id": "x65uE_xIzJrS"
      }
    },
    {
      "cell_type": "code",
      "execution_count": 157,
      "metadata": {
        "id": "3s2LxuNjx88H"
      },
      "outputs": [],
      "source": [
        "import pandas as pd"
      ]
    },
    {
      "cell_type": "code",
      "source": [
        "data = pd.read_csv('https://raw.githubusercontent.com/kush-sg/Python/datasets/Ecommerce%20Purchases')\n",
        "data.head(1)"
      ],
      "metadata": {
        "colab": {
          "base_uri": "https://localhost:8080/",
          "height": 249
        },
        "id": "OGYstbPbyYla",
        "outputId": "13184d88-f38e-4a13-d161-78beb3aa3618"
      },
      "execution_count": 158,
      "outputs": [
        {
          "output_type": "execute_result",
          "data": {
            "text/plain": [
              "                                             Address    Lot AM or PM  \\\n",
              "0  16629 Pace Camp Apt. 448\\nAlexisborough, NE 77...  46 in       PM   \n",
              "\n",
              "                                        Browser Info          Company  \\\n",
              "0  Opera/9.56.(X11; Linux x86_64; sl-SI) Presto/2...  Martinez-Herman   \n",
              "\n",
              "        Credit Card CC Exp Date  CC Security Code   CC Provider  \\\n",
              "0  6011929061123406       02/20               900  JCB 16 digit   \n",
              "\n",
              "               Email                                     Job       IP Address  \\\n",
              "0  pdunlap@yahoo.com  Scientist, product/process development  149.146.147.205   \n",
              "\n",
              "  Language  Purchase Price  \n",
              "0       el           98.14  "
            ],
            "text/html": [
              "\n",
              "  <div id=\"df-1f7d8027-d49c-41dd-b9ed-73eb22d375b4\">\n",
              "    <div class=\"colab-df-container\">\n",
              "      <div>\n",
              "<style scoped>\n",
              "    .dataframe tbody tr th:only-of-type {\n",
              "        vertical-align: middle;\n",
              "    }\n",
              "\n",
              "    .dataframe tbody tr th {\n",
              "        vertical-align: top;\n",
              "    }\n",
              "\n",
              "    .dataframe thead th {\n",
              "        text-align: right;\n",
              "    }\n",
              "</style>\n",
              "<table border=\"1\" class=\"dataframe\">\n",
              "  <thead>\n",
              "    <tr style=\"text-align: right;\">\n",
              "      <th></th>\n",
              "      <th>Address</th>\n",
              "      <th>Lot</th>\n",
              "      <th>AM or PM</th>\n",
              "      <th>Browser Info</th>\n",
              "      <th>Company</th>\n",
              "      <th>Credit Card</th>\n",
              "      <th>CC Exp Date</th>\n",
              "      <th>CC Security Code</th>\n",
              "      <th>CC Provider</th>\n",
              "      <th>Email</th>\n",
              "      <th>Job</th>\n",
              "      <th>IP Address</th>\n",
              "      <th>Language</th>\n",
              "      <th>Purchase Price</th>\n",
              "    </tr>\n",
              "  </thead>\n",
              "  <tbody>\n",
              "    <tr>\n",
              "      <th>0</th>\n",
              "      <td>16629 Pace Camp Apt. 448\\nAlexisborough, NE 77...</td>\n",
              "      <td>46 in</td>\n",
              "      <td>PM</td>\n",
              "      <td>Opera/9.56.(X11; Linux x86_64; sl-SI) Presto/2...</td>\n",
              "      <td>Martinez-Herman</td>\n",
              "      <td>6011929061123406</td>\n",
              "      <td>02/20</td>\n",
              "      <td>900</td>\n",
              "      <td>JCB 16 digit</td>\n",
              "      <td>pdunlap@yahoo.com</td>\n",
              "      <td>Scientist, product/process development</td>\n",
              "      <td>149.146.147.205</td>\n",
              "      <td>el</td>\n",
              "      <td>98.14</td>\n",
              "    </tr>\n",
              "  </tbody>\n",
              "</table>\n",
              "</div>\n",
              "      <button class=\"colab-df-convert\" onclick=\"convertToInteractive('df-1f7d8027-d49c-41dd-b9ed-73eb22d375b4')\"\n",
              "              title=\"Convert this dataframe to an interactive table.\"\n",
              "              style=\"display:none;\">\n",
              "        \n",
              "  <svg xmlns=\"http://www.w3.org/2000/svg\" height=\"24px\"viewBox=\"0 0 24 24\"\n",
              "       width=\"24px\">\n",
              "    <path d=\"M0 0h24v24H0V0z\" fill=\"none\"/>\n",
              "    <path d=\"M18.56 5.44l.94 2.06.94-2.06 2.06-.94-2.06-.94-.94-2.06-.94 2.06-2.06.94zm-11 1L8.5 8.5l.94-2.06 2.06-.94-2.06-.94L8.5 2.5l-.94 2.06-2.06.94zm10 10l.94 2.06.94-2.06 2.06-.94-2.06-.94-.94-2.06-.94 2.06-2.06.94z\"/><path d=\"M17.41 7.96l-1.37-1.37c-.4-.4-.92-.59-1.43-.59-.52 0-1.04.2-1.43.59L10.3 9.45l-7.72 7.72c-.78.78-.78 2.05 0 2.83L4 21.41c.39.39.9.59 1.41.59.51 0 1.02-.2 1.41-.59l7.78-7.78 2.81-2.81c.8-.78.8-2.07 0-2.86zM5.41 20L4 18.59l7.72-7.72 1.47 1.35L5.41 20z\"/>\n",
              "  </svg>\n",
              "      </button>\n",
              "      \n",
              "  <style>\n",
              "    .colab-df-container {\n",
              "      display:flex;\n",
              "      flex-wrap:wrap;\n",
              "      gap: 12px;\n",
              "    }\n",
              "\n",
              "    .colab-df-convert {\n",
              "      background-color: #E8F0FE;\n",
              "      border: none;\n",
              "      border-radius: 50%;\n",
              "      cursor: pointer;\n",
              "      display: none;\n",
              "      fill: #1967D2;\n",
              "      height: 32px;\n",
              "      padding: 0 0 0 0;\n",
              "      width: 32px;\n",
              "    }\n",
              "\n",
              "    .colab-df-convert:hover {\n",
              "      background-color: #E2EBFA;\n",
              "      box-shadow: 0px 1px 2px rgba(60, 64, 67, 0.3), 0px 1px 3px 1px rgba(60, 64, 67, 0.15);\n",
              "      fill: #174EA6;\n",
              "    }\n",
              "\n",
              "    [theme=dark] .colab-df-convert {\n",
              "      background-color: #3B4455;\n",
              "      fill: #D2E3FC;\n",
              "    }\n",
              "\n",
              "    [theme=dark] .colab-df-convert:hover {\n",
              "      background-color: #434B5C;\n",
              "      box-shadow: 0px 1px 3px 1px rgba(0, 0, 0, 0.15);\n",
              "      filter: drop-shadow(0px 1px 2px rgba(0, 0, 0, 0.3));\n",
              "      fill: #FFFFFF;\n",
              "    }\n",
              "  </style>\n",
              "\n",
              "      <script>\n",
              "        const buttonEl =\n",
              "          document.querySelector('#df-1f7d8027-d49c-41dd-b9ed-73eb22d375b4 button.colab-df-convert');\n",
              "        buttonEl.style.display =\n",
              "          google.colab.kernel.accessAllowed ? 'block' : 'none';\n",
              "\n",
              "        async function convertToInteractive(key) {\n",
              "          const element = document.querySelector('#df-1f7d8027-d49c-41dd-b9ed-73eb22d375b4');\n",
              "          const dataTable =\n",
              "            await google.colab.kernel.invokeFunction('convertToInteractive',\n",
              "                                                     [key], {});\n",
              "          if (!dataTable) return;\n",
              "\n",
              "          const docLinkHtml = 'Like what you see? Visit the ' +\n",
              "            '<a target=\"_blank\" href=https://colab.research.google.com/notebooks/data_table.ipynb>data table notebook</a>'\n",
              "            + ' to learn more about interactive tables.';\n",
              "          element.innerHTML = '';\n",
              "          dataTable['output_type'] = 'display_data';\n",
              "          await google.colab.output.renderOutput(dataTable, element);\n",
              "          const docLink = document.createElement('div');\n",
              "          docLink.innerHTML = docLinkHtml;\n",
              "          element.appendChild(docLink);\n",
              "        }\n",
              "      </script>\n",
              "    </div>\n",
              "  </div>\n",
              "  "
            ]
          },
          "metadata": {},
          "execution_count": 158
        }
      ]
    },
    {
      "cell_type": "markdown",
      "source": [
        "1. Display top 3 rows of the dataset"
      ],
      "metadata": {
        "id": "XVNllh8bypDl"
      }
    },
    {
      "cell_type": "code",
      "source": [
        "data.head(3)"
      ],
      "metadata": {
        "colab": {
          "base_uri": "https://localhost:8080/",
          "height": 450
        },
        "id": "YK40GnN-0T1S",
        "outputId": "320f1e38-f331-454c-832f-71953f0f4c7b"
      },
      "execution_count": 159,
      "outputs": [
        {
          "output_type": "execute_result",
          "data": {
            "text/plain": [
              "                                             Address    Lot AM or PM  \\\n",
              "0  16629 Pace Camp Apt. 448\\nAlexisborough, NE 77...  46 in       PM   \n",
              "1  9374 Jasmine Spurs Suite 508\\nSouth John, TN 8...  28 rn       PM   \n",
              "2                   Unit 0065 Box 5052\\nDPO AP 27450  94 vE       PM   \n",
              "\n",
              "                                        Browser Info  \\\n",
              "0  Opera/9.56.(X11; Linux x86_64; sl-SI) Presto/2...   \n",
              "1  Opera/8.93.(Windows 98; Win 9x 4.90; en-US) Pr...   \n",
              "2  Mozilla/5.0 (compatible; MSIE 9.0; Windows NT ...   \n",
              "\n",
              "                           Company       Credit Card CC Exp Date  \\\n",
              "0                  Martinez-Herman  6011929061123406       02/20   \n",
              "1  Fletcher, Richards and Whitaker  3337758169645356       11/18   \n",
              "2       Simpson, Williams and Pham      675957666125       08/19   \n",
              "\n",
              "   CC Security Code   CC Provider                           Email  \\\n",
              "0               900  JCB 16 digit               pdunlap@yahoo.com   \n",
              "1               561    Mastercard              anthony41@reed.com   \n",
              "2               699  JCB 16 digit  amymiller@morales-harrison.com   \n",
              "\n",
              "                                      Job       IP Address Language  \\\n",
              "0  Scientist, product/process development  149.146.147.205       el   \n",
              "1                       Drilling engineer     15.160.41.51       fr   \n",
              "2                Customer service manager   132.207.160.22       de   \n",
              "\n",
              "   Purchase Price  \n",
              "0           98.14  \n",
              "1           70.73  \n",
              "2            0.95  "
            ],
            "text/html": [
              "\n",
              "  <div id=\"df-a75c3827-98e5-4b42-9d80-cbafdb342935\">\n",
              "    <div class=\"colab-df-container\">\n",
              "      <div>\n",
              "<style scoped>\n",
              "    .dataframe tbody tr th:only-of-type {\n",
              "        vertical-align: middle;\n",
              "    }\n",
              "\n",
              "    .dataframe tbody tr th {\n",
              "        vertical-align: top;\n",
              "    }\n",
              "\n",
              "    .dataframe thead th {\n",
              "        text-align: right;\n",
              "    }\n",
              "</style>\n",
              "<table border=\"1\" class=\"dataframe\">\n",
              "  <thead>\n",
              "    <tr style=\"text-align: right;\">\n",
              "      <th></th>\n",
              "      <th>Address</th>\n",
              "      <th>Lot</th>\n",
              "      <th>AM or PM</th>\n",
              "      <th>Browser Info</th>\n",
              "      <th>Company</th>\n",
              "      <th>Credit Card</th>\n",
              "      <th>CC Exp Date</th>\n",
              "      <th>CC Security Code</th>\n",
              "      <th>CC Provider</th>\n",
              "      <th>Email</th>\n",
              "      <th>Job</th>\n",
              "      <th>IP Address</th>\n",
              "      <th>Language</th>\n",
              "      <th>Purchase Price</th>\n",
              "    </tr>\n",
              "  </thead>\n",
              "  <tbody>\n",
              "    <tr>\n",
              "      <th>0</th>\n",
              "      <td>16629 Pace Camp Apt. 448\\nAlexisborough, NE 77...</td>\n",
              "      <td>46 in</td>\n",
              "      <td>PM</td>\n",
              "      <td>Opera/9.56.(X11; Linux x86_64; sl-SI) Presto/2...</td>\n",
              "      <td>Martinez-Herman</td>\n",
              "      <td>6011929061123406</td>\n",
              "      <td>02/20</td>\n",
              "      <td>900</td>\n",
              "      <td>JCB 16 digit</td>\n",
              "      <td>pdunlap@yahoo.com</td>\n",
              "      <td>Scientist, product/process development</td>\n",
              "      <td>149.146.147.205</td>\n",
              "      <td>el</td>\n",
              "      <td>98.14</td>\n",
              "    </tr>\n",
              "    <tr>\n",
              "      <th>1</th>\n",
              "      <td>9374 Jasmine Spurs Suite 508\\nSouth John, TN 8...</td>\n",
              "      <td>28 rn</td>\n",
              "      <td>PM</td>\n",
              "      <td>Opera/8.93.(Windows 98; Win 9x 4.90; en-US) Pr...</td>\n",
              "      <td>Fletcher, Richards and Whitaker</td>\n",
              "      <td>3337758169645356</td>\n",
              "      <td>11/18</td>\n",
              "      <td>561</td>\n",
              "      <td>Mastercard</td>\n",
              "      <td>anthony41@reed.com</td>\n",
              "      <td>Drilling engineer</td>\n",
              "      <td>15.160.41.51</td>\n",
              "      <td>fr</td>\n",
              "      <td>70.73</td>\n",
              "    </tr>\n",
              "    <tr>\n",
              "      <th>2</th>\n",
              "      <td>Unit 0065 Box 5052\\nDPO AP 27450</td>\n",
              "      <td>94 vE</td>\n",
              "      <td>PM</td>\n",
              "      <td>Mozilla/5.0 (compatible; MSIE 9.0; Windows NT ...</td>\n",
              "      <td>Simpson, Williams and Pham</td>\n",
              "      <td>675957666125</td>\n",
              "      <td>08/19</td>\n",
              "      <td>699</td>\n",
              "      <td>JCB 16 digit</td>\n",
              "      <td>amymiller@morales-harrison.com</td>\n",
              "      <td>Customer service manager</td>\n",
              "      <td>132.207.160.22</td>\n",
              "      <td>de</td>\n",
              "      <td>0.95</td>\n",
              "    </tr>\n",
              "  </tbody>\n",
              "</table>\n",
              "</div>\n",
              "      <button class=\"colab-df-convert\" onclick=\"convertToInteractive('df-a75c3827-98e5-4b42-9d80-cbafdb342935')\"\n",
              "              title=\"Convert this dataframe to an interactive table.\"\n",
              "              style=\"display:none;\">\n",
              "        \n",
              "  <svg xmlns=\"http://www.w3.org/2000/svg\" height=\"24px\"viewBox=\"0 0 24 24\"\n",
              "       width=\"24px\">\n",
              "    <path d=\"M0 0h24v24H0V0z\" fill=\"none\"/>\n",
              "    <path d=\"M18.56 5.44l.94 2.06.94-2.06 2.06-.94-2.06-.94-.94-2.06-.94 2.06-2.06.94zm-11 1L8.5 8.5l.94-2.06 2.06-.94-2.06-.94L8.5 2.5l-.94 2.06-2.06.94zm10 10l.94 2.06.94-2.06 2.06-.94-2.06-.94-.94-2.06-.94 2.06-2.06.94z\"/><path d=\"M17.41 7.96l-1.37-1.37c-.4-.4-.92-.59-1.43-.59-.52 0-1.04.2-1.43.59L10.3 9.45l-7.72 7.72c-.78.78-.78 2.05 0 2.83L4 21.41c.39.39.9.59 1.41.59.51 0 1.02-.2 1.41-.59l7.78-7.78 2.81-2.81c.8-.78.8-2.07 0-2.86zM5.41 20L4 18.59l7.72-7.72 1.47 1.35L5.41 20z\"/>\n",
              "  </svg>\n",
              "      </button>\n",
              "      \n",
              "  <style>\n",
              "    .colab-df-container {\n",
              "      display:flex;\n",
              "      flex-wrap:wrap;\n",
              "      gap: 12px;\n",
              "    }\n",
              "\n",
              "    .colab-df-convert {\n",
              "      background-color: #E8F0FE;\n",
              "      border: none;\n",
              "      border-radius: 50%;\n",
              "      cursor: pointer;\n",
              "      display: none;\n",
              "      fill: #1967D2;\n",
              "      height: 32px;\n",
              "      padding: 0 0 0 0;\n",
              "      width: 32px;\n",
              "    }\n",
              "\n",
              "    .colab-df-convert:hover {\n",
              "      background-color: #E2EBFA;\n",
              "      box-shadow: 0px 1px 2px rgba(60, 64, 67, 0.3), 0px 1px 3px 1px rgba(60, 64, 67, 0.15);\n",
              "      fill: #174EA6;\n",
              "    }\n",
              "\n",
              "    [theme=dark] .colab-df-convert {\n",
              "      background-color: #3B4455;\n",
              "      fill: #D2E3FC;\n",
              "    }\n",
              "\n",
              "    [theme=dark] .colab-df-convert:hover {\n",
              "      background-color: #434B5C;\n",
              "      box-shadow: 0px 1px 3px 1px rgba(0, 0, 0, 0.15);\n",
              "      filter: drop-shadow(0px 1px 2px rgba(0, 0, 0, 0.3));\n",
              "      fill: #FFFFFF;\n",
              "    }\n",
              "  </style>\n",
              "\n",
              "      <script>\n",
              "        const buttonEl =\n",
              "          document.querySelector('#df-a75c3827-98e5-4b42-9d80-cbafdb342935 button.colab-df-convert');\n",
              "        buttonEl.style.display =\n",
              "          google.colab.kernel.accessAllowed ? 'block' : 'none';\n",
              "\n",
              "        async function convertToInteractive(key) {\n",
              "          const element = document.querySelector('#df-a75c3827-98e5-4b42-9d80-cbafdb342935');\n",
              "          const dataTable =\n",
              "            await google.colab.kernel.invokeFunction('convertToInteractive',\n",
              "                                                     [key], {});\n",
              "          if (!dataTable) return;\n",
              "\n",
              "          const docLinkHtml = 'Like what you see? Visit the ' +\n",
              "            '<a target=\"_blank\" href=https://colab.research.google.com/notebooks/data_table.ipynb>data table notebook</a>'\n",
              "            + ' to learn more about interactive tables.';\n",
              "          element.innerHTML = '';\n",
              "          dataTable['output_type'] = 'display_data';\n",
              "          await google.colab.output.renderOutput(dataTable, element);\n",
              "          const docLink = document.createElement('div');\n",
              "          docLink.innerHTML = docLinkHtml;\n",
              "          element.appendChild(docLink);\n",
              "        }\n",
              "      </script>\n",
              "    </div>\n",
              "  </div>\n",
              "  "
            ]
          },
          "metadata": {},
          "execution_count": 159
        }
      ]
    },
    {
      "cell_type": "markdown",
      "source": [
        "2. Check last 3 row of the dataset"
      ],
      "metadata": {
        "id": "y24ArNL80cpC"
      }
    },
    {
      "cell_type": "code",
      "source": [
        "data.tail(3)"
      ],
      "metadata": {
        "colab": {
          "base_uri": "https://localhost:8080/",
          "height": 450
        },
        "id": "tRnLiAXK0fh0",
        "outputId": "d9dd41f0-1440-4a7c-ebfd-7b3308a3664f"
      },
      "execution_count": 160,
      "outputs": [
        {
          "output_type": "execute_result",
          "data": {
            "text/plain": [
              "                                             Address    Lot AM or PM  \\\n",
              "9997           Unit 4434 Box 6343\\nDPO AE 28026-0283  74 Zh       AM   \n",
              "9998            0096 English Rest\\nRoystad, IA 12457  74 cL       PM   \n",
              "9999  40674 Barrett Stravenue\\nGrimesville, WI 79682  64 Hr       AM   \n",
              "\n",
              "                                           Browser Info       Company  \\\n",
              "9997  Mozilla/5.0 (Macintosh; U; Intel Mac OS X 10_7...  Anderson Ltd   \n",
              "9998  Mozilla/5.0 (Macintosh; Intel Mac OS X 10_8_8;...      Cook Inc   \n",
              "9999  Mozilla/5.0 (X11; Linux i686; rv:1.9.5.20) Gec...    Greene Inc   \n",
              "\n",
              "           Credit Card CC Exp Date  CC Security Code       CC Provider  \\\n",
              "9997  6011539787356311       05/21                 1     VISA 16 digit   \n",
              "9998   180003348082930       11/17               987  American Express   \n",
              "9999  4139972901927273       02/19               302      JCB 15 digit   \n",
              "\n",
              "                        Email                       Job       IP Address  \\\n",
              "9997        tyler16@gmail.com        Veterinary surgeon    156.210.0.254   \n",
              "9998  elizabethmoore@reid.net  Local government officer     55.78.26.143   \n",
              "9999    rachelford@vaughn.com    Embryologist, clinical  176.119.198.199   \n",
              "\n",
              "     Language  Purchase Price  \n",
              "9997       el           83.98  \n",
              "9998       es           38.84  \n",
              "9999       el           67.59  "
            ],
            "text/html": [
              "\n",
              "  <div id=\"df-bd0afaa8-1db9-41f3-b5f9-51e50ab78ca3\">\n",
              "    <div class=\"colab-df-container\">\n",
              "      <div>\n",
              "<style scoped>\n",
              "    .dataframe tbody tr th:only-of-type {\n",
              "        vertical-align: middle;\n",
              "    }\n",
              "\n",
              "    .dataframe tbody tr th {\n",
              "        vertical-align: top;\n",
              "    }\n",
              "\n",
              "    .dataframe thead th {\n",
              "        text-align: right;\n",
              "    }\n",
              "</style>\n",
              "<table border=\"1\" class=\"dataframe\">\n",
              "  <thead>\n",
              "    <tr style=\"text-align: right;\">\n",
              "      <th></th>\n",
              "      <th>Address</th>\n",
              "      <th>Lot</th>\n",
              "      <th>AM or PM</th>\n",
              "      <th>Browser Info</th>\n",
              "      <th>Company</th>\n",
              "      <th>Credit Card</th>\n",
              "      <th>CC Exp Date</th>\n",
              "      <th>CC Security Code</th>\n",
              "      <th>CC Provider</th>\n",
              "      <th>Email</th>\n",
              "      <th>Job</th>\n",
              "      <th>IP Address</th>\n",
              "      <th>Language</th>\n",
              "      <th>Purchase Price</th>\n",
              "    </tr>\n",
              "  </thead>\n",
              "  <tbody>\n",
              "    <tr>\n",
              "      <th>9997</th>\n",
              "      <td>Unit 4434 Box 6343\\nDPO AE 28026-0283</td>\n",
              "      <td>74 Zh</td>\n",
              "      <td>AM</td>\n",
              "      <td>Mozilla/5.0 (Macintosh; U; Intel Mac OS X 10_7...</td>\n",
              "      <td>Anderson Ltd</td>\n",
              "      <td>6011539787356311</td>\n",
              "      <td>05/21</td>\n",
              "      <td>1</td>\n",
              "      <td>VISA 16 digit</td>\n",
              "      <td>tyler16@gmail.com</td>\n",
              "      <td>Veterinary surgeon</td>\n",
              "      <td>156.210.0.254</td>\n",
              "      <td>el</td>\n",
              "      <td>83.98</td>\n",
              "    </tr>\n",
              "    <tr>\n",
              "      <th>9998</th>\n",
              "      <td>0096 English Rest\\nRoystad, IA 12457</td>\n",
              "      <td>74 cL</td>\n",
              "      <td>PM</td>\n",
              "      <td>Mozilla/5.0 (Macintosh; Intel Mac OS X 10_8_8;...</td>\n",
              "      <td>Cook Inc</td>\n",
              "      <td>180003348082930</td>\n",
              "      <td>11/17</td>\n",
              "      <td>987</td>\n",
              "      <td>American Express</td>\n",
              "      <td>elizabethmoore@reid.net</td>\n",
              "      <td>Local government officer</td>\n",
              "      <td>55.78.26.143</td>\n",
              "      <td>es</td>\n",
              "      <td>38.84</td>\n",
              "    </tr>\n",
              "    <tr>\n",
              "      <th>9999</th>\n",
              "      <td>40674 Barrett Stravenue\\nGrimesville, WI 79682</td>\n",
              "      <td>64 Hr</td>\n",
              "      <td>AM</td>\n",
              "      <td>Mozilla/5.0 (X11; Linux i686; rv:1.9.5.20) Gec...</td>\n",
              "      <td>Greene Inc</td>\n",
              "      <td>4139972901927273</td>\n",
              "      <td>02/19</td>\n",
              "      <td>302</td>\n",
              "      <td>JCB 15 digit</td>\n",
              "      <td>rachelford@vaughn.com</td>\n",
              "      <td>Embryologist, clinical</td>\n",
              "      <td>176.119.198.199</td>\n",
              "      <td>el</td>\n",
              "      <td>67.59</td>\n",
              "    </tr>\n",
              "  </tbody>\n",
              "</table>\n",
              "</div>\n",
              "      <button class=\"colab-df-convert\" onclick=\"convertToInteractive('df-bd0afaa8-1db9-41f3-b5f9-51e50ab78ca3')\"\n",
              "              title=\"Convert this dataframe to an interactive table.\"\n",
              "              style=\"display:none;\">\n",
              "        \n",
              "  <svg xmlns=\"http://www.w3.org/2000/svg\" height=\"24px\"viewBox=\"0 0 24 24\"\n",
              "       width=\"24px\">\n",
              "    <path d=\"M0 0h24v24H0V0z\" fill=\"none\"/>\n",
              "    <path d=\"M18.56 5.44l.94 2.06.94-2.06 2.06-.94-2.06-.94-.94-2.06-.94 2.06-2.06.94zm-11 1L8.5 8.5l.94-2.06 2.06-.94-2.06-.94L8.5 2.5l-.94 2.06-2.06.94zm10 10l.94 2.06.94-2.06 2.06-.94-2.06-.94-.94-2.06-.94 2.06-2.06.94z\"/><path d=\"M17.41 7.96l-1.37-1.37c-.4-.4-.92-.59-1.43-.59-.52 0-1.04.2-1.43.59L10.3 9.45l-7.72 7.72c-.78.78-.78 2.05 0 2.83L4 21.41c.39.39.9.59 1.41.59.51 0 1.02-.2 1.41-.59l7.78-7.78 2.81-2.81c.8-.78.8-2.07 0-2.86zM5.41 20L4 18.59l7.72-7.72 1.47 1.35L5.41 20z\"/>\n",
              "  </svg>\n",
              "      </button>\n",
              "      \n",
              "  <style>\n",
              "    .colab-df-container {\n",
              "      display:flex;\n",
              "      flex-wrap:wrap;\n",
              "      gap: 12px;\n",
              "    }\n",
              "\n",
              "    .colab-df-convert {\n",
              "      background-color: #E8F0FE;\n",
              "      border: none;\n",
              "      border-radius: 50%;\n",
              "      cursor: pointer;\n",
              "      display: none;\n",
              "      fill: #1967D2;\n",
              "      height: 32px;\n",
              "      padding: 0 0 0 0;\n",
              "      width: 32px;\n",
              "    }\n",
              "\n",
              "    .colab-df-convert:hover {\n",
              "      background-color: #E2EBFA;\n",
              "      box-shadow: 0px 1px 2px rgba(60, 64, 67, 0.3), 0px 1px 3px 1px rgba(60, 64, 67, 0.15);\n",
              "      fill: #174EA6;\n",
              "    }\n",
              "\n",
              "    [theme=dark] .colab-df-convert {\n",
              "      background-color: #3B4455;\n",
              "      fill: #D2E3FC;\n",
              "    }\n",
              "\n",
              "    [theme=dark] .colab-df-convert:hover {\n",
              "      background-color: #434B5C;\n",
              "      box-shadow: 0px 1px 3px 1px rgba(0, 0, 0, 0.15);\n",
              "      filter: drop-shadow(0px 1px 2px rgba(0, 0, 0, 0.3));\n",
              "      fill: #FFFFFF;\n",
              "    }\n",
              "  </style>\n",
              "\n",
              "      <script>\n",
              "        const buttonEl =\n",
              "          document.querySelector('#df-bd0afaa8-1db9-41f3-b5f9-51e50ab78ca3 button.colab-df-convert');\n",
              "        buttonEl.style.display =\n",
              "          google.colab.kernel.accessAllowed ? 'block' : 'none';\n",
              "\n",
              "        async function convertToInteractive(key) {\n",
              "          const element = document.querySelector('#df-bd0afaa8-1db9-41f3-b5f9-51e50ab78ca3');\n",
              "          const dataTable =\n",
              "            await google.colab.kernel.invokeFunction('convertToInteractive',\n",
              "                                                     [key], {});\n",
              "          if (!dataTable) return;\n",
              "\n",
              "          const docLinkHtml = 'Like what you see? Visit the ' +\n",
              "            '<a target=\"_blank\" href=https://colab.research.google.com/notebooks/data_table.ipynb>data table notebook</a>'\n",
              "            + ' to learn more about interactive tables.';\n",
              "          element.innerHTML = '';\n",
              "          dataTable['output_type'] = 'display_data';\n",
              "          await google.colab.output.renderOutput(dataTable, element);\n",
              "          const docLink = document.createElement('div');\n",
              "          docLink.innerHTML = docLinkHtml;\n",
              "          element.appendChild(docLink);\n",
              "        }\n",
              "      </script>\n",
              "    </div>\n",
              "  </div>\n",
              "  "
            ]
          },
          "metadata": {},
          "execution_count": 160
        }
      ]
    },
    {
      "cell_type": "markdown",
      "source": [
        "3. List all the column names"
      ],
      "metadata": {
        "id": "2EDlLcjG0q5b"
      }
    },
    {
      "cell_type": "code",
      "source": [
        "list(data.columns)"
      ],
      "metadata": {
        "colab": {
          "base_uri": "https://localhost:8080/",
          "height": 0
        },
        "id": "QMxawupB0iJI",
        "outputId": "6c45f572-9078-4ad5-dad1-138bce02dc5a"
      },
      "execution_count": 161,
      "outputs": [
        {
          "output_type": "execute_result",
          "data": {
            "text/plain": [
              "['Address',\n",
              " 'Lot',\n",
              " 'AM or PM',\n",
              " 'Browser Info',\n",
              " 'Company',\n",
              " 'Credit Card',\n",
              " 'CC Exp Date',\n",
              " 'CC Security Code',\n",
              " 'CC Provider',\n",
              " 'Email',\n",
              " 'Job',\n",
              " 'IP Address',\n",
              " 'Language',\n",
              " 'Purchase Price']"
            ]
          },
          "metadata": {},
          "execution_count": 161
        }
      ]
    },
    {
      "cell_type": "markdown",
      "source": [
        "----"
      ],
      "metadata": {
        "id": "I3s2Z2JE2I2I"
      }
    },
    {
      "cell_type": "markdown",
      "source": [
        "4. Check dataType of each column"
      ],
      "metadata": {
        "id": "kGxb8z501FCa"
      }
    },
    {
      "cell_type": "code",
      "source": [
        "data.info()"
      ],
      "metadata": {
        "colab": {
          "base_uri": "https://localhost:8080/",
          "height": 0
        },
        "id": "XupYQjKv04kC",
        "outputId": "c7488296-5b1a-46dd-9c87-9a0079870140"
      },
      "execution_count": 162,
      "outputs": [
        {
          "output_type": "stream",
          "name": "stdout",
          "text": [
            "<class 'pandas.core.frame.DataFrame'>\n",
            "RangeIndex: 10000 entries, 0 to 9999\n",
            "Data columns (total 14 columns):\n",
            " #   Column            Non-Null Count  Dtype  \n",
            "---  ------            --------------  -----  \n",
            " 0   Address           10000 non-null  object \n",
            " 1   Lot               10000 non-null  object \n",
            " 2   AM or PM          10000 non-null  object \n",
            " 3   Browser Info      10000 non-null  object \n",
            " 4   Company           10000 non-null  object \n",
            " 5   Credit Card       10000 non-null  int64  \n",
            " 6   CC Exp Date       10000 non-null  object \n",
            " 7   CC Security Code  10000 non-null  int64  \n",
            " 8   CC Provider       10000 non-null  object \n",
            " 9   Email             10000 non-null  object \n",
            " 10  Job               10000 non-null  object \n",
            " 11  IP Address        10000 non-null  object \n",
            " 12  Language          10000 non-null  object \n",
            " 13  Purchase Price    10000 non-null  float64\n",
            "dtypes: float64(1), int64(2), object(11)\n",
            "memory usage: 1.1+ MB\n"
          ]
        }
      ]
    },
    {
      "cell_type": "code",
      "source": [
        "data.dtypes"
      ],
      "metadata": {
        "colab": {
          "base_uri": "https://localhost:8080/",
          "height": 0
        },
        "id": "3B08Iysj1Z-t",
        "outputId": "6af4a5b1-2a8d-4362-bf6b-7dc9578f9c57"
      },
      "execution_count": 163,
      "outputs": [
        {
          "output_type": "execute_result",
          "data": {
            "text/plain": [
              "Address              object\n",
              "Lot                  object\n",
              "AM or PM             object\n",
              "Browser Info         object\n",
              "Company              object\n",
              "Credit Card           int64\n",
              "CC Exp Date          object\n",
              "CC Security Code      int64\n",
              "CC Provider          object\n",
              "Email                object\n",
              "Job                  object\n",
              "IP Address           object\n",
              "Language             object\n",
              "Purchase Price      float64\n",
              "dtype: object"
            ]
          },
          "metadata": {},
          "execution_count": 163
        }
      ]
    },
    {
      "cell_type": "markdown",
      "source": [
        "----"
      ],
      "metadata": {
        "id": "yS6w-sRl1Zj2"
      }
    },
    {
      "cell_type": "markdown",
      "source": [
        "5. Check Null values in the dataset\n",
        "\n"
      ],
      "metadata": {
        "id": "rXqSz0Pp1VYE"
      }
    },
    {
      "cell_type": "code",
      "source": [
        "data.isnull().sum()"
      ],
      "metadata": {
        "colab": {
          "base_uri": "https://localhost:8080/",
          "height": 0
        },
        "id": "CGZHnDYG1JwG",
        "outputId": "15eb2eed-cb18-4bfa-c796-db264e20cfd9"
      },
      "execution_count": 164,
      "outputs": [
        {
          "output_type": "execute_result",
          "data": {
            "text/plain": [
              "Address             0\n",
              "Lot                 0\n",
              "AM or PM            0\n",
              "Browser Info        0\n",
              "Company             0\n",
              "Credit Card         0\n",
              "CC Exp Date         0\n",
              "CC Security Code    0\n",
              "CC Provider         0\n",
              "Email               0\n",
              "Job                 0\n",
              "IP Address          0\n",
              "Language            0\n",
              "Purchase Price      0\n",
              "dtype: int64"
            ]
          },
          "metadata": {},
          "execution_count": 164
        }
      ]
    },
    {
      "cell_type": "markdown",
      "source": [
        "----"
      ],
      "metadata": {
        "id": "3twGZOlc2EKY"
      }
    },
    {
      "cell_type": "markdown",
      "source": [
        "6. How many rows and column are there in our dataset"
      ],
      "metadata": {
        "id": "ldlLwbTk2LMz"
      }
    },
    {
      "cell_type": "code",
      "source": [
        "data.shape\n",
        "print(f\"Number of rows {data.shape[0]}\")\n",
        "print(f\"Number of columns {data.shape[1]}\")"
      ],
      "metadata": {
        "colab": {
          "base_uri": "https://localhost:8080/",
          "height": 0
        },
        "id": "FOeQ9xG_1v0b",
        "outputId": "941a71bc-944a-4a54-f1c0-555f1218a2f2"
      },
      "execution_count": 165,
      "outputs": [
        {
          "output_type": "stream",
          "name": "stdout",
          "text": [
            "Number of rows 10000\n",
            "Number of columns 14\n"
          ]
        }
      ]
    },
    {
      "cell_type": "markdown",
      "source": [
        "---\n",
        "---"
      ],
      "metadata": {
        "id": "Z5x-uN0W3uRI"
      }
    },
    {
      "cell_type": "code",
      "source": [
        "print(f\"Number of columns {len(data.columns)}\")\n",
        "print(f\"Number of rows {len(data)}\")"
      ],
      "metadata": {
        "colab": {
          "base_uri": "https://localhost:8080/",
          "height": 0
        },
        "id": "EbJ7qMtP2Tc8",
        "outputId": "1179c59f-8525-485c-946b-6853369a5235"
      },
      "execution_count": 166,
      "outputs": [
        {
          "output_type": "stream",
          "name": "stdout",
          "text": [
            "Number of columns 14\n",
            "Number of rows 10000\n"
          ]
        }
      ]
    },
    {
      "cell_type": "markdown",
      "source": [
        "----"
      ],
      "metadata": {
        "id": "_OmSp0dM32N2"
      }
    },
    {
      "cell_type": "markdown",
      "source": [
        "7. Highest and Lowest Purchase prices"
      ],
      "metadata": {
        "id": "qElfnJZz39T4"
      }
    },
    {
      "cell_type": "code",
      "source": [
        "data.columns"
      ],
      "metadata": {
        "colab": {
          "base_uri": "https://localhost:8080/",
          "height": 0
        },
        "id": "Zdk02T9M4-Dd",
        "outputId": "564d6fce-e314-4167-b338-5a2d4b477245"
      },
      "execution_count": 167,
      "outputs": [
        {
          "output_type": "execute_result",
          "data": {
            "text/plain": [
              "Index(['Address', 'Lot', 'AM or PM', 'Browser Info', 'Company', 'Credit Card',\n",
              "       'CC Exp Date', 'CC Security Code', 'CC Provider', 'Email', 'Job',\n",
              "       'IP Address', 'Language', 'Purchase Price'],\n",
              "      dtype='object')"
            ]
          },
          "metadata": {},
          "execution_count": 167
        }
      ]
    },
    {
      "cell_type": "code",
      "source": [
        "print(f\"Lowest Purchase price {data['Purchase Price'].min()}\")\n",
        "print(f\"Highest Purchase price {data['Purchase Price'].max()}\" )"
      ],
      "metadata": {
        "colab": {
          "base_uri": "https://localhost:8080/",
          "height": 0
        },
        "id": "_b2sDm3P31rC",
        "outputId": "3ef96279-d037-4459-d1c2-4e198559d806"
      },
      "execution_count": 168,
      "outputs": [
        {
          "output_type": "stream",
          "name": "stdout",
          "text": [
            "Lowest Purchase price 0.0\n",
            "Highest Purchase price 99.99\n"
          ]
        }
      ]
    },
    {
      "cell_type": "markdown",
      "source": [
        "----"
      ],
      "metadata": {
        "id": "AzT2Ic9246VY"
      }
    },
    {
      "cell_type": "markdown",
      "source": [
        "8. Average Purchase Price"
      ],
      "metadata": {
        "id": "BBBDdsZ35L5y"
      }
    },
    {
      "cell_type": "code",
      "source": [
        "data.columns"
      ],
      "metadata": {
        "colab": {
          "base_uri": "https://localhost:8080/",
          "height": 0
        },
        "id": "QmQAE7-45Xl5",
        "outputId": "fd01d09a-322b-426e-9aa9-654fd5f91191"
      },
      "execution_count": 169,
      "outputs": [
        {
          "output_type": "execute_result",
          "data": {
            "text/plain": [
              "Index(['Address', 'Lot', 'AM or PM', 'Browser Info', 'Company', 'Credit Card',\n",
              "       'CC Exp Date', 'CC Security Code', 'CC Provider', 'Email', 'Job',\n",
              "       'IP Address', 'Language', 'Purchase Price'],\n",
              "      dtype='object')"
            ]
          },
          "metadata": {},
          "execution_count": 169
        }
      ]
    },
    {
      "cell_type": "code",
      "source": [
        "print(f\"Average purchase price is {data['Purchase Price'].mean()}\")"
      ],
      "metadata": {
        "colab": {
          "base_uri": "https://localhost:8080/",
          "height": 0
        },
        "id": "HE3WUp8V3Hrj",
        "outputId": "fd7baf32-1d38-4284-b966-79ca61307418"
      },
      "execution_count": 170,
      "outputs": [
        {
          "output_type": "stream",
          "name": "stdout",
          "text": [
            "Average purchase price is 50.347302\n"
          ]
        }
      ]
    },
    {
      "cell_type": "markdown",
      "source": [
        "----"
      ],
      "metadata": {
        "id": "Vch2LSPH6heh"
      }
    },
    {
      "cell_type": "markdown",
      "source": [
        "9. How many people have french \"fr\" as their language?"
      ],
      "metadata": {
        "id": "Ma7nhv7v3iiZ"
      }
    },
    {
      "cell_type": "code",
      "source": [
        "data.columns"
      ],
      "metadata": {
        "id": "luTanbi25VIB",
        "colab": {
          "base_uri": "https://localhost:8080/",
          "height": 0
        },
        "outputId": "e0945b58-3167-4a97-873e-ade1791c87c9"
      },
      "execution_count": 171,
      "outputs": [
        {
          "output_type": "execute_result",
          "data": {
            "text/plain": [
              "Index(['Address', 'Lot', 'AM or PM', 'Browser Info', 'Company', 'Credit Card',\n",
              "       'CC Exp Date', 'CC Security Code', 'CC Provider', 'Email', 'Job',\n",
              "       'IP Address', 'Language', 'Purchase Price'],\n",
              "      dtype='object')"
            ]
          },
          "metadata": {},
          "execution_count": 171
        }
      ]
    },
    {
      "cell_type": "code",
      "source": [
        "data['Language'].value_counts()"
      ],
      "metadata": {
        "colab": {
          "base_uri": "https://localhost:8080/",
          "height": 0
        },
        "id": "jKtDr39r34BC",
        "outputId": "d35b7c1a-961b-4ab8-d14f-dc5e6217a8f1"
      },
      "execution_count": 172,
      "outputs": [
        {
          "output_type": "execute_result",
          "data": {
            "text/plain": [
              "de    1155\n",
              "ru    1155\n",
              "el    1137\n",
              "pt    1118\n",
              "en    1098\n",
              "fr    1097\n",
              "es    1095\n",
              "it    1086\n",
              "zh    1059\n",
              "Name: Language, dtype: int64"
            ]
          },
          "metadata": {},
          "execution_count": 172
        }
      ]
    },
    {
      "cell_type": "code",
      "source": [
        "len(data[data['Language'] == 'fr'])"
      ],
      "metadata": {
        "colab": {
          "base_uri": "https://localhost:8080/",
          "height": 0
        },
        "id": "NB1C8Ftj4I65",
        "outputId": "88e64337-5075-4bed-90b7-5b2f69111e0a"
      },
      "execution_count": 173,
      "outputs": [
        {
          "output_type": "execute_result",
          "data": {
            "text/plain": [
              "1097"
            ]
          },
          "metadata": {},
          "execution_count": 173
        }
      ]
    },
    {
      "cell_type": "code",
      "source": [
        "data[data['Language'] == 'fr'].count()"
      ],
      "metadata": {
        "colab": {
          "base_uri": "https://localhost:8080/",
          "height": 0
        },
        "id": "lkQLyNTU4Y7Y",
        "outputId": "482da2ff-6fab-4db7-888e-f75b889fc0e4"
      },
      "execution_count": 174,
      "outputs": [
        {
          "output_type": "execute_result",
          "data": {
            "text/plain": [
              "Address             1097\n",
              "Lot                 1097\n",
              "AM or PM            1097\n",
              "Browser Info        1097\n",
              "Company             1097\n",
              "Credit Card         1097\n",
              "CC Exp Date         1097\n",
              "CC Security Code    1097\n",
              "CC Provider         1097\n",
              "Email               1097\n",
              "Job                 1097\n",
              "IP Address          1097\n",
              "Language            1097\n",
              "Purchase Price      1097\n",
              "dtype: int64"
            ]
          },
          "metadata": {},
          "execution_count": 174
        }
      ]
    },
    {
      "cell_type": "markdown",
      "source": [
        "----"
      ],
      "metadata": {
        "id": "7CVeAyNB6eqE"
      }
    },
    {
      "cell_type": "markdown",
      "source": [
        "10. Job title contain Engineer"
      ],
      "metadata": {
        "id": "hCQXMA5x6ovJ"
      }
    },
    {
      "cell_type": "code",
      "source": [
        "data.columns"
      ],
      "metadata": {
        "colab": {
          "base_uri": "https://localhost:8080/",
          "height": 0
        },
        "id": "wNV-UJIa6a5Q",
        "outputId": "16b37ef8-45e3-468f-d277-2be1469cd7d8"
      },
      "execution_count": 175,
      "outputs": [
        {
          "output_type": "execute_result",
          "data": {
            "text/plain": [
              "Index(['Address', 'Lot', 'AM or PM', 'Browser Info', 'Company', 'Credit Card',\n",
              "       'CC Exp Date', 'CC Security Code', 'CC Provider', 'Email', 'Job',\n",
              "       'IP Address', 'Language', 'Purchase Price'],\n",
              "      dtype='object')"
            ]
          },
          "metadata": {},
          "execution_count": 175
        }
      ]
    },
    {
      "cell_type": "code",
      "source": [
        "data[\"Job\"].unique()"
      ],
      "metadata": {
        "colab": {
          "base_uri": "https://localhost:8080/",
          "height": 0
        },
        "id": "rkMMzRaO6vAz",
        "outputId": "3f0e4be4-bb28-4135-b7a9-309297e9aa77"
      },
      "execution_count": 176,
      "outputs": [
        {
          "output_type": "execute_result",
          "data": {
            "text/plain": [
              "array(['Scientist, product/process development', 'Drilling engineer',\n",
              "       'Customer service manager', 'Fine artist', 'Fish farm manager',\n",
              "       'Dancer', 'Event organiser', 'Financial manager',\n",
              "       'Forensic scientist', 'Development worker, community',\n",
              "       'Diagnostic radiographer', 'Surveyor, quantity',\n",
              "       'Accountant, chartered public finance', 'Acupuncturist',\n",
              "       'Retail manager', 'Therapist, art', 'Designer, jewellery',\n",
              "       'Photographer', 'Designer, interior/spatial',\n",
              "       'Public relations officer', 'Presenter, broadcasting',\n",
              "       'Field seismologist', 'Musician',\n",
              "       'Training and development officer', \"Barrister's clerk\",\n",
              "       'Careers adviser', 'Scientist, research (life sciences)',\n",
              "       'Recycling officer', 'Fisheries officer', 'Sales executive',\n",
              "       'Civil Service fast streamer', 'Theatre stage manager',\n",
              "       'Therapist, music', 'Lecturer, further education',\n",
              "       'Animal technologist', 'Psychologist, occupational',\n",
              "       'Music therapist', 'Minerals surveyor',\n",
              "       'Tourist information centre manager', 'Tax inspector',\n",
              "       'Buyer, industrial', 'Purchasing manager', 'Heritage manager',\n",
              "       'Games developer', 'Facilities manager', 'Chemist, analytical',\n",
              "       'Horticulturist, amenity', 'Mechanical engineer',\n",
              "       'Clinical research associate', 'Technical author',\n",
              "       'Radio broadcast assistant', 'Engineer, broadcasting (operations)',\n",
              "       'Clothing/textile technologist', 'Holiday representative',\n",
              "       'Housing manager/officer', 'Teacher, special educational needs',\n",
              "       'Engineer, agricultural', 'Buyer, retail',\n",
              "       'Doctor, general practice', 'Hotel manager',\n",
              "       'Engineer, civil (consulting)', 'General practice doctor',\n",
              "       'Jewellery designer', 'Therapist, speech and language',\n",
              "       'Operational researcher', 'Graphic designer',\n",
              "       'Editorial assistant', 'Financial adviser', 'Paramedic',\n",
              "       'Secretary, company', 'Paediatric nurse',\n",
              "       'Data processing manager', 'Print production planner',\n",
              "       'Engineer, materials', 'Economist', 'Designer, furniture',\n",
              "       'Human resources officer', 'Administrator',\n",
              "       'Teacher, secondary school', 'Video editor',\n",
              "       'Chartered certified accountant',\n",
              "       'Teacher, English as a foreign language', 'Airline pilot',\n",
              "       'Engineer, land', 'Legal secretary', 'Administrator, arts',\n",
              "       'Dealer', 'Town planner', 'Travel agency manager',\n",
              "       'Engineer, water', 'Lecturer, higher education',\n",
              "       'Higher education careers adviser', 'Intelligence analyst',\n",
              "       'Technical sales engineer', 'Dietitian',\n",
              "       'International aid/development worker',\n",
              "       'Learning disability nurse', 'Geneticist, molecular',\n",
              "       'Optometrist', 'Building surveyor', 'Sports therapist',\n",
              "       'Geophysical data processor', 'Multimedia programmer',\n",
              "       'Research scientist (maths)', 'Social worker', 'Camera operator',\n",
              "       'Interpreter', 'Furniture designer', 'Commercial horticulturist',\n",
              "       'Surgeon', 'Psychotherapist, dance movement',\n",
              "       'Information systems manager', 'Music tutor',\n",
              "       'Merchandiser, retail', 'Insurance risk surveyor',\n",
              "       'Armed forces operational officer', 'Homeopath',\n",
              "       'Animal nutritionist', 'Tourism officer', 'Cabin crew',\n",
              "       'Psychiatric nurse', 'Magazine features editor',\n",
              "       'Chartered management accountant', 'Market researcher',\n",
              "       'Mudlogger', 'Textile designer', 'Restaurant manager, fast food',\n",
              "       'Medical laboratory scientific officer',\n",
              "       'Chartered public finance accountant', 'Financial trader',\n",
              "       'Scientist, marine', 'Environmental manager',\n",
              "       'Community education officer', 'Solicitor',\n",
              "       'Psychologist, clinical', 'Occupational therapist',\n",
              "       'Retail merchandiser', 'Mental health nurse', 'Ophthalmologist',\n",
              "       'Insurance underwriter', 'Engineer, aeronautical',\n",
              "       'Chartered accountant', 'Environmental health practitioner',\n",
              "       'Research scientist (life sciences)', 'Wellsite geologist',\n",
              "       'Product designer', 'Armed forces technical officer',\n",
              "       'Television/film/video producer', 'Water quality scientist',\n",
              "       'Furniture conservator/restorer', 'Radio producer',\n",
              "       'Programmer, multimedia', 'Scientist, biomedical',\n",
              "       'Psychologist, sport and exercise', 'Merchant navy officer',\n",
              "       'Designer, television/film set', 'Engineering geologist',\n",
              "       'Health and safety inspector', 'Naval architect', 'Chiropodist',\n",
              "       'Engineer, chemical', 'Scientist, research (medical)',\n",
              "       'Personal assistant', 'Retail banker',\n",
              "       'Advertising account planner', 'Art therapist',\n",
              "       'Forest/woodland manager', 'Research scientist (medical)',\n",
              "       'Scientific laboratory technician', 'Licensed conveyancer',\n",
              "       'Engineer, building services', 'Energy engineer', 'Teacher, music',\n",
              "       'Oncologist', 'Brewing technologist', 'Community arts worker',\n",
              "       'Therapist, drama', 'Water engineer', 'Software engineer',\n",
              "       'Geochemist', 'Designer, industrial/product',\n",
              "       'Nature conservation officer',\n",
              "       'Production designer, theatre/television/film',\n",
              "       'Commercial art gallery manager', 'Exhibition designer',\n",
              "       'Education officer, environmental',\n",
              "       'Runner, broadcasting/film/video', 'Pharmacist, hospital',\n",
              "       'Doctor, hospital', 'Teacher, adult education', 'Sub',\n",
              "       'Podiatrist', 'Air broker', 'Engineer, civil (contracting)',\n",
              "       'Lexicographer', 'Speech and language therapist',\n",
              "       'Catering manager', 'Colour technologist', 'Surveyor, building',\n",
              "       'Agricultural consultant', 'Horticultural therapist',\n",
              "       'Pension scheme manager', 'Theatre manager', 'Producer, radio',\n",
              "       'Scientist, forensic', 'Surveyor, insurance',\n",
              "       'Hospital pharmacist', 'Surveyor, rural practice',\n",
              "       'Industrial/product designer', 'Corporate treasurer',\n",
              "       'Structural engineer', 'Research officer, trade union',\n",
              "       'Pensions consultant', 'Secretary/administrator', 'Firefighter',\n",
              "       'Database administrator', 'Health promotion specialist',\n",
              "       'Operations geologist', 'Regulatory affairs officer',\n",
              "       'Production assistant, radio', 'Press sub',\n",
              "       'Education administrator', 'Biomedical scientist', 'Tour manager',\n",
              "       'Midwife', 'Television floor manager', 'Mining engineer',\n",
              "       'Interior and spatial designer', 'Engineer, energy',\n",
              "       'Publishing rights manager', 'Manufacturing systems engineer',\n",
              "       'Designer, exhibition/display',\n",
              "       'Control and instrumentation engineer', 'Ergonomist',\n",
              "       'Scientist, research (maths)', 'Psychologist, forensic',\n",
              "       'Clinical scientist, histocompatibility and immunogenetics',\n",
              "       'Accommodation manager', 'Administrator, sports',\n",
              "       'Sports development officer', 'Educational psychologist',\n",
              "       'Social research officer, government', 'Quarry manager',\n",
              "       'Medical sales representative', 'Consulting civil engineer',\n",
              "       'Trade union research officer', 'Financial planner',\n",
              "       'Futures trader', 'Medical illustrator', 'Engineer, structural',\n",
              "       'Transport planner', 'Special educational needs teacher',\n",
              "       'Chiropractor', 'Therapist, sports',\n",
              "       'Scientist, research (physical sciences)', 'Site engineer',\n",
              "       'Psychologist, counselling', 'Bonds trader', 'Banker',\n",
              "       'Proofreader', 'Social researcher', 'Analytical chemist',\n",
              "       'Dramatherapist', 'Editor, commissioning', 'Sports administrator',\n",
              "       'Sport and exercise psychologist', 'Garment/textile technologist',\n",
              "       'Engineer, maintenance (IT)', 'Surveyor, building control',\n",
              "       'Media planner', 'Statistician', 'Food technologist',\n",
              "       'Chartered loss adjuster', 'Petroleum engineer',\n",
              "       'Engineer, maintenance', 'Television camera operator',\n",
              "       'Geoscientist', 'Printmaker', 'Artist', 'Hospital doctor',\n",
              "       'Systems analyst', 'Radiographer, therapeutic',\n",
              "       'Freight forwarder', 'Call centre manager', 'Theatre director',\n",
              "       'Occupational psychologist', 'Communications engineer',\n",
              "       'Land/geomatics surveyor', 'Advertising account executive',\n",
              "       'Civil engineer, consulting', 'Medical secretary',\n",
              "       'IT technical support officer', 'Advice worker',\n",
              "       'Visual merchandiser', 'Nurse, mental health',\n",
              "       'Further education lecturer', 'Investment banker, corporate',\n",
              "       'Bookseller', 'Engineer, production', 'Health visitor',\n",
              "       'Archivist', 'Recruitment consultant',\n",
              "       'Conservator, museum/gallery', 'Translator', 'Youth worker',\n",
              "       'Operational investment banker',\n",
              "       'Radiation protection practitioner',\n",
              "       'Research officer, political party', 'Make',\n",
              "       'Horticulturist, commercial', 'Surveyor, hydrographic',\n",
              "       'Engineer, communications', 'Surveyor, minerals', 'Hydrologist',\n",
              "       'Race relations officer', 'Quantity surveyor',\n",
              "       'Geologist, wellsite', 'Museum/gallery conservator',\n",
              "       'Community pharmacist', 'Adult guidance worker',\n",
              "       'Building control surveyor', 'Museum/gallery exhibitions officer',\n",
              "       'Ambulance person', 'Probation officer', 'Orthoptist',\n",
              "       'Charity officer', 'Risk analyst', 'Best boy',\n",
              "       'Arts administrator',\n",
              "       'Lighting technician, broadcasting/film/video',\n",
              "       'Engineer, drilling', 'Engineer, control and instrumentation',\n",
              "       'Medical physicist', 'Dispensing optician',\n",
              "       'Management consultant', 'Commercial/residential surveyor',\n",
              "       'English as a foreign language teacher', 'Engineer, site',\n",
              "       'Automotive engineer', 'Air traffic controller', 'Lawyer',\n",
              "       'Contracting civil engineer', 'Psychotherapist, child',\n",
              "       'Maintenance engineer', 'Science writer',\n",
              "       'Administrator, education', 'Administrator, Civil Service',\n",
              "       'Estate manager/land agent', 'Company secretary',\n",
              "       'Therapist, horticultural', 'Broadcast engineer',\n",
              "       'Sound technician, broadcasting/film/video',\n",
              "       'Private music teacher', 'Engineer, manufacturing',\n",
              "       'Emergency planning/management officer', 'Risk manager',\n",
              "       'IT consultant', 'Geographical information systems officer',\n",
              "       'Equities trader', 'Immigration officer',\n",
              "       'Therapeutic radiographer', 'Curator', 'Child psychotherapist',\n",
              "       'Advertising art director', 'Forensic psychologist',\n",
              "       'Hydrographic surveyor', 'Immunologist', 'Sports coach',\n",
              "       'Haematologist', 'Waste management officer',\n",
              "       'Conservator, furniture', 'Research officer, government',\n",
              "       'Agricultural engineer', 'IT sales professional',\n",
              "       'Armed forces logistics/support/administrative officer',\n",
              "       'Field trials officer', 'Psychotherapist', 'Air cabin crew',\n",
              "       'Psychiatrist', 'Illustrator', 'Marine scientist',\n",
              "       'Multimedia specialist', 'Cytogeneticist',\n",
              "       'Occupational hygienist', 'Charity fundraiser',\n",
              "       'Planning and development surveyor', 'Counselling psychologist',\n",
              "       'Physicist, medical', 'TEFL teacher',\n",
              "       'Research scientist (physical sciences)', 'Fashion designer',\n",
              "       'Engineer, petroleum', 'Tree surgeon',\n",
              "       'Corporate investment banker', 'Public house manager',\n",
              "       'Designer, textile', 'Public librarian',\n",
              "       'Arts development officer', 'Actor', 'Hydrogeologist',\n",
              "       'Production assistant, television', 'Embryologist, clinical',\n",
              "       'Press photographer', 'Marketing executive',\n",
              "       'Television production assistant', 'Early years teacher',\n",
              "       'Landscape architect', 'Librarian, academic', 'Web designer',\n",
              "       'Health service manager', 'Clinical psychologist',\n",
              "       'Exercise physiologist', 'Electrical engineer',\n",
              "       'Psychologist, prison and probation services',\n",
              "       'Journalist, magazine', 'Dance movement psychotherapist',\n",
              "       'Animator', 'Legal executive', 'Plant breeder/geneticist',\n",
              "       'Manufacturing engineer', 'Microbiologist', 'Biochemist, clinical',\n",
              "       'Broadcast presenter', 'Ranger/warden',\n",
              "       'Programme researcher, broadcasting/film/video', 'Dentist',\n",
              "       'Aid worker', 'Publishing copy', 'Environmental education officer',\n",
              "       'Librarian, public', 'Phytotherapist', 'Nurse, adult',\n",
              "       'Programmer, systems', 'Scientist, physiological',\n",
              "       'Secondary school teacher', 'Media buyer', 'Trade mark attorney',\n",
              "       'Editor, film/video', 'Careers information officer',\n",
              "       'Retail buyer', 'Ship broker', 'Lobbyist', 'Location manager',\n",
              "       'Surveyor, mining', 'Systems developer', 'Optician, dispensing',\n",
              "       'Chemical engineer', 'Oceanographer', 'Patent attorney',\n",
              "       'Passenger transport manager', 'Glass blower/designer',\n",
              "       'Psychologist, educational', 'Education officer, museum',\n",
              "       'Patent examiner', 'Logistics and distribution manager',\n",
              "       'Trading standards officer', 'Seismic interpreter',\n",
              "       'Local government officer', 'Clinical cytogeneticist',\n",
              "       'Biomedical engineer', 'Diplomatic Services operational officer',\n",
              "       'Land', 'Surveyor, planning and development', 'Farm manager',\n",
              "       'Claims inspector/assessor', 'Warden/ranger',\n",
              "       'Civil engineer, contracting', 'Clinical molecular geneticist',\n",
              "       'Surveyor, land/geomatics', 'Therapist, nutritional',\n",
              "       'Historic buildings inspector/conservation officer',\n",
              "       'English as a second language teacher', 'Materials engineer',\n",
              "       'Insurance broker', 'Ecologist', 'Production manager',\n",
              "       'Veterinary surgeon', 'Pilot, airline', \"Nurse, children's\",\n",
              "       'Astronomer', 'Architect', 'Conservation officer, nature',\n",
              "       'Personnel officer', 'Network engineer', 'Investment analyst',\n",
              "       'Writer', 'Designer, fashion/clothing', 'Theme park manager',\n",
              "       'Engineer, electrical', 'Art gallery manager', 'Office manager',\n",
              "       'Pharmacologist', 'Meteorologist', 'Estate agent',\n",
              "       \"Politician's assistant\", 'Environmental consultant', 'Osteopath',\n",
              "       'Amenity horticulturist', 'Physiological scientist',\n",
              "       'Public relations account executive',\n",
              "       'Senior tax professional/tax inspector', 'Arboriculturist',\n",
              "       'Radiographer, diagnostic', 'Engineer, automotive',\n",
              "       'Editor, magazine features', 'Sales professional, IT',\n",
              "       'Commissioning editor', 'Ceramics designer',\n",
              "       'Scientist, clinical (histocompatibility and immunogenetics)',\n",
              "       'Geologist, engineering', 'Designer, multimedia',\n",
              "       'Engineer, manufacturing systems', 'Clinical embryologist',\n",
              "       'Medical technical officer', 'Teacher, primary school',\n",
              "       'Set designer', 'Producer, television/film/video',\n",
              "       'Education officer, community',\n",
              "       'Conservation officer, historic buildings',\n",
              "       'Insurance account manager', 'Financial controller',\n",
              "       'Film/video editor', 'Museum/gallery curator',\n",
              "       'Accounting technician', 'Stage manager', 'Physiotherapist',\n",
              "       'Sales promotion account executive', 'Horticultural consultant',\n",
              "       'Journalist, broadcasting', 'Health and safety adviser',\n",
              "       'Building services engineer',\n",
              "       'Product/process development scientist', 'Metallurgist',\n",
              "       'Audiological scientist', 'Designer, blown glass/stained glass',\n",
              "       'Tax adviser', 'Industrial buyer',\n",
              "       'Government social research officer',\n",
              "       'Outdoor activities/education manager', 'Solicitor, Scotland',\n",
              "       'Conference centre manager', 'Health physicist',\n",
              "       'Pharmacist, community', 'Applications developer',\n",
              "       'Public affairs consultant', 'Prison officer',\n",
              "       'Production engineer', 'Actuary', 'Museum education officer',\n",
              "       'Fitness centre manager', 'Records manager',\n",
              "       'Journalist, newspaper', 'Computer games developer',\n",
              "       'Toxicologist', 'Counsellor', 'Therapist, occupational',\n",
              "       'Accountant, chartered certified', 'Insurance claims handler',\n",
              "       'Programmer, applications', 'Accountant, chartered management',\n",
              "       'Broadcast journalist', 'Energy manager', 'Barrister',\n",
              "       'Scientist, audiological', 'Designer, graphic', 'Cartographer',\n",
              "       'Community development worker', 'Engineer, mining',\n",
              "       'Special effects artist', 'Gaffer', 'Civil Service administrator',\n",
              "       'Armed forces training and education officer', 'Quality manager',\n",
              "       'Engineer, electronics', 'Development worker, international aid',\n",
              "       'Restaurant manager', 'Architectural technologist',\n",
              "       'Academic librarian', 'Fast food restaurant manager',\n",
              "       'Rural practice surveyor', 'Designer, ceramics/pottery',\n",
              "       'Police officer', 'Soil scientist', 'Technical brewer',\n",
              "       'Administrator, local government', 'Copywriter, advertising',\n",
              "       'Volunteer coordinator', 'Magazine journalist',\n",
              "       'Information officer', 'Copy', 'Advertising copywriter',\n",
              "       'Engineer, biomedical', 'Nurse, learning disability',\n",
              "       'Aeronautical engineer', 'Archaeologist', 'IT trainer',\n",
              "       'Clinical biochemist',\n",
              "       'Administrator, charities/voluntary organisations', 'Pathologist',\n",
              "       'Geophysicist/field seismologist',\n",
              "       'Investment banker, operational', 'Teacher, early years/pre',\n",
              "       'Electronics engineer', 'Exhibitions officer, museum/gallery',\n",
              "       'Nutritional therapist', 'Teaching laboratory technician',\n",
              "       'Herbalist', 'Leisure centre manager', 'Higher education lecturer',\n",
              "       'Newspaper journalist', 'Accountant, chartered',\n",
              "       'Loss adjuster, chartered', 'Surveyor, commercial/residential',\n",
              "       'Warehouse manager', 'Scientist, water quality',\n",
              "       'Primary school teacher',\n",
              "       'Chartered legal executive (England and Wales)',\n",
              "       'Telecommunications researcher', 'Equality and diversity officer',\n",
              "       'Learning mentor', 'Financial risk analyst',\n",
              "       'Engineer, technical sales', 'Adult nurse'], dtype=object)"
            ]
          },
          "metadata": {},
          "execution_count": 176
        }
      ]
    },
    {
      "cell_type": "code",
      "source": [
        "len(data[data['Job'].str.contains('engineer', case= False)])"
      ],
      "metadata": {
        "colab": {
          "base_uri": "https://localhost:8080/",
          "height": 0
        },
        "id": "1rsYOabH6ziz",
        "outputId": "b5368bf8-b0cb-45a6-a3c2-7289124e8a44"
      },
      "execution_count": 177,
      "outputs": [
        {
          "output_type": "execute_result",
          "data": {
            "text/plain": [
              "984"
            ]
          },
          "metadata": {},
          "execution_count": 177
        }
      ]
    },
    {
      "cell_type": "markdown",
      "source": [
        "----"
      ],
      "metadata": {
        "id": "tQvN5cru8so_"
      }
    },
    {
      "cell_type": "markdown",
      "source": [
        "11. Find the email of the person with the following ip address: 132.207.160.22"
      ],
      "metadata": {
        "id": "X0_u4kZ58v7E"
      }
    },
    {
      "cell_type": "code",
      "source": [
        "data.columns"
      ],
      "metadata": {
        "colab": {
          "base_uri": "https://localhost:8080/",
          "height": 0
        },
        "id": "kRFZfuW-7rL6",
        "outputId": "31a24ed3-1f46-4121-e952-f87d94dc74a7"
      },
      "execution_count": 178,
      "outputs": [
        {
          "output_type": "execute_result",
          "data": {
            "text/plain": [
              "Index(['Address', 'Lot', 'AM or PM', 'Browser Info', 'Company', 'Credit Card',\n",
              "       'CC Exp Date', 'CC Security Code', 'CC Provider', 'Email', 'Job',\n",
              "       'IP Address', 'Language', 'Purchase Price'],\n",
              "      dtype='object')"
            ]
          },
          "metadata": {},
          "execution_count": 178
        }
      ]
    },
    {
      "cell_type": "code",
      "source": [
        "data[data['IP Address'] == '132.207.160.22'].Email"
      ],
      "metadata": {
        "colab": {
          "base_uri": "https://localhost:8080/",
          "height": 0
        },
        "id": "c-LcDHMY87Sb",
        "outputId": "569dd97d-0406-4110-9a04-8670078e2147"
      },
      "execution_count": 179,
      "outputs": [
        {
          "output_type": "execute_result",
          "data": {
            "text/plain": [
              "2    amymiller@morales-harrison.com\n",
              "Name: Email, dtype: object"
            ]
          },
          "metadata": {},
          "execution_count": 179
        }
      ]
    },
    {
      "cell_type": "markdown",
      "source": [
        "----"
      ],
      "metadata": {
        "id": "shJWmlim9cku"
      }
    },
    {
      "cell_type": "markdown",
      "source": [
        "12. How many people have mastercard as their credit card provider and made apurchase above 50?"
      ],
      "metadata": {
        "id": "_YQ6Ow3w9f2r"
      }
    },
    {
      "cell_type": "code",
      "source": [
        "data.info() #to check datatype"
      ],
      "metadata": {
        "colab": {
          "base_uri": "https://localhost:8080/",
          "height": 0
        },
        "id": "7l2Kdf75-Msk",
        "outputId": "1c7a1701-1cda-42df-8160-1334ea7a561b"
      },
      "execution_count": 180,
      "outputs": [
        {
          "output_type": "stream",
          "name": "stdout",
          "text": [
            "<class 'pandas.core.frame.DataFrame'>\n",
            "RangeIndex: 10000 entries, 0 to 9999\n",
            "Data columns (total 14 columns):\n",
            " #   Column            Non-Null Count  Dtype  \n",
            "---  ------            --------------  -----  \n",
            " 0   Address           10000 non-null  object \n",
            " 1   Lot               10000 non-null  object \n",
            " 2   AM or PM          10000 non-null  object \n",
            " 3   Browser Info      10000 non-null  object \n",
            " 4   Company           10000 non-null  object \n",
            " 5   Credit Card       10000 non-null  int64  \n",
            " 6   CC Exp Date       10000 non-null  object \n",
            " 7   CC Security Code  10000 non-null  int64  \n",
            " 8   CC Provider       10000 non-null  object \n",
            " 9   Email             10000 non-null  object \n",
            " 10  Job               10000 non-null  object \n",
            " 11  IP Address        10000 non-null  object \n",
            " 12  Language          10000 non-null  object \n",
            " 13  Purchase Price    10000 non-null  float64\n",
            "dtypes: float64(1), int64(2), object(11)\n",
            "memory usage: 1.1+ MB\n"
          ]
        }
      ]
    },
    {
      "cell_type": "code",
      "source": [
        "len(data[(data['CC Provider'] == 'Mastercard') & (data['Purchase Price'] > 50)])"
      ],
      "metadata": {
        "colab": {
          "base_uri": "https://localhost:8080/",
          "height": 0
        },
        "id": "27rUm9-u9cBL",
        "outputId": "f385b22a-9c9f-47d1-80a8-df4bac434da1"
      },
      "execution_count": 181,
      "outputs": [
        {
          "output_type": "execute_result",
          "data": {
            "text/plain": [
              "405"
            ]
          },
          "metadata": {},
          "execution_count": 181
        }
      ]
    },
    {
      "cell_type": "markdown",
      "source": [
        "----"
      ],
      "metadata": {
        "id": "IfVUc79y_Mw2"
      }
    },
    {
      "cell_type": "markdown",
      "source": [
        "13. Find the Email of the person with the following Credit card number: 4664825258997302"
      ],
      "metadata": {
        "id": "Zt7crnW0Ao2S"
      }
    },
    {
      "cell_type": "code",
      "source": [
        "data.columns"
      ],
      "metadata": {
        "colab": {
          "base_uri": "https://localhost:8080/",
          "height": 0
        },
        "id": "y2e1G3vz9GH2",
        "outputId": "8fe972d6-f876-4133-b6b7-8189cd5934a8"
      },
      "execution_count": 182,
      "outputs": [
        {
          "output_type": "execute_result",
          "data": {
            "text/plain": [
              "Index(['Address', 'Lot', 'AM or PM', 'Browser Info', 'Company', 'Credit Card',\n",
              "       'CC Exp Date', 'CC Security Code', 'CC Provider', 'Email', 'Job',\n",
              "       'IP Address', 'Language', 'Purchase Price'],\n",
              "      dtype='object')"
            ]
          },
          "metadata": {},
          "execution_count": 182
        }
      ]
    },
    {
      "cell_type": "code",
      "source": [
        "data[data['Credit Card'] == 4664825258997302].Email"
      ],
      "metadata": {
        "colab": {
          "base_uri": "https://localhost:8080/",
          "height": 0
        },
        "id": "YgUUC8HBA-Z9",
        "outputId": "8e444a81-8766-41bc-c062-7823e3619436"
      },
      "execution_count": 183,
      "outputs": [
        {
          "output_type": "execute_result",
          "data": {
            "text/plain": [
              "9992    bberry@wright.net\n",
              "Name: Email, dtype: object"
            ]
          },
          "metadata": {},
          "execution_count": 183
        }
      ]
    },
    {
      "cell_type": "markdown",
      "source": [
        "----"
      ],
      "metadata": {
        "id": "hzBTH5vOD7xq"
      }
    },
    {
      "cell_type": "markdown",
      "source": [
        "14. How many people purchase during the AM and how many people purchase during PM"
      ],
      "metadata": {
        "id": "LFG1EX-jBqD4"
      }
    },
    {
      "cell_type": "code",
      "source": [
        "data.columns"
      ],
      "metadata": {
        "colab": {
          "base_uri": "https://localhost:8080/",
          "height": 0
        },
        "id": "63indIXrBKzC",
        "outputId": "6f0c5cd9-d1c7-4a01-ba3f-070bff489786"
      },
      "execution_count": 184,
      "outputs": [
        {
          "output_type": "execute_result",
          "data": {
            "text/plain": [
              "Index(['Address', 'Lot', 'AM or PM', 'Browser Info', 'Company', 'Credit Card',\n",
              "       'CC Exp Date', 'CC Security Code', 'CC Provider', 'Email', 'Job',\n",
              "       'IP Address', 'Language', 'Purchase Price'],\n",
              "      dtype='object')"
            ]
          },
          "metadata": {},
          "execution_count": 184
        }
      ]
    },
    {
      "cell_type": "code",
      "source": [
        "data['AM or PM'].value_counts()"
      ],
      "metadata": {
        "colab": {
          "base_uri": "https://localhost:8080/",
          "height": 0
        },
        "id": "6AX1loyRCTWp",
        "outputId": "9f18b866-12e0-4c95-a236-f8f132c2096f"
      },
      "execution_count": 185,
      "outputs": [
        {
          "output_type": "execute_result",
          "data": {
            "text/plain": [
              "PM    5068\n",
              "AM    4932\n",
              "Name: AM or PM, dtype: int64"
            ]
          },
          "metadata": {},
          "execution_count": 185
        }
      ]
    },
    {
      "cell_type": "markdown",
      "source": [
        "----"
      ],
      "metadata": {
        "id": "DmDJqQaCD5UN"
      }
    },
    {
      "cell_type": "markdown",
      "source": [
        "15. How many people have credit card that expires in 2020?"
      ],
      "metadata": {
        "id": "GZ-FO9j5ELcl"
      }
    },
    {
      "cell_type": "code",
      "source": [
        "data.columns"
      ],
      "metadata": {
        "colab": {
          "base_uri": "https://localhost:8080/",
          "height": 0
        },
        "id": "R8xOXaZjD0-8",
        "outputId": "88ae058e-2785-4649-ec06-195cd774f775"
      },
      "execution_count": 186,
      "outputs": [
        {
          "output_type": "execute_result",
          "data": {
            "text/plain": [
              "Index(['Address', 'Lot', 'AM or PM', 'Browser Info', 'Company', 'Credit Card',\n",
              "       'CC Exp Date', 'CC Security Code', 'CC Provider', 'Email', 'Job',\n",
              "       'IP Address', 'Language', 'Purchase Price'],\n",
              "      dtype='object')"
            ]
          },
          "metadata": {},
          "execution_count": 186
        }
      ]
    },
    {
      "cell_type": "code",
      "source": [
        "len(data[data['CC Exp Date'].apply(lambda x: x[3:] == '20')]) # we use trim function"
      ],
      "metadata": {
        "colab": {
          "base_uri": "https://localhost:8080/",
          "height": 0
        },
        "id": "bB95pAfWEcsL",
        "outputId": "f34ae147-9430-4f82-d15e-550a124a7abb"
      },
      "execution_count": 187,
      "outputs": [
        {
          "output_type": "execute_result",
          "data": {
            "text/plain": [
              "988"
            ]
          },
          "metadata": {},
          "execution_count": 187
        }
      ]
    },
    {
      "cell_type": "markdown",
      "source": [
        "----"
      ],
      "metadata": {
        "id": "W_7RjmSaGRGz"
      }
    },
    {
      "cell_type": "markdown",
      "source": [
        "16. Top 5 most email provider\n"
      ],
      "metadata": {
        "id": "9IoGF8-HGSgF"
      }
    },
    {
      "cell_type": "code",
      "source": [
        "data.columns"
      ],
      "metadata": {
        "colab": {
          "base_uri": "https://localhost:8080/",
          "height": 0
        },
        "id": "Kn73OEXxFwZk",
        "outputId": "973fa7b9-2f9b-4282-e884-761478e49ab9"
      },
      "execution_count": 188,
      "outputs": [
        {
          "output_type": "execute_result",
          "data": {
            "text/plain": [
              "Index(['Address', 'Lot', 'AM or PM', 'Browser Info', 'Company', 'Credit Card',\n",
              "       'CC Exp Date', 'CC Security Code', 'CC Provider', 'Email', 'Job',\n",
              "       'IP Address', 'Language', 'Purchase Price'],\n",
              "      dtype='object')"
            ]
          },
          "metadata": {},
          "execution_count": 188
        }
      ]
    },
    {
      "cell_type": "code",
      "source": [
        "data['Email'].apply(lambda x:x.split('@')[1]).value_counts().head()"
      ],
      "metadata": {
        "colab": {
          "base_uri": "https://localhost:8080/",
          "height": 0
        },
        "id": "ghdxsyIXUy6n",
        "outputId": "9777f5f1-aadb-4749-cebf-28c7eb8ca1b4"
      },
      "execution_count": 189,
      "outputs": [
        {
          "output_type": "execute_result",
          "data": {
            "text/plain": [
              "hotmail.com     1638\n",
              "yahoo.com       1616\n",
              "gmail.com       1605\n",
              "smith.com         42\n",
              "williams.com      37\n",
              "Name: Email, dtype: int64"
            ]
          },
          "metadata": {},
          "execution_count": 189
        }
      ]
    },
    {
      "cell_type": "markdown",
      "source": [
        "----"
      ],
      "metadata": {
        "id": "TzpgwpJoVhsZ"
      }
    }
  ]
}