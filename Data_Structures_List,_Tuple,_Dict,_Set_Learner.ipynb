{
  "cells": [
    {
      "cell_type": "markdown",
      "metadata": {
        "id": "view-in-github",
        "colab_type": "text"
      },
      "source": [
        "<a href=\"https://colab.research.google.com/github/kush-sg/Python/blob/rehearsal/Data_Structures_List%2C_Tuple%2C_Dict%2C_Set_Learner.ipynb\" target=\"_parent\"><img src=\"https://colab.research.google.com/assets/colab-badge.svg\" alt=\"Open In Colab\"/></a>"
      ]
    },
    {
      "cell_type": "markdown",
      "metadata": {
        "id": "VJucPukg2v12"
      },
      "source": [
        "# Data Structures"
      ]
    },
    {
      "cell_type": "markdown",
      "metadata": {
        "id": "NTtW7wJL2v17"
      },
      "source": [
        "Data structures refer to the collection or group of data in a particular structure."
      ]
    },
    {
      "cell_type": "markdown",
      "metadata": {
        "id": "eJxZ0qE72v18"
      },
      "source": [
        "# Lists"
      ]
    },
    {
      "cell_type": "markdown",
      "metadata": {
        "id": "xe9hSJoi2v19"
      },
      "source": [
        "Lists are the most commonly used data structure. Think of it as a sequence of data that is enclosed in square brackets and data are separated by a comma. Each of these data can be accessed by calling it's index value.\n",
        "\n",
        "Lists are declared by just equating a variable to '[ ]' or list. We can use lists to hold an ordered sequence of values."
      ]
    },
    {
      "cell_type": "code",
      "source": [
        "## Creating an empty List\n",
        "l= []\n",
        "print(l)"
      ],
      "metadata": {
        "colab": {
          "base_uri": "https://localhost:8080/"
        },
        "id": "JpZc42XS-epZ",
        "outputId": "76b1cbb4-0424-4bad-ef0f-fbb3fac9f249"
      },
      "execution_count": null,
      "outputs": [
        {
          "output_type": "stream",
          "name": "stdout",
          "text": [
            "[]\n"
          ]
        }
      ]
    },
    {
      "cell_type": "markdown",
      "metadata": {
        "id": "uC0d9mpu2v2B"
      },
      "source": [
        "Lists can contain different types of variable, even in the same list.\n",
        "> Lists can contain different types of variable, even in the same list."
      ]
    },
    {
      "cell_type": "code",
      "execution_count": null,
      "metadata": {
        "id": "MGUJQv4G2v1-",
        "outputId": "c439376a-76ca-4bda-985b-0f159720b6c8",
        "colab": {
          "base_uri": "https://localhost:8080/"
        }
      },
      "outputs": [
        {
          "output_type": "stream",
          "name": "stdout",
          "text": [
            "[1, 2, 3, 4]\n"
          ]
        }
      ],
      "source": [
        "# create a list named num_list that stores first four numbers 1, 2, 3, 4\n",
        "num_list = [1,2,3,4]\n",
        "print(num_list)"
      ]
    },
    {
      "cell_type": "code",
      "execution_count": null,
      "metadata": {
        "id": "eC7mV9f42v2C",
        "outputId": "59afd25a-38b4-4dde-e1a0-77ad2f123e7c",
        "colab": {
          "base_uri": "https://localhost:8080/"
        }
      },
      "outputs": [
        {
          "output_type": "stream",
          "name": "stdout",
          "text": [
            "[1, 2, 3.0, 3.1, 'first', 'second', 'third']\n"
          ]
        }
      ],
      "source": [
        "# create a list with integer data type 1,2, float data type 3.0, 3.1 and string data type 'first', 'second', 'third'\n",
        "a= [1,2,3.0,3.1,'first', 'second', 'third']\n",
        "print(a)"
      ]
    },
    {
      "cell_type": "code",
      "source": [
        "## Finding the length of the list\n",
        "print(len(a))"
      ],
      "metadata": {
        "colab": {
          "base_uri": "https://localhost:8080/"
        },
        "id": "Z73BL0DkmzZO",
        "outputId": "6c7ec0d5-cfd5-47a2-b4a0-864b4e509164"
      },
      "execution_count": null,
      "outputs": [
        {
          "output_type": "stream",
          "name": "stdout",
          "text": [
            "7\n"
          ]
        }
      ]
    },
    {
      "cell_type": "code",
      "source": [
        "## List can contain more data types. Here list contains the list\n",
        "b= [a,num_list]\n",
        "print(b)"
      ],
      "metadata": {
        "colab": {
          "base_uri": "https://localhost:8080/"
        },
        "id": "vRFFKLYv_XX9",
        "outputId": "030eeed0-aa91-46cd-ba40-06603ed04d6e"
      },
      "execution_count": null,
      "outputs": [
        {
          "output_type": "stream",
          "name": "stdout",
          "text": [
            "[[1, 2, 3.0, 3.1, 'first', 'second', 'third'], [1, 2, 3, 4]]\n"
          ]
        }
      ]
    },
    {
      "cell_type": "code",
      "execution_count": null,
      "metadata": {
        "id": "m7Lw7BWi2v2D",
        "outputId": "9b4027a0-a3e6-44cf-d1b5-407428e0f0fd",
        "colab": {
          "base_uri": "https://localhost:8080/"
        }
      },
      "outputs": [
        {
          "output_type": "stream",
          "name": "stdout",
          "text": [
            "[1, 2, 3, 4, 5]\n",
            "[1, 2, 3, 10, 5]\n"
          ]
        }
      ],
      "source": [
        "# change the third element to 10 and print the list again\n",
        "print(num_list)\n",
        "num_list[3] = 10\n",
        "print(num_list)"
      ]
    },
    {
      "cell_type": "markdown",
      "metadata": {
        "id": "t-4BexdS2v2E"
      },
      "source": [
        "Lists are mutable; their contents can change as more statements are interpreted."
      ]
    },
    {
      "cell_type": "code",
      "execution_count": null,
      "metadata": {
        "id": "eV1X6UvL2v2F",
        "outputId": "eb18476c-6d13-45a9-b898-ce4d75d1feda",
        "colab": {
          "base_uri": "https://localhost:8080/"
        }
      },
      "outputs": [
        {
          "output_type": "stream",
          "name": "stdout",
          "text": [
            "[1, 2, 3, 4, 5]\n"
          ]
        }
      ],
      "source": [
        "# append number 5 to the list created above\n",
        "num_list.append(5)\n",
        "print(num_list)"
      ]
    },
    {
      "cell_type": "code",
      "execution_count": null,
      "metadata": {
        "id": "kNn_U_CN2v2G",
        "colab": {
          "base_uri": "https://localhost:8080/"
        },
        "outputId": "ecc87f02-0f98-4a21-aa9e-45b26a79f71a"
      },
      "outputs": [
        {
          "output_type": "stream",
          "name": "stdout",
          "text": [
            "[1, 2, 3, 4]\n"
          ]
        }
      ],
      "source": [
        "# create a list named list_one containing numbers 1,2,3,4\n",
        "list_one= [1,2,3,4]\n",
        "print(list_one)"
      ]
    },
    {
      "cell_type": "markdown",
      "metadata": {
        "id": "d1CzmWJk2v2H"
      },
      "source": [
        "- The above code creates same references to a variable named `list_one` and `list_two`\n",
        "\n",
        "- Because lists are mutable, changing them can have side-effects on other variables.\n",
        "\n"
      ]
    },
    {
      "cell_type": "code",
      "execution_count": null,
      "metadata": {
        "id": "OwBQC7t02v2I",
        "outputId": "80fe523c-6e55-4ed7-f5a1-b1252841dcf4",
        "colab": {
          "base_uri": "https://localhost:8080/"
        }
      },
      "outputs": [
        {
          "output_type": "stream",
          "name": "stdout",
          "text": [
            "[1, 2, 3, 4, 5]\n"
          ]
        }
      ],
      "source": [
        "# append 5 to `list_one` \n",
        "list_one.append(5)\n",
        "print(list_one)"
      ]
    },
    {
      "cell_type": "code",
      "execution_count": null,
      "metadata": {
        "id": "nbUbgqIJ2v2I",
        "outputId": "ef8adc65-05d1-4b68-aef9-3f9cc0fc12b8",
        "colab": {
          "base_uri": "https://localhost:8080/"
        }
      },
      "outputs": [
        {
          "output_type": "stream",
          "name": "stdout",
          "text": [
            "[1, 2, 3, 4]\n"
          ]
        }
      ],
      "source": [
        "# lets see what happens to list_one\n",
        "print(list_one)"
      ]
    },
    {
      "cell_type": "code",
      "source": [
        "# create a list named list_one containing numbers 1,2,3,4\n",
        "list_one_new = [1, 2, 3, 4]\n",
        "print(list_one_new)\n",
        "print(list_one)\n",
        "# Creating a copy of the list \n"
      ],
      "metadata": {
        "colab": {
          "base_uri": "https://localhost:8080/"
        },
        "id": "EGO8qFHDoDqz",
        "outputId": "a7c76703-f017-4b88-fa7d-135b31d0b02e"
      },
      "execution_count": null,
      "outputs": [
        {
          "output_type": "stream",
          "name": "stdout",
          "text": [
            "[1, 2, 3, 4]\n",
            "[1, 2, 3, 4, 5]\n"
          ]
        }
      ]
    },
    {
      "cell_type": "markdown",
      "source": [
        "In the above code two different reference of 2 new variable."
      ],
      "metadata": {
        "id": "CYJ9Nzw1pFao"
      }
    },
    {
      "cell_type": "markdown",
      "metadata": {
        "id": "LNaQ8vRR2v2O"
      },
      "source": [
        "## List Indexing\n",
        "\n",
        "- Lists can be indexed using square brackets to retrieve the element stored in a particular position.  \n",
        "- Index value starts from 0 till length of the string minus one \n",
        "- Indexing is exactly similar to indexing in strings except that indexing in lists returns the entire item at that position whereas in strings, the character at that position is returned\n"
      ]
    },
    {
      "cell_type": "code",
      "execution_count": null,
      "metadata": {
        "id": "0oN4dVXe2v2O",
        "outputId": "aad972d1-1bda-4517-fd8c-bb6fc268c433",
        "colab": {
          "base_uri": "https://localhost:8080/"
        }
      },
      "outputs": [
        {
          "output_type": "stream",
          "name": "stdout",
          "text": [
            "1 2 3 4 "
          ]
        }
      ],
      "source": [
        "num_list = [1,2,3,4]\n",
        "for i in num_list:\n",
        "  print(i, end=\" \")\n",
        "\n",
        "## Access the value using positive index\n"
      ]
    },
    {
      "cell_type": "code",
      "source": [
        "# Can you access 4th index?\n",
        "print(num_list[3])\n",
        "print(num_list[4]) #we cannot print 4th index as it is not present(IndexError)"
      ],
      "metadata": {
        "colab": {
          "base_uri": "https://localhost:8080/",
          "height": 219
        },
        "id": "UII3BQPFx09u",
        "outputId": "8be4a338-b621-4b16-b0ae-bd5b4bd45958"
      },
      "execution_count": null,
      "outputs": [
        {
          "output_type": "stream",
          "name": "stdout",
          "text": [
            "4\n"
          ]
        },
        {
          "output_type": "error",
          "ename": "IndexError",
          "evalue": "ignored",
          "traceback": [
            "\u001b[0;31m---------------------------------------------------------------------------\u001b[0m",
            "\u001b[0;31mIndexError\u001b[0m                                Traceback (most recent call last)",
            "\u001b[0;32m<ipython-input-14-84ef8aa87c73>\u001b[0m in \u001b[0;36m<module>\u001b[0;34m\u001b[0m\n\u001b[1;32m      1\u001b[0m \u001b[0;31m# Can you access 4th index?\u001b[0m\u001b[0;34m\u001b[0m\u001b[0;34m\u001b[0m\u001b[0;34m\u001b[0m\u001b[0m\n\u001b[1;32m      2\u001b[0m \u001b[0mprint\u001b[0m\u001b[0;34m(\u001b[0m\u001b[0mnum_list\u001b[0m\u001b[0;34m[\u001b[0m\u001b[0;36m3\u001b[0m\u001b[0;34m]\u001b[0m\u001b[0;34m)\u001b[0m\u001b[0;34m\u001b[0m\u001b[0;34m\u001b[0m\u001b[0m\n\u001b[0;32m----> 3\u001b[0;31m \u001b[0mprint\u001b[0m\u001b[0;34m(\u001b[0m\u001b[0mnum_list\u001b[0m\u001b[0;34m[\u001b[0m\u001b[0;36m4\u001b[0m\u001b[0;34m]\u001b[0m\u001b[0;34m)\u001b[0m\u001b[0;34m\u001b[0m\u001b[0;34m\u001b[0m\u001b[0m\n\u001b[0m",
            "\u001b[0;31mIndexError\u001b[0m: list index out of range"
          ]
        }
      ]
    },
    {
      "cell_type": "code",
      "source": [
        "## Access the value using negative index\n",
        "print(num_list[::-1])"
      ],
      "metadata": {
        "colab": {
          "base_uri": "https://localhost:8080/"
        },
        "id": "hXqcAvNLt3zs",
        "outputId": "c3019fd3-c9f8-4d1d-ae73-d90457140764"
      },
      "execution_count": null,
      "outputs": [
        {
          "output_type": "stream",
          "name": "stdout",
          "text": [
            "[4, 3, 2, 1]\n"
          ]
        }
      ]
    },
    {
      "cell_type": "code",
      "source": [
        "# Can you access -5th index?\n",
        "print(num_list[-5]) #no we cannot as Index is out of range (IndexError)"
      ],
      "metadata": {
        "colab": {
          "base_uri": "https://localhost:8080/",
          "height": 185
        },
        "id": "YB8bXODKx31Q",
        "outputId": "27f651c6-ac1f-4a8e-9287-55e0a4c68156"
      },
      "execution_count": null,
      "outputs": [
        {
          "output_type": "error",
          "ename": "IndexError",
          "evalue": "ignored",
          "traceback": [
            "\u001b[0;31m---------------------------------------------------------------------------\u001b[0m",
            "\u001b[0;31mIndexError\u001b[0m                                Traceback (most recent call last)",
            "\u001b[0;32m<ipython-input-22-41a3ffbea5e5>\u001b[0m in \u001b[0;36m<module>\u001b[0;34m\u001b[0m\n\u001b[1;32m      1\u001b[0m \u001b[0;31m# Can you access -5th index?\u001b[0m\u001b[0;34m\u001b[0m\u001b[0;34m\u001b[0m\u001b[0;34m\u001b[0m\u001b[0m\n\u001b[0;32m----> 2\u001b[0;31m \u001b[0mprint\u001b[0m\u001b[0;34m(\u001b[0m\u001b[0mnum_list\u001b[0m\u001b[0;34m[\u001b[0m\u001b[0;34m-\u001b[0m\u001b[0;36m5\u001b[0m\u001b[0;34m]\u001b[0m\u001b[0;34m)\u001b[0m\u001b[0;34m\u001b[0m\u001b[0;34m\u001b[0m\u001b[0m\n\u001b[0m",
            "\u001b[0;31mIndexError\u001b[0m: list index out of range"
          ]
        }
      ]
    },
    {
      "cell_type": "markdown",
      "source": [
        "### Accessing a nested list"
      ],
      "metadata": {
        "id": "Ma1J0FoONEMu"
      }
    },
    {
      "cell_type": "code",
      "source": [
        "# Create a Nested List\n",
        "new_list = [9, 10]\n",
        "num_nested_list = [1,2,3,4, new_list]\n",
        "print(num_nested_list)\n"
      ],
      "metadata": {
        "colab": {
          "base_uri": "https://localhost:8080/"
        },
        "id": "-QAptjuixd36",
        "outputId": "8495d998-10cb-4829-e96e-a81abf99e4d0"
      },
      "execution_count": null,
      "outputs": [
        {
          "output_type": "stream",
          "name": "stdout",
          "text": [
            "[1, 2, 3, 4, [9, 10]]\n"
          ]
        }
      ]
    },
    {
      "cell_type": "code",
      "source": [
        "# Access the 2nd index of 5th index\n",
        "print(num_nested_list[4][1])\n",
        "print(num_nested_list[5][2]) #no we cannot acces as it is out of range"
      ],
      "metadata": {
        "colab": {
          "base_uri": "https://localhost:8080/",
          "height": 219
        },
        "id": "eUC4Eepgx75F",
        "outputId": "c95c6f22-af42-483a-923a-a138eb67c1c3"
      },
      "execution_count": null,
      "outputs": [
        {
          "output_type": "stream",
          "name": "stdout",
          "text": [
            "10\n"
          ]
        },
        {
          "output_type": "error",
          "ename": "IndexError",
          "evalue": "ignored",
          "traceback": [
            "\u001b[0;31m---------------------------------------------------------------------------\u001b[0m",
            "\u001b[0;31mIndexError\u001b[0m                                Traceback (most recent call last)",
            "\u001b[0;32m<ipython-input-27-e8e9400d81e0>\u001b[0m in \u001b[0;36m<module>\u001b[0;34m\u001b[0m\n\u001b[1;32m      1\u001b[0m \u001b[0;31m# Access the 2nd index of 5th index\u001b[0m\u001b[0;34m\u001b[0m\u001b[0;34m\u001b[0m\u001b[0;34m\u001b[0m\u001b[0m\n\u001b[1;32m      2\u001b[0m \u001b[0mprint\u001b[0m\u001b[0;34m(\u001b[0m\u001b[0mnum_nested_list\u001b[0m\u001b[0;34m[\u001b[0m\u001b[0;36m4\u001b[0m\u001b[0;34m]\u001b[0m\u001b[0;34m[\u001b[0m\u001b[0;36m1\u001b[0m\u001b[0;34m]\u001b[0m\u001b[0;34m)\u001b[0m\u001b[0;34m\u001b[0m\u001b[0;34m\u001b[0m\u001b[0m\n\u001b[0;32m----> 3\u001b[0;31m \u001b[0mprint\u001b[0m\u001b[0;34m(\u001b[0m\u001b[0mnum_nested_list\u001b[0m\u001b[0;34m[\u001b[0m\u001b[0;36m5\u001b[0m\u001b[0;34m]\u001b[0m\u001b[0;34m[\u001b[0m\u001b[0;36m2\u001b[0m\u001b[0;34m]\u001b[0m\u001b[0;34m)\u001b[0m \u001b[0;31m#no we cannot acces as it is out of range\u001b[0m\u001b[0;34m\u001b[0m\u001b[0;34m\u001b[0m\u001b[0m\n\u001b[0m",
            "\u001b[0;31mIndexError\u001b[0m: list index out of range"
          ]
        }
      ]
    },
    {
      "cell_type": "markdown",
      "metadata": {
        "id": "fRYkmTnK2v2P"
      },
      "source": [
        "## List  Slicing\n",
        "\n",
        "Indexing was only limited to accessing a single element, Slicing on the other hand is accessing a sequence of data inside the list. In other words \"slicing\" the list.\n",
        "\n",
        "Slicing is done by defining the index values of the first element and the last element from the parent list that is required in the sliced list. It is written as parentlist[ a : b ] where a,b are the index values from the parent list. If a or b is not defined then the index value is considered to be the first value for a if a is not defined and the last value for b when b is not defined."
      ]
    },
    {
      "cell_type": "code",
      "execution_count": null,
      "metadata": {
        "id": "PK3eVBbg2v2Q",
        "outputId": "27a5298c-05da-4496-a2e5-266efd587d11",
        "colab": {
          "base_uri": "https://localhost:8080/"
        }
      },
      "outputs": [
        {
          "output_type": "stream",
          "name": "stdout",
          "text": [
            "[0, 1, 2, 3]\n",
            "[4, 5, 6, 7, 8, 9]\n",
            "[0, 1, 2, 3, 4]\n",
            "[0, 2, 4, 6, 8]\n",
            "[0, 2]\n",
            "[1, 3]\n",
            "[9, 8, 7, 6, 5, 4, 3, 2, 1, 0]\n",
            "[0, 1, 2, 3, 4, 5, 6, 7, 8, 9]\n"
          ]
        }
      ],
      "source": [
        "## Slice the list\n",
        "num_range = [0,1,2,3,4,5,6,7,8,9]\n"
      ]
    },
    {
      "cell_type": "code",
      "source": [
        "## Slice the list using negative index\n"
      ],
      "metadata": {
        "colab": {
          "base_uri": "https://localhost:8080/"
        },
        "id": "t5c3Tgb8wo1Z",
        "outputId": "92522a6c-c2a0-4911-a885-4d0fa55c5f93"
      },
      "execution_count": null,
      "outputs": [
        {
          "output_type": "stream",
          "name": "stdout",
          "text": [
            "[5, 6, 7]\n",
            "[0, 1, 2, 3, 4, 5, 6, 7]\n",
            "[5, 6, 7, 8, 9]\n"
          ]
        }
      ]
    },
    {
      "cell_type": "markdown",
      "source": [
        "### Applying aggregation on list"
      ],
      "metadata": {
        "id": "0CamVrXaNKvd"
      }
    },
    {
      "cell_type": "markdown",
      "metadata": {
        "id": "pS9MKR6R2v2R"
      },
      "source": [
        "In a list with elements as string, **max( )** and **min( )** is applicable. **max( )** would return a string element whose ASCII value is the highest and the lowest when **min( )** is used. Note that only the first index of each element is considered each time and if they value is the same then second index considered so on and so forth."
      ]
    },
    {
      "cell_type": "code",
      "execution_count": null,
      "metadata": {
        "id": "21X9t8tC2v2S",
        "outputId": "7d78a911-821a-42ff-b308-c2d7323baba2"
      },
      "outputs": [
        {
          "name": "stdout",
          "output_type": "stream",
          "text": [
            "z\n",
            "az\n"
          ]
        }
      ],
      "source": [
        "# create a list of some strings and then print max and min\n",
        "string_list = ['bzaa','ds','nc','az','z','klm']\n"
      ]
    },
    {
      "cell_type": "code",
      "source": [
        "c = 'R'\n",
        "print(\"The ASCII value of '\" + c + \"' is\")"
      ],
      "metadata": {
        "colab": {
          "base_uri": "https://localhost:8080/"
        },
        "id": "sbypLrOQ4Siu",
        "outputId": "0412a48b-5b1b-40c6-d223-665cce0dcf51"
      },
      "execution_count": null,
      "outputs": [
        {
          "output_type": "stream",
          "name": "stdout",
          "text": [
            "The ASCII value of 'R' is 82\n"
          ]
        }
      ]
    },
    {
      "cell_type": "code",
      "source": [
        "c = 'r'\n",
        "print(\"The ASCII value of '\" + c + \"' is\")"
      ],
      "metadata": {
        "colab": {
          "base_uri": "https://localhost:8080/"
        },
        "id": "pmjKuvdJ4aEq",
        "outputId": "a4b8608f-cfd1-4478-82a7-874b7c0c04d9"
      },
      "execution_count": null,
      "outputs": [
        {
          "output_type": "stream",
          "name": "stdout",
          "text": [
            "The ASCII value of 'r' is 114\n"
          ]
        }
      ]
    },
    {
      "cell_type": "markdown",
      "metadata": {
        "id": "AFx2sDMO2v2S"
      },
      "source": [
        "Here the first index of each element is considered and thus z has the highest ASCII value thus it is returned and minimum ASCII is a. But what if numbers are declared as strings?"
      ]
    },
    {
      "cell_type": "code",
      "execution_count": null,
      "metadata": {
        "id": "OU30oLkH2v2S",
        "outputId": "859a1ae9-e239-4241-a274-7b46151d8c7f",
        "colab": {
          "base_uri": "https://localhost:8080/"
        }
      },
      "outputs": [
        {
          "output_type": "stream",
          "name": "stdout",
          "text": [
            "94\n",
            "1\n"
          ]
        }
      ],
      "source": [
        "# create a list of integers (string) num_list\n",
        "num_list = ['1','94','93','1000']\n"
      ]
    },
    {
      "cell_type": "markdown",
      "metadata": {
        "id": "ZXgT6SIS2v2T"
      },
      "source": [
        "Even if the numbers are declared in a string the first index of each element is considered and the maximum and minimum values are returned accordingly."
      ]
    },
    {
      "cell_type": "code",
      "source": [
        "# create a list of integers num_list\n",
        "num_list = [-30, 1, 102, 94, 3, 1000]\n"
      ],
      "metadata": {
        "colab": {
          "base_uri": "https://localhost:8080/"
        },
        "id": "NjbCTHYMN1l3",
        "outputId": "7e07f92f-b33a-4bc3-9e1e-7158ffbf986d"
      },
      "execution_count": null,
      "outputs": [
        {
          "output_type": "stream",
          "name": "stdout",
          "text": [
            "1000\n",
            "-30\n",
            "1170\n"
          ]
        }
      ]
    },
    {
      "cell_type": "markdown",
      "metadata": {
        "id": "dmTFLjQm2v2T"
      },
      "source": [
        "But if you want to find the **max( )** string element based on the length of the string then another parameter 'key=len' is declared inside the **max( )** and **min( )** function."
      ]
    },
    {
      "cell_type": "code",
      "source": [
        "# create a list names that contians element 'Earth','Air','Fire','Water'\n",
        "names = ['Earth','Air','Fire','Water']"
      ],
      "metadata": {
        "id": "CIhA1VGGT6iA"
      },
      "execution_count": null,
      "outputs": []
    },
    {
      "cell_type": "code",
      "execution_count": null,
      "metadata": {
        "id": "bcI3Di8X2v2T",
        "outputId": "46ba9cca-fd80-4662-825f-9500ec646659",
        "colab": {
          "base_uri": "https://localhost:8080/"
        }
      },
      "outputs": [
        {
          "output_type": "stream",
          "name": "stdout",
          "text": [
            "Earth\n",
            "Air\n"
          ]
        }
      ],
      "source": [
        "# print the longest and smallest word from the list names\n"
      ]
    },
    {
      "cell_type": "markdown",
      "source": [
        "### Converting a string into list"
      ],
      "metadata": {
        "id": "t2dHq6OAU1In"
      }
    },
    {
      "cell_type": "markdown",
      "metadata": {
        "id": "QT6Y-MPr2v2U"
      },
      "source": [
        "A string can be converted into a list by using the list() function."
      ]
    },
    {
      "cell_type": "code",
      "execution_count": null,
      "metadata": {
        "id": "yd1WP3wO2v2U",
        "outputId": "9e370a7d-62d2-4759-bfcb-92d35d82956e"
      },
      "outputs": [
        {
          "data": {
            "text/plain": [
              "['R', 'e', 'l', 'e', 'v', 'e', 'l']"
            ]
          },
          "execution_count": 21,
          "metadata": {},
          "output_type": "execute_result"
        }
      ],
      "source": [
        "# convert the string Relevel into list\n",
        "'Relevel'"
      ]
    },
    {
      "cell_type": "markdown",
      "metadata": {
        "id": "NHLop7xs2v2V"
      },
      "source": [
        "List of words? Let's try using .split() which splits a string on the basis of spaces."
      ]
    },
    {
      "cell_type": "code",
      "execution_count": null,
      "metadata": {
        "id": "OBgYf9un2v2V",
        "outputId": "c74ea2ad-8312-4066-8e20-94f064f7d363"
      },
      "outputs": [
        {
          "name": "stdout",
          "output_type": "stream",
          "text": [
            "['I', 'will', 'now', 'convert', 'this', 'to', 'a', 'list', 'of', 'words']\n"
          ]
        }
      ],
      "source": [
        "# split the string into list\n",
        "test_string = 'I will now convert this to a list of words'\n"
      ]
    },
    {
      "cell_type": "markdown",
      "metadata": {
        "id": "s4icpcTB2v2V"
      },
      "source": [
        "What about splitting on something else? Like a period? and then try to make it like a normal sentence using .join?"
      ]
    },
    {
      "cell_type": "code",
      "execution_count": null,
      "metadata": {
        "id": "itgxemns2v2V",
        "outputId": "d464b06f-10f4-4eb5-f710-a07c11613484"
      },
      "outputs": [
        {
          "name": "stdout",
          "output_type": "stream",
          "text": [
            "['Hi', 'Can', 'we', 'get', 'rid', 'of', 'the', 'periods', 'here']\n"
          ]
        }
      ],
      "source": [
        "# split the string using .\n",
        "string_to_split = 'Hi.Can.we.get.rid.of.the.periods.here'\n"
      ]
    },
    {
      "cell_type": "code",
      "execution_count": null,
      "metadata": {
        "id": "QMF2pMNp2v2W",
        "outputId": "c64aa253-9116-4954-bc6f-03979d4419c4"
      },
      "outputs": [
        {
          "name": "stdout",
          "output_type": "stream",
          "text": [
            "Hi Can we get rid of the periods here\n"
          ]
        }
      ],
      "source": [
        "#Let's join it back with spaces and reassign it to the original name\n"
      ]
    },
    {
      "cell_type": "code",
      "execution_count": null,
      "metadata": {
        "id": "5x3i0tW_2v2W",
        "outputId": "d61b266b-54eb-4f9f-af50-f552cc47a88d"
      },
      "outputs": [
        {
          "name": "stdout",
          "output_type": "stream",
          "text": [
            "Hi Can we get rid of the periods here\n"
          ]
        }
      ],
      "source": [
        "#Let's do it as a one-liner\n",
        "string_to_split = 'Hi.Can.we.get.rid.of.the.periods.here'\n"
      ]
    },
    {
      "cell_type": "markdown",
      "metadata": {
        "id": "R87nY1702v2X"
      },
      "source": [
        "By the way, triple quotes are used for multiline comments. Don't you think something similar can be used during new user signups?"
      ]
    },
    {
      "cell_type": "markdown",
      "metadata": {
        "id": "6HebIkJb2v2J"
      },
      "source": [
        "## Some common List Methods"
      ]
    },
    {
      "cell_type": "markdown",
      "metadata": {
        "id": "RGPoaz8K2v2K"
      },
      "source": [
        "| Method Name | Use | Explanation |\n",
        "| --- | --- | --- |\n",
        "|insert |\talist.insert(i,item)\t| Inserts an item at the ith position in a list |\n",
        "|pop\t|\talist.pop()\t\t\t | Removes and returns the last item in a list|\n",
        "|pop\t|\talist.pop(i)\t\t\t| Removes and returns the ith item in a list|\n",
        "|sort   |\talist.sort()\t\t\t| Modifies a list to be sorted|\n",
        "|reverse|\talist.reverse()\t     | Modifies a list to be in reverse order|\n",
        "|del\t|\tdel alist[i]\t\t\t| Deletes the item in the ith position|\n",
        "|index  |\talist.index(item)\t   | Returns the index of the first occurrence of item|\n",
        "|count  |\talist.count(item)\t   | Returns the number of occurrences of item|\n",
        "|Removes|\talist.remove(item)\t  | Removes the first occurrence of item|\n",
        "|append |    alist.append(item)\t  | Adds a new item to the end of a list |"
      ]
    },
    {
      "cell_type": "markdown",
      "source": [
        "## Adding to the List"
      ],
      "metadata": {
        "id": "BknXtmybq-9o"
      }
    },
    {
      "cell_type": "code",
      "source": [
        "# create a list named list_one containing numbers 1,2,3,4\n",
        "l = [1, 2, 3, 4]\n"
      ],
      "metadata": {
        "id": "roAqck7MrDI2"
      },
      "execution_count": null,
      "outputs": []
    },
    {
      "cell_type": "code",
      "source": [
        "# Pass two value i.e 6, 7 using append\n"
      ],
      "metadata": {
        "colab": {
          "base_uri": "https://localhost:8080/",
          "height": 171
        },
        "id": "auj_oUITrJp_",
        "outputId": "03b6f71c-7137-44fe-d468-e9f574cb9e7f"
      },
      "execution_count": null,
      "outputs": [
        {
          "output_type": "error",
          "ename": "NameError",
          "evalue": "ignored",
          "traceback": [
            "\u001b[0;31m---------------------------------------------------------------------------\u001b[0m",
            "\u001b[0;31mNameError\u001b[0m                                 Traceback (most recent call last)",
            "\u001b[0;32m<ipython-input-1-2d48ad11fd93>\u001b[0m in \u001b[0;36m<module>\u001b[0;34m()\u001b[0m\n\u001b[0;32m----> 1\u001b[0;31m \u001b[0ml\u001b[0m\u001b[0;34m.\u001b[0m\u001b[0mappend\u001b[0m\u001b[0;34m(\u001b[0m\u001b[0;36m6\u001b[0m\u001b[0;34m,\u001b[0m\u001b[0;36m7\u001b[0m\u001b[0;34m)\u001b[0m \u001b[0;31m## Make sure to pass only one argument to append function\u001b[0m\u001b[0;34m\u001b[0m\u001b[0;34m\u001b[0m\u001b[0m\n\u001b[0m",
            "\u001b[0;31mNameError\u001b[0m: name 'l' is not defined"
          ]
        }
      ]
    },
    {
      "cell_type": "code",
      "source": [
        "## Passing single value as a list\n"
      ],
      "metadata": {
        "colab": {
          "base_uri": "https://localhost:8080/"
        },
        "id": "9aI7WgmrrgKY",
        "outputId": "2574a741-d53b-4442-d724-8e7f55aaf5a7"
      },
      "execution_count": null,
      "outputs": [
        {
          "output_type": "stream",
          "name": "stdout",
          "text": [
            "[1, 2, 3, 4, 5, [6, 7]]\n"
          ]
        }
      ]
    },
    {
      "cell_type": "markdown",
      "source": [
        "### Using extend()"
      ],
      "metadata": {
        "id": "MIMlFsx0sTkV"
      }
    },
    {
      "cell_type": "code",
      "source": [
        "# create a list named list_one containing numbers 1,2,3,4\n",
        "l = [1, 2, 3, 4]\n",
        "\n"
      ],
      "metadata": {
        "colab": {
          "base_uri": "https://localhost:8080/"
        },
        "id": "Jd3p9ScpsW8N",
        "outputId": "4d5a2251-04c4-47dd-d782-4b325cb14ed3"
      },
      "execution_count": null,
      "outputs": [
        {
          "output_type": "stream",
          "name": "stdout",
          "text": [
            "[1, 2, 3, 4, 5, 6]\n"
          ]
        }
      ]
    },
    {
      "cell_type": "code",
      "source": [
        "## Passing a single value in extend. It should be any iterable i.e list\n"
      ],
      "metadata": {
        "colab": {
          "base_uri": "https://localhost:8080/"
        },
        "id": "4Vq0SjoVsdRw",
        "outputId": "63a39e69-109e-4ec9-c621-bfebcd7c0a90"
      },
      "execution_count": null,
      "outputs": [
        {
          "output_type": "stream",
          "name": "stdout",
          "text": [
            "[1, 2, 3, 4, 5, 6, 7]\n"
          ]
        }
      ]
    },
    {
      "cell_type": "markdown",
      "source": [
        "### Using insert() method\n",
        "\n",
        "The `insert()` method inserts the specified value at the specified position.\n",
        "\n",
        "`list.insert(pos, elmnt)"
      ],
      "metadata": {
        "id": "tPLjUZmzs1wu"
      }
    },
    {
      "cell_type": "code",
      "source": [
        "# Pass 9 to 3rd index\n"
      ],
      "metadata": {
        "colab": {
          "base_uri": "https://localhost:8080/"
        },
        "id": "nCZD8D13tF4L",
        "outputId": "c506daee-2678-483a-feff-5279cd93ac99"
      },
      "execution_count": null,
      "outputs": [
        {
          "output_type": "stream",
          "name": "stdout",
          "text": [
            "[1, 2, 3, 9, 4, 5, 6, 7]\n"
          ]
        }
      ]
    },
    {
      "cell_type": "code",
      "source": [
        "# Pass 18 to -2nd index\n"
      ],
      "metadata": {
        "colab": {
          "base_uri": "https://localhost:8080/"
        },
        "id": "zJNd0TTVtiis",
        "outputId": "6d845c2c-d3f0-43d9-cad4-b1447a7d1b08"
      },
      "execution_count": null,
      "outputs": [
        {
          "output_type": "stream",
          "name": "stdout",
          "text": [
            "[1, 2, 3, 9, 4, 5, 18, 6, 7]\n"
          ]
        }
      ]
    },
    {
      "cell_type": "markdown",
      "source": [
        "## Removing the elements from the list"
      ],
      "metadata": {
        "id": "A9M96OHaacbt"
      }
    },
    {
      "cell_type": "code",
      "source": [
        "# Python program to demonstrate \n",
        "# Removal of elements in a List\n",
        "  \n",
        "# Creating a List\n",
        "l = [40, 50, 60, 50, 70, 80, 90, 70, \"thirty\", 110, 190, 200]\n",
        "print(l)\n",
        "  \n",
        "# Removing elements from List\n",
        "# using Remove() method\n",
        "\n",
        "# Remove 50 from the list\n",
        "\n",
        "# Remove 70 from the list\n",
        "\n",
        "# Remove thirty from the list\n",
        "\n",
        "print(\"\\nList after removal of mentioned elements: \")\n",
        "print(l)"
      ],
      "metadata": {
        "colab": {
          "base_uri": "https://localhost:8080/"
        },
        "id": "xbliWHQJazZH",
        "outputId": "e8e08ac2-730a-40db-d103-ab458f824f2b"
      },
      "execution_count": null,
      "outputs": [
        {
          "output_type": "stream",
          "name": "stdout",
          "text": [
            "[40, 50, 60, 50, 70, 80, 90, 70, 'thirty', 110, 190, 200]\n",
            "\n",
            "List after removal of mentioned elements: \n",
            "[40, 60, 50, 80, 90, 70, 110, 190, 200]\n"
          ]
        }
      ]
    },
    {
      "cell_type": "code",
      "source": [
        "# Remove 100 from the list\n"
      ],
      "metadata": {
        "colab": {
          "base_uri": "https://localhost:8080/",
          "height": 171
        },
        "id": "BX62sd-HbMar",
        "outputId": "ccbe5310-4a4b-4f6d-dade-93176011369a"
      },
      "execution_count": null,
      "outputs": [
        {
          "output_type": "error",
          "ename": "ValueError",
          "evalue": "ignored",
          "traceback": [
            "\u001b[0;31m---------------------------------------------------------------------------\u001b[0m",
            "\u001b[0;31mValueError\u001b[0m                                Traceback (most recent call last)",
            "\u001b[0;32m<ipython-input-45-9a4aceb2f172>\u001b[0m in \u001b[0;36m<module>\u001b[0;34m()\u001b[0m\n\u001b[0;32m----> 1\u001b[0;31m \u001b[0ml\u001b[0m\u001b[0;34m.\u001b[0m\u001b[0mremove\u001b[0m\u001b[0;34m(\u001b[0m\u001b[0;36m100\u001b[0m\u001b[0;34m)\u001b[0m  \u001b[0;31m## If the value does not exist then it will through error.\u001b[0m\u001b[0;34m\u001b[0m\u001b[0;34m\u001b[0m\u001b[0m\n\u001b[0m",
            "\u001b[0;31mValueError\u001b[0m: list.remove(x): x not in list"
          ]
        }
      ]
    },
    {
      "cell_type": "code",
      "source": [
        "# Pop the item from the list\n",
        "\n",
        "print(l)"
      ],
      "metadata": {
        "colab": {
          "base_uri": "https://localhost:8080/"
        },
        "id": "7hh2L8PUcLAX",
        "outputId": "e8e61970-2d4a-47b3-e703-416d49a24375"
      },
      "execution_count": null,
      "outputs": [
        {
          "output_type": "stream",
          "name": "stdout",
          "text": [
            "200\n",
            "[40, 60, 50, 80, 90, 70, 110, 190]\n"
          ]
        }
      ]
    },
    {
      "cell_type": "code",
      "source": [
        "# Pop 2nd item from the list\n",
        "\n",
        "print(l)"
      ],
      "metadata": {
        "colab": {
          "base_uri": "https://localhost:8080/"
        },
        "id": "bohwOoThcTyE",
        "outputId": "31e8477f-4691-419e-f81c-3a1db512984c"
      },
      "execution_count": null,
      "outputs": [
        {
          "output_type": "stream",
          "name": "stdout",
          "text": [
            "50\n",
            "[40, 60, 80, 90, 70, 110, 190]\n"
          ]
        }
      ]
    },
    {
      "cell_type": "code",
      "source": [
        "# Delete 1st item from the list\n",
        "\n",
        "print(l)"
      ],
      "metadata": {
        "colab": {
          "base_uri": "https://localhost:8080/"
        },
        "id": "bjjV-vYtcixu",
        "outputId": "74222e32-e503-4316-c963-a2ab69382a98"
      },
      "execution_count": null,
      "outputs": [
        {
          "output_type": "stream",
          "name": "stdout",
          "text": [
            "[40, 80, 90, 70, 110, 190]\n"
          ]
        }
      ]
    },
    {
      "cell_type": "code",
      "source": [
        "# Delete 2nd and 3rd item from the list\n",
        "\n",
        "print(l)"
      ],
      "metadata": {
        "colab": {
          "base_uri": "https://localhost:8080/"
        },
        "id": "aAnI4lyCdAvo",
        "outputId": "27c1e279-c3b4-499b-be2b-de13d44bc187"
      },
      "execution_count": null,
      "outputs": [
        {
          "output_type": "stream",
          "name": "stdout",
          "text": [
            "[40, 80, 110, 190]\n"
          ]
        }
      ]
    },
    {
      "cell_type": "code",
      "source": [
        "# Clearing all the values of the list\n",
        "\n",
        "print(\"\\nList after removing all the values: \")\n",
        "print(l)"
      ],
      "metadata": {
        "colab": {
          "base_uri": "https://localhost:8080/"
        },
        "id": "PXYF-2HybLFA",
        "outputId": "10f66e3f-9e4b-4bd7-94cc-d4b346de1017"
      },
      "execution_count": null,
      "outputs": [
        {
          "output_type": "stream",
          "name": "stdout",
          "text": [
            "\n",
            "List after removing all the values: \n",
            "[]\n"
          ]
        }
      ]
    },
    {
      "cell_type": "code",
      "source": [
        "# Delete the entire list\n",
        "\n",
        "print(l)"
      ],
      "metadata": {
        "colab": {
          "base_uri": "https://localhost:8080/",
          "height": 189
        },
        "id": "UwB1VhMPdDud",
        "outputId": "d9f4ac4f-6d2f-41e7-d138-1fbbae2c7e80"
      },
      "execution_count": null,
      "outputs": [
        {
          "output_type": "error",
          "ename": "NameError",
          "evalue": "ignored",
          "traceback": [
            "\u001b[0;31m---------------------------------------------------------------------------\u001b[0m",
            "\u001b[0;31mNameError\u001b[0m                                 Traceback (most recent call last)",
            "\u001b[0;32m<ipython-input-50-3db29c61a670>\u001b[0m in \u001b[0;36m<module>\u001b[0;34m()\u001b[0m\n\u001b[1;32m      1\u001b[0m \u001b[0;32mdel\u001b[0m \u001b[0ml\u001b[0m\u001b[0;34m\u001b[0m\u001b[0;34m\u001b[0m\u001b[0m\n\u001b[0;32m----> 2\u001b[0;31m \u001b[0mprint\u001b[0m\u001b[0;34m(\u001b[0m\u001b[0ml\u001b[0m\u001b[0;34m)\u001b[0m\u001b[0;34m\u001b[0m\u001b[0;34m\u001b[0m\u001b[0m\n\u001b[0m",
            "\u001b[0;31mNameError\u001b[0m: name 'l' is not defined"
          ]
        }
      ]
    },
    {
      "cell_type": "markdown",
      "metadata": {
        "id": "cYyKuo3E2v2K"
      },
      "source": [
        "## State and identity\n",
        "\n",
        "- The state referred to by a variable is *different* from its identity.\n",
        "\n",
        "- To compare *state* use the `==` operator.\n",
        "\n",
        "- To compare *identity* use the `is` operator.\n",
        "\n",
        "- When we compare identity we check equality of references.\n",
        "\n",
        "- When we compare state we check equality of values.\n"
      ]
    },
    {
      "cell_type": "code",
      "execution_count": null,
      "metadata": {
        "id": "7gsTdK3x2v2Q"
      },
      "outputs": [],
      "source": [
        "# create a list names that contians element 'Earth','Air','Fire','Water'\n",
        "names = ['Earth','Air','Fire','Water']"
      ]
    },
    {
      "cell_type": "markdown",
      "metadata": {
        "id": "YO26ks-d2v2Q"
      },
      "source": [
        "Lets check if the items 'Air' and 'Wind' are present in the list or not"
      ]
    },
    {
      "cell_type": "code",
      "execution_count": null,
      "metadata": {
        "id": "nzdbaLre2v2R",
        "outputId": "a51c0b77-009e-4e3b-9fb2-475699fbae1c"
      },
      "outputs": [
        {
          "data": {
            "text/plain": [
              "False"
            ]
          },
          "execution_count": 15,
          "metadata": {},
          "output_type": "execute_result"
        }
      ],
      "source": [
        "# check if Wind is present in names list\n"
      ]
    },
    {
      "cell_type": "code",
      "execution_count": null,
      "metadata": {
        "id": "pELRsJ-z2v2R",
        "outputId": "76a9ef4a-2ad9-404a-984d-6650558f8afa"
      },
      "outputs": [
        {
          "data": {
            "text/plain": [
              "True"
            ]
          },
          "execution_count": 16,
          "metadata": {},
          "output_type": "execute_result"
        }
      ],
      "source": [
        "# check if Air is present in names list\n"
      ]
    },
    {
      "cell_type": "code",
      "execution_count": null,
      "metadata": {
        "id": "OtoTgzwr2v2L"
      },
      "outputs": [],
      "source": [
        "# create a list X = [1,2] , create a list Y = [1] and append 2 to Y\n"
      ]
    },
    {
      "cell_type": "code",
      "execution_count": null,
      "metadata": {
        "id": "bRQrDpmr2v2M",
        "outputId": "138872b8-b73e-4cc2-c4f4-81aa8cd05474"
      },
      "outputs": [
        {
          "data": {
            "text/plain": [
              "True"
            ]
          },
          "execution_count": 9,
          "metadata": {},
          "output_type": "execute_result"
        }
      ],
      "source": [
        "# check X and Y using \"==\" operator\n"
      ]
    },
    {
      "cell_type": "code",
      "execution_count": null,
      "metadata": {
        "id": "qnvj-x_r2v2M",
        "outputId": "5ac42622-e52b-4e28-8391-d5a60004501d"
      },
      "outputs": [
        {
          "data": {
            "text/plain": [
              "False"
            ]
          },
          "execution_count": 10,
          "metadata": {},
          "output_type": "execute_result"
        }
      ],
      "source": [
        "# check the same with \"is\" operator\n"
      ]
    },
    {
      "cell_type": "code",
      "execution_count": null,
      "metadata": {
        "id": "d6Ac1U8i2v2N",
        "outputId": "8897ca2a-52c5-4cbf-f614-afc38d72f234"
      },
      "outputs": [
        {
          "data": {
            "text/plain": [
              "[1, 2]"
            ]
          },
          "execution_count": 11,
          "metadata": {},
          "output_type": "execute_result"
        }
      ],
      "source": [
        "# if you append 3 to Y, x does not change. check?\n"
      ]
    },
    {
      "cell_type": "markdown",
      "metadata": {
        "id": "118DUOx82v2X"
      },
      "source": [
        "## Sorting"
      ]
    },
    {
      "cell_type": "code",
      "execution_count": null,
      "metadata": {
        "id": "96Kni9z-2v2X",
        "outputId": "a1c6f388-6412-40f3-b263-13674b326827"
      },
      "outputs": [
        {
          "name": "stdout",
          "output_type": "stream",
          "text": [
            "['Air', 'Earth', 'Fire', 'Water']\n",
            "['Water', 'Fire', 'Earth', 'Air']\n"
          ]
        }
      ],
      "source": [
        "# sort the list names\n",
        "names.sort()\n",
        "print(names)\n",
        "\n",
        "#reverse sort the list names\n"
      ]
    },
    {
      "cell_type": "markdown",
      "metadata": {
        "id": "heyQl-jm2v2X"
      },
      "source": [
        "## Reversing"
      ]
    },
    {
      "cell_type": "code",
      "execution_count": null,
      "metadata": {
        "id": "cqQjw_M62v2Y",
        "outputId": "942da79d-8963-425d-9b7d-8a8d105bdb96",
        "colab": {
          "base_uri": "https://localhost:8080/"
        }
      },
      "outputs": [
        {
          "output_type": "stream",
          "name": "stdout",
          "text": [
            "['Water', 'Fire', 'Air', 'Earth']\n",
            "['Earth', 'Air', 'Fire', 'Water']\n",
            "['Water', 'Fire', 'Air', 'Earth']\n"
          ]
        }
      ],
      "source": [
        "# Reverse the list\n"
      ]
    },
    {
      "cell_type": "markdown",
      "metadata": {
        "id": "31l0ci1b2v2b"
      },
      "source": [
        "# Tuples  \n",
        "\n",
        "- Tuples are another way to combine different values.\n",
        "\n",
        "- The combined values can be of different types.\n",
        "\n",
        "- Like lists, they have a well-defined ordering and can be indexed.\n",
        "\n",
        "- To create a tuple in Python, use round brackets i.e **(** ) instead of square brackets which are used for lists."
      ]
    },
    {
      "cell_type": "markdown",
      "source": [
        "### Ways to create tuple object\n",
        "1. Using brackets like **(** **)** [ *Most common way to create a tuple* ]\n",
        "2. Using comma seperated values\n",
        "3. Using `tuple()` in built function"
      ],
      "metadata": {
        "id": "o5q3eJspWKfa"
      }
    },
    {
      "cell_type": "code",
      "execution_count": null,
      "metadata": {
        "id": "7_V-HXHW2v2b",
        "outputId": "a7f43648-a7c7-4e14-eb3d-a078e6e090fc",
        "colab": {
          "base_uri": "https://localhost:8080/"
        }
      },
      "outputs": [
        {
          "output_type": "stream",
          "name": "stdout",
          "text": [
            "(0, 'hello')\n",
            "<class 'tuple'>\n"
          ]
        }
      ],
      "source": [
        "# create a tuple with elements 0 and 'hello'\n"
      ]
    },
    {
      "cell_type": "code",
      "execution_count": null,
      "metadata": {
        "id": "7sQUXTCR2v2b",
        "outputId": "80134ce8-4243-4b21-dd04-f2271db18136"
      },
      "outputs": [
        {
          "name": "stdout",
          "output_type": "stream",
          "text": [
            "0\n",
            "hello\n",
            "<class 'tuple'>\n"
          ]
        }
      ],
      "source": [
        "# print first and second element of type, also print type\n"
      ]
    },
    {
      "cell_type": "code",
      "source": [
        "# create a tuple with elements 0 and 'hello'\n",
        "tuple_1 = 0, 'hello'\n",
        "print(tuple_1)\n",
        "print(type(tuple_1))"
      ],
      "metadata": {
        "colab": {
          "base_uri": "https://localhost:8080/"
        },
        "id": "DIsNnk2qWgOq",
        "outputId": "a9805425-c069-421b-cb4f-4805cec234a6"
      },
      "execution_count": null,
      "outputs": [
        {
          "output_type": "stream",
          "name": "stdout",
          "text": [
            "(0, 'hello')\n",
            "<class 'tuple'>\n"
          ]
        }
      ]
    },
    {
      "cell_type": "markdown",
      "source": [
        "if you want to create a tuple with single value then make sure to pass a comma after first value."
      ],
      "metadata": {
        "id": "1sPAxSC0WpgZ"
      }
    },
    {
      "cell_type": "code",
      "source": [
        "## Is this tuple?\n",
        "tuple_2 = 'Relevel'  ## Without comma it considered as a string"
      ],
      "metadata": {
        "colab": {
          "base_uri": "https://localhost:8080/"
        },
        "id": "e6yARlGjWnn6",
        "outputId": "49dbadf0-a946-474a-ca13-de6d2ff009a5"
      },
      "execution_count": null,
      "outputs": [
        {
          "output_type": "stream",
          "name": "stdout",
          "text": [
            "Relevel\n",
            "<class 'str'>\n"
          ]
        }
      ]
    },
    {
      "cell_type": "code",
      "source": [
        "# Create the same above string as a tuple\n",
        "tuple_2 = 'Relevel'\n",
        "print(tuple_2)\n",
        "print(type(tuple_2))"
      ],
      "metadata": {
        "colab": {
          "base_uri": "https://localhost:8080/"
        },
        "id": "oR2mdwaKW6aq",
        "outputId": "867ffb62-408e-45e6-fa6b-e82e6acb4a86"
      },
      "execution_count": null,
      "outputs": [
        {
          "output_type": "stream",
          "name": "stdout",
          "text": [
            "('Relevel',)\n",
            "<class 'tuple'>\n"
          ]
        }
      ]
    },
    {
      "cell_type": "code",
      "source": [
        "## Convert a string into tuple\n",
        "name = \"Relevel\"\n",
        "\n"
      ],
      "metadata": {
        "colab": {
          "base_uri": "https://localhost:8080/"
        },
        "id": "dzbvbgJOXA9R",
        "outputId": "ea3f3225-4e5b-4742-ddcb-570e647997f7"
      },
      "execution_count": null,
      "outputs": [
        {
          "output_type": "stream",
          "name": "stdout",
          "text": [
            "('R', 'e', 'l', 'e', 'v', 'e', 'l')\n",
            "<class 'tuple'>\n"
          ]
        }
      ]
    },
    {
      "cell_type": "markdown",
      "metadata": {
        "id": "Sc6y7hJc2v2c"
      },
      "source": [
        "## Tuples are immutable\n",
        "\n",
        "- Unlike lists, tuples are *immutable*.  Once we have created a tuple we cannot add values to it.\n"
      ]
    },
    {
      "cell_type": "code",
      "source": [
        "## Immutable Tuple\n",
        "## Try converting r to R\n",
        "\n",
        "company = 'relevel'\n",
        "\n",
        "company[0] = 'R'"
      ],
      "metadata": {
        "colab": {
          "base_uri": "https://localhost:8080/",
          "height": 207
        },
        "id": "6godJqma7IuI",
        "outputId": "c0515184-d2e4-4bf1-c374-b342dad700f1"
      },
      "execution_count": null,
      "outputs": [
        {
          "output_type": "error",
          "ename": "TypeError",
          "evalue": "ignored",
          "traceback": [
            "\u001b[0;31m---------------------------------------------------------------------------\u001b[0m",
            "\u001b[0;31mTypeError\u001b[0m                                 Traceback (most recent call last)",
            "\u001b[0;32m<ipython-input-6-c7563b633ece>\u001b[0m in \u001b[0;36m<module>\u001b[0;34m()\u001b[0m\n\u001b[1;32m      3\u001b[0m \u001b[0mcompany\u001b[0m \u001b[0;34m=\u001b[0m \u001b[0;34m'relevel'\u001b[0m\u001b[0;34m\u001b[0m\u001b[0;34m\u001b[0m\u001b[0m\n\u001b[1;32m      4\u001b[0m \u001b[0;34m\u001b[0m\u001b[0m\n\u001b[0;32m----> 5\u001b[0;31m \u001b[0mcompany\u001b[0m\u001b[0;34m[\u001b[0m\u001b[0;36m0\u001b[0m\u001b[0;34m]\u001b[0m \u001b[0;34m=\u001b[0m \u001b[0;34m'R'\u001b[0m\u001b[0;34m\u001b[0m\u001b[0;34m\u001b[0m\u001b[0m\n\u001b[0m",
            "\u001b[0;31mTypeError\u001b[0m: 'str' object does not support item assignment"
          ]
        }
      ]
    },
    {
      "cell_type": "code",
      "execution_count": null,
      "metadata": {
        "id": "MHOb8vKP2v2c",
        "outputId": "9c6b6560-e4f4-428b-b001-614826f20b3e"
      },
      "outputs": [
        {
          "ename": "AttributeError",
          "evalue": "'tuple' object has no attribute 'append'",
          "output_type": "error",
          "traceback": [
            "\u001b[0;31m---------------------------------------------------------------------------\u001b[0m",
            "\u001b[0;31mAttributeError\u001b[0m                            Traceback (most recent call last)",
            "\u001b[0;32m<ipython-input-37-e8667adbf818>\u001b[0m in \u001b[0;36m<module>\u001b[0;34m\u001b[0m\n\u001b[1;32m      1\u001b[0m \u001b[0;31m# try to append a number 25 to the tuple - tuple_1\u001b[0m\u001b[0;34m\u001b[0m\u001b[0;34m\u001b[0m\u001b[0;34m\u001b[0m\u001b[0m\n\u001b[0;32m----> 2\u001b[0;31m \u001b[0mtuple_1\u001b[0m\u001b[0;34m.\u001b[0m\u001b[0mappend\u001b[0m\u001b[0;34m(\u001b[0m\u001b[0;36m23\u001b[0m\u001b[0;34m)\u001b[0m\u001b[0;34m\u001b[0m\u001b[0;34m\u001b[0m\u001b[0m\n\u001b[0m",
            "\u001b[0;31mAttributeError\u001b[0m: 'tuple' object has no attribute 'append'"
          ]
        }
      ],
      "source": [
        "# try to append a number 23 to the tuple - tuple_1\n"
      ]
    },
    {
      "cell_type": "code",
      "source": [
        "# Will this work?\n",
        "tuple_1[2] = \"hi\""
      ],
      "metadata": {
        "colab": {
          "base_uri": "https://localhost:8080/",
          "height": 171
        },
        "id": "V3ML3IYTYDQp",
        "outputId": "30f676d7-b64c-4a0b-89b8-27bb78dd27ee"
      },
      "execution_count": null,
      "outputs": [
        {
          "output_type": "error",
          "ename": "TypeError",
          "evalue": "ignored",
          "traceback": [
            "\u001b[0;31m---------------------------------------------------------------------------\u001b[0m",
            "\u001b[0;31mTypeError\u001b[0m                                 Traceback (most recent call last)",
            "\u001b[0;32m<ipython-input-10-5af081692cfe>\u001b[0m in \u001b[0;36m<module>\u001b[0;34m()\u001b[0m\n\u001b[0;32m----> 1\u001b[0;31m \u001b[0mtuple_1\u001b[0m\u001b[0;34m[\u001b[0m\u001b[0;36m2\u001b[0m\u001b[0;34m]\u001b[0m \u001b[0;34m=\u001b[0m \u001b[0;34m\"hi\"\u001b[0m\u001b[0;34m\u001b[0m\u001b[0;34m\u001b[0m\u001b[0m\n\u001b[0m",
            "\u001b[0;31mTypeError\u001b[0m: 'tuple' object does not support item assignment"
          ]
        }
      ]
    },
    {
      "cell_type": "code",
      "source": [
        "# Delete 2nd item from the tuple\n"
      ],
      "metadata": {
        "colab": {
          "base_uri": "https://localhost:8080/",
          "height": 171
        },
        "id": "Z8gKJ98vfydp",
        "outputId": "cb0e6c19-31cb-4447-9423-dad9adeb9313"
      },
      "execution_count": null,
      "outputs": [
        {
          "output_type": "error",
          "ename": "TypeError",
          "evalue": "ignored",
          "traceback": [
            "\u001b[0;31m---------------------------------------------------------------------------\u001b[0m",
            "\u001b[0;31mTypeError\u001b[0m                                 Traceback (most recent call last)",
            "\u001b[0;32m<ipython-input-34-31315cadb731>\u001b[0m in \u001b[0;36m<module>\u001b[0;34m()\u001b[0m\n\u001b[0;32m----> 1\u001b[0;31m \u001b[0;32mdel\u001b[0m \u001b[0mtuple_1\u001b[0m\u001b[0;34m[\u001b[0m\u001b[0;36m2\u001b[0m\u001b[0;34m]\u001b[0m\u001b[0;34m\u001b[0m\u001b[0;34m\u001b[0m\u001b[0m\n\u001b[0m",
            "\u001b[0;31mTypeError\u001b[0m: 'tuple' object doesn't support item deletion"
          ]
        }
      ]
    },
    {
      "cell_type": "code",
      "source": [
        "## Delete the Tuple\n"
      ],
      "metadata": {
        "id": "WlREP6K4f8-v"
      },
      "execution_count": null,
      "outputs": []
    },
    {
      "cell_type": "markdown",
      "metadata": {
        "id": "Bo4bcHej2v2c"
      },
      "source": [
        "Tuples are similar to lists but only big difference is the elements inside a list can be changed but in tuple it cannot be changed. Think of tuples as something which has to be True for a particular something and cannot be True for no other values. \n"
      ]
    },
    {
      "cell_type": "markdown",
      "metadata": {
        "id": "S5ClpeXy2v2c"
      },
      "source": [
        "If you want to directly declare a tuple it can be done by using a comma at the end of the data. [MOVE IT PRATICE SESSION]"
      ]
    },
    {
      "cell_type": "code",
      "execution_count": null,
      "metadata": {
        "id": "P3WWSsje2v2d",
        "outputId": "5088cb74-33d3-4530-94dd-a8f879617044"
      },
      "outputs": [
        {
          "data": {
            "text/plain": [
              "(27,)"
            ]
          },
          "execution_count": 38,
          "metadata": {},
          "output_type": "execute_result"
        }
      ],
      "source": [
        "# create a tuple using , \n"
      ]
    },
    {
      "cell_type": "markdown",
      "metadata": {
        "id": "Rkl7FRV52v2d"
      },
      "source": [
        "27 when multiplied by 2 yields 54, But when multiplied with a tuple the data is repeated twice."
      ]
    },
    {
      "cell_type": "code",
      "execution_count": null,
      "metadata": {
        "id": "f5ymPnKB2v2d",
        "outputId": "d1ba25dd-d689-44be-c383-73d0d6f2e494",
        "colab": {
          "base_uri": "https://localhost:8080/"
        }
      },
      "outputs": [
        {
          "output_type": "execute_result",
          "data": {
            "text/plain": [
              "(27, 27)"
            ]
          },
          "metadata": {},
          "execution_count": 1
        }
      ],
      "source": [
        "# multiply the create tuple by 2 and see the results \n"
      ]
    },
    {
      "cell_type": "markdown",
      "metadata": {
        "id": "H158AzeR2v2d"
      },
      "source": [
        "Values can be assigned while declaring a tuple. It takes a list as input and converts it into a tuple or it takes a string and converts it into a tuple."
      ]
    },
    {
      "cell_type": "code",
      "execution_count": null,
      "metadata": {
        "id": "D-I6nKim2v2e",
        "outputId": "5f33d32f-1527-46c4-d661-9e47d8bc4b5c"
      },
      "outputs": [
        {
          "name": "stdout",
          "output_type": "stream",
          "text": [
            "(10, 100, 1000)\n",
            "('G', 'O', 'O', 'D', ' ', 'M', 'O', 'R', 'N', 'I', 'N', 'G')\n"
          ]
        }
      ],
      "source": [
        "# crate a tuple named tuple_3 from a list of numbers 1,2,3\n"
      ]
    },
    {
      "cell_type": "markdown",
      "metadata": {
        "id": "EtuamHUp2v2e"
      },
      "source": [
        "## Slicing  \n",
        "Slicing is very similar to lists"
      ]
    },
    {
      "cell_type": "code",
      "source": [
        "tuple_2 = 10, 100, 1000, 10000\n",
        "\n",
        "# get the second element of tuple_2\n",
        "\n",
        "\n",
        "# get the second element of tuple_2\n"
      ],
      "metadata": {
        "colab": {
          "base_uri": "https://localhost:8080/"
        },
        "id": "VFDnXoktYW4X",
        "outputId": "0f441255-06b1-4d98-ab5a-450e0a55eb3c"
      },
      "execution_count": null,
      "outputs": [
        {
          "output_type": "stream",
          "name": "stdout",
          "text": [
            "100\n",
            "100\n"
          ]
        }
      ]
    },
    {
      "cell_type": "code",
      "source": [
        "tuple_3 = tuple_2, (20, 200, 2000, 20000)\n",
        "\n",
        "\n",
        "# get the second element of tuple _3\n",
        "\n",
        "\n",
        "# get the second element of tuple _3\n"
      ],
      "metadata": {
        "colab": {
          "base_uri": "https://localhost:8080/"
        },
        "id": "elRTL-_2Y2gm",
        "outputId": "725d6431-39d4-4a37-e62d-408c2d8324dc"
      },
      "execution_count": null,
      "outputs": [
        {
          "output_type": "stream",
          "name": "stdout",
          "text": [
            "((10, 100, 1000, 10000), (20, 200, 2000, 20000))\n",
            "(20, 200, 2000, 20000)\n",
            "200\n"
          ]
        }
      ]
    },
    {
      "cell_type": "code",
      "execution_count": null,
      "metadata": {
        "id": "mte-s5vq2v2e",
        "outputId": "edbd1c1f-5041-4505-d283-7252b215e510",
        "colab": {
          "base_uri": "https://localhost:8080/"
        }
      },
      "outputs": [
        {
          "output_type": "stream",
          "name": "stdout",
          "text": [
            "('G', 'O', 'O', 'D')\n"
          ]
        }
      ],
      "source": [
        "tuple_4 = tuple('GOOD MORNING')\n",
        "# get the first three letters of tuple GOOD MORNING\n"
      ]
    },
    {
      "cell_type": "markdown",
      "source": [
        "## Indexing  \n",
        "Indexing is again very similar to lists"
      ],
      "metadata": {
        "id": "w9gsbqz5Yudx"
      }
    },
    {
      "cell_type": "code",
      "source": [
        "tuple_3 = 10, 100, 1000, 10000, 100000, 1000000\n",
        "\n"
      ],
      "metadata": {
        "colab": {
          "base_uri": "https://localhost:8080/"
        },
        "id": "eMuyFzslYy-P",
        "outputId": "0cba9048-2ba2-4f6a-820e-57047bdad0c3"
      },
      "execution_count": null,
      "outputs": [
        {
          "output_type": "stream",
          "name": "stdout",
          "text": [
            "(100, 1000)\n",
            "(100, 10000)\n",
            "(10000, 100000, 1000000)\n",
            "(10, 100, 1000)\n",
            "(10, 100, 1000)\n",
            "(10000, 100000, 1000000)\n",
            "(10000, 100000)\n"
          ]
        }
      ]
    },
    {
      "cell_type": "markdown",
      "metadata": {
        "id": "OYX74om42v2e"
      },
      "source": [
        "## Built In Tuple functions  \n",
        "**count()** function counts the number of specified element that is present in the tuple.  \n",
        "**index()** function returns the index of the specified element. If the elements are more than one then the index of the first element of that specified element is returned"
      ]
    },
    {
      "cell_type": "code",
      "execution_count": null,
      "metadata": {
        "id": "WmxYo-R72v2f",
        "outputId": "09b5fd3d-cbee-4c8a-c3db-c0a5dc70720d"
      },
      "outputs": [
        {
          "name": "stdout",
          "output_type": "stream",
          "text": [
            "3\n",
            "1\n"
          ]
        }
      ],
      "source": [
        "# create a tuple named example with numbers 0,1,2,3,4,5,1,2,1 and use count and index\n",
        "example = (0,1,2,3,4,5,1,2,1)\n",
        "\n",
        "# use count\n",
        "\n",
        "\n",
        "# use index\n"
      ]
    },
    {
      "cell_type": "markdown",
      "metadata": {
        "id": "wCdLch-a2v2f"
      },
      "source": [
        "# Dictionary"
      ]
    },
    {
      "cell_type": "markdown",
      "metadata": {
        "id": "flQvZGGY2v2f"
      },
      "source": [
        "Dictionaries are more used like a database because here you can index a particular sequence with your user defined string. To define a dictionary, equate a variable to { } or dict()"
      ]
    },
    {
      "cell_type": "code",
      "execution_count": null,
      "metadata": {
        "id": "xL_fss0D2v2g",
        "outputId": "ac41e78e-5e72-4002-8e12-0c0abaa93dc4",
        "colab": {
          "base_uri": "https://localhost:8080/"
        }
      },
      "outputs": [
        {
          "output_type": "stream",
          "name": "stdout",
          "text": [
            "{} {}\n",
            "<class 'dict'> <class 'dict'>\n"
          ]
        }
      ],
      "source": [
        "\n",
        "\n",
        "# initialise using dict()\n",
        "\n",
        "\n"
      ]
    },
    {
      "cell_type": "markdown",
      "metadata": {
        "id": "17YFUn9k2v2g"
      },
      "source": [
        "## Dictionary Operators"
      ]
    },
    {
      "cell_type": "code",
      "execution_count": null,
      "metadata": {
        "id": "lURt8yHP2v2i"
      },
      "outputs": [],
      "source": [
        "# create a dictionary with keys as Maharashtra and Tamil Nadu and values as Mumbai and Chennai\n"
      ]
    },
    {
      "cell_type": "markdown",
      "source": [
        "## Update Dictionary\n",
        "1. Using **assignment (=)** operator. Dictionary works somewhat like a list but with an added capability of assigning it's own index style.\n",
        "2. Using **update()** function"
      ],
      "metadata": {
        "id": "ZcDWWnd3Mct3"
      }
    },
    {
      "cell_type": "code",
      "source": [
        "#create a new key Rajasthan whose capital(value) is Jaipur\n",
        "\n",
        "\n",
        "#create another key-value i.e 'Punjab' : 'Chandigarh' pair using update()\n"
      ],
      "metadata": {
        "colab": {
          "base_uri": "https://localhost:8080/"
        },
        "id": "HrsKhh9OHUYS",
        "outputId": "522ebcbb-32f1-4e7f-f742-391b8a5f715f"
      },
      "execution_count": null,
      "outputs": [
        {
          "output_type": "stream",
          "name": "stdout",
          "text": [
            "{'Maharashtra': 'Mumbai', 'Tamil Nadu': 'Chennai', 'Rajasthan': 'Jaipur', 'Punjab': 'Chandigarh'}\n",
            "4\n"
          ]
        }
      ]
    },
    {
      "cell_type": "markdown",
      "metadata": {
        "id": "GFTVJ0L42v2i"
      },
      "source": [
        "Dictionary keys are unique and hence we cannot have two similar keys. Values can be the same though."
      ]
    },
    {
      "cell_type": "code",
      "execution_count": null,
      "metadata": {
        "id": "vqGfpB7p2v2i",
        "outputId": "76d8b77d-88b9-4870-9d15-345976f567bd",
        "colab": {
          "base_uri": "https://localhost:8080/"
        }
      },
      "outputs": [
        {
          "output_type": "stream",
          "name": "stdout",
          "text": [
            "{'Maharashtra': 'Mumbai', 'Tamil Nadu': 'Chennai', 'Rajasthan': 'Jaipur', 'Punjab': 'Chandigarh', 'Haryana': 'Chandigarh'}\n"
          ]
        }
      ],
      "source": [
        "# add another key value pair Haryana and Chandigarh\n"
      ]
    },
    {
      "cell_type": "code",
      "source": [
        "capitals.update({0 : 1, \"Nested_dict\" : { \"Key1\" : \"Value 1\", \"Key2\" : 2}})"
      ],
      "metadata": {
        "id": "-PTmiG26LnKW"
      },
      "execution_count": null,
      "outputs": []
    },
    {
      "cell_type": "code",
      "source": [
        "capitals['List_Values']= [0, 1, 2, 3, 4]"
      ],
      "metadata": {
        "id": "yqgrsJxgLNgf"
      },
      "execution_count": null,
      "outputs": []
    },
    {
      "cell_type": "code",
      "source": [
        "print(capitals)"
      ],
      "metadata": {
        "colab": {
          "base_uri": "https://localhost:8080/"
        },
        "id": "UpuSFDfLLgG-",
        "outputId": "997dd0c4-fe9a-45e1-f030-9d965c43d19e"
      },
      "execution_count": null,
      "outputs": [
        {
          "output_type": "stream",
          "name": "stdout",
          "text": [
            "{'Maharashtra': 'Mumbai', 'Tamil Nadu': 'Chennai', 'Rajasthan': 'Jaipur', 'Punjab': 'Chandigarh', 'Haryana': 'Chandigarh', 0: 1, 'Nested_dict': {'Key1': 'Value 1', 'Key2': 2}, 'List_Values': [0, 1, 2, 3, 4]}\n"
          ]
        }
      ]
    },
    {
      "cell_type": "markdown",
      "source": [
        "## Accessing the value of a Dictionary"
      ],
      "metadata": {
        "id": "PQnYS4wAMuLe"
      }
    },
    {
      "cell_type": "markdown",
      "metadata": {
        "id": "gxwW9SK-2v2g"
      },
      "source": [
        "Lets look at some of the operators in Python\n",
        "\n",
        "[ ] : usage -> myDict[k] ,Returns the value associated with k, otherwise its an error"
      ]
    },
    {
      "cell_type": "code",
      "source": [
        "#get the capital of Maharashtra\n"
      ],
      "metadata": {
        "colab": {
          "base_uri": "https://localhost:8080/"
        },
        "id": "wPzQN13rK0eh",
        "outputId": "aa3f735c-8943-47e4-aa41-4ee1a50467c7"
      },
      "execution_count": null,
      "outputs": [
        {
          "output_type": "stream",
          "name": "stdout",
          "text": [
            "Mumbai\n"
          ]
        }
      ]
    },
    {
      "cell_type": "markdown",
      "source": [
        "### Accessing the nested values"
      ],
      "metadata": {
        "id": "tavBdcPQNO6N"
      }
    },
    {
      "cell_type": "code",
      "source": [
        "# Access Key1 from capitals\n"
      ],
      "metadata": {
        "colab": {
          "base_uri": "https://localhost:8080/"
        },
        "id": "KAs8YQMSNOZe",
        "outputId": "9d8459d8-9b92-467b-842c-5fb0188f06ab"
      },
      "execution_count": null,
      "outputs": [
        {
          "output_type": "stream",
          "name": "stdout",
          "text": [
            "Value 1\n"
          ]
        }
      ]
    },
    {
      "cell_type": "code",
      "source": [
        "# Access 2 from capitals\n"
      ],
      "metadata": {
        "colab": {
          "base_uri": "https://localhost:8080/"
        },
        "id": "7GQf_TjuNisa",
        "outputId": "ef6cbaad-a492-4c2a-c2d2-320ff865b3e7"
      },
      "execution_count": null,
      "outputs": [
        {
          "output_type": "stream",
          "name": "stdout",
          "text": [
            "2\n"
          ]
        }
      ]
    },
    {
      "cell_type": "markdown",
      "source": [
        "## Deleting the value from Dictionary\n",
        "\n",
        "**del**\toperator : usage -> del adict[key] , Removes the entry from the dictionary"
      ],
      "metadata": {
        "id": "ph7Hpf9MPVzT"
      }
    },
    {
      "cell_type": "code",
      "source": [
        "# Delete Punjab from capital\n"
      ],
      "metadata": {
        "colab": {
          "base_uri": "https://localhost:8080/"
        },
        "id": "aZrfA8gpPuZS",
        "outputId": "1ec609b8-f23a-4f80-96d9-8e0c97765f18"
      },
      "execution_count": null,
      "outputs": [
        {
          "output_type": "execute_result",
          "data": {
            "text/plain": [
              "{0: 1,\n",
              " 'Haryana': 'Chandigarh',\n",
              " 'List_Values': [0, 1, 2, 3, 4],\n",
              " 'Maharashtra': 'Mumbai',\n",
              " 'Nested_dict': {'Key1': 'Value 1', 'Key2': 2},\n",
              " 'Rajasthan': 'Jaipur',\n",
              " 'Tamil Nadu': 'Chennai'}"
            ]
          },
          "metadata": {},
          "execution_count": 53
        }
      ]
    },
    {
      "cell_type": "code",
      "source": [
        "# Delete 3 from List_Values\n"
      ],
      "metadata": {
        "colab": {
          "base_uri": "https://localhost:8080/"
        },
        "id": "2fcrlumiQLIC",
        "outputId": "a81aa142-d23a-4eed-a947-a600950e3f95"
      },
      "execution_count": null,
      "outputs": [
        {
          "output_type": "execute_result",
          "data": {
            "text/plain": [
              "{0: 1,\n",
              " 'Haryana': 'Chandigarh',\n",
              " 'List_Values': [0, 1, 2, 4],\n",
              " 'Maharashtra': 'Mumbai',\n",
              " 'Nested_dict': {'Key1': 'Value 1', 'Key2': 2},\n",
              " 'Rajasthan': 'Jaipur',\n",
              " 'Tamil Nadu': 'Chennai'}"
            ]
          },
          "metadata": {},
          "execution_count": 54
        }
      ]
    },
    {
      "cell_type": "code",
      "source": [
        "# Pop item in Dict\n"
      ],
      "metadata": {
        "colab": {
          "base_uri": "https://localhost:8080/"
        },
        "id": "0Q5tu53zQTKB",
        "outputId": "27130b17-ed39-4b99-9801-e34bc2e4d485"
      },
      "execution_count": null,
      "outputs": [
        {
          "output_type": "stream",
          "name": "stdout",
          "text": [
            "('List_Values', [0, 1, 2, 4])\n",
            "{'Maharashtra': 'Mumbai', 'Tamil Nadu': 'Chennai', 'Rajasthan': 'Jaipur', 'Haryana': 'Chandigarh', 0: 1, 'Nested_dict': {'Key1': 'Value 1', 'Key2': 2}}\n"
          ]
        }
      ]
    },
    {
      "cell_type": "code",
      "source": [
        "# Pop Nested_dict in Dict\n"
      ],
      "metadata": {
        "colab": {
          "base_uri": "https://localhost:8080/"
        },
        "id": "AkJvxP2sRmBg",
        "outputId": "4d4150f1-5482-481a-8f01-73c2c2ab3464"
      },
      "execution_count": null,
      "outputs": [
        {
          "output_type": "stream",
          "name": "stdout",
          "text": [
            "{'Key1': 'Value 1', 'Key2': 2}\n",
            "{'Maharashtra': 'Mumbai', 'Tamil Nadu': 'Chennai', 'Rajasthan': 'Jaipur', 'Haryana': 'Chandigarh', 0: 1}\n"
          ]
        }
      ]
    },
    {
      "cell_type": "code",
      "source": [
        "# Deleting entire Dictionary\n"
      ],
      "metadata": {
        "colab": {
          "base_uri": "https://localhost:8080/"
        },
        "id": "PeI-SHAtRvHQ",
        "outputId": "9f388476-fcaf-4b7d-fefb-c365a4bf1933"
      },
      "execution_count": null,
      "outputs": [
        {
          "output_type": "stream",
          "name": "stdout",
          "text": [
            "\n",
            "Deleting Entire Dictionary: \n",
            "{}\n"
          ]
        }
      ]
    },
    {
      "cell_type": "markdown",
      "metadata": {
        "id": "KrDSuhKg2v2h"
      },
      "source": [
        "## Dictionary Methods\n",
        "\n",
        "**in** operator : usage -> key in adict ,Returns True if key is in the dictionary, False otherwise"
      ]
    },
    {
      "cell_type": "code",
      "execution_count": null,
      "metadata": {
        "id": "J2Kt6lJ02v2h",
        "outputId": "4683382c-0a23-4b81-9f26-5dcc4b20cef4"
      },
      "outputs": [
        {
          "data": {
            "text/plain": [
              "True"
            ]
          },
          "execution_count": 45,
          "metadata": {},
          "output_type": "execute_result"
        }
      ],
      "source": [
        "# check if 'One' is present in dict_1\n"
      ]
    },
    {
      "cell_type": "markdown",
      "metadata": {
        "id": "Fjc9-W7E2v2i"
      },
      "source": [
        "\n",
        "| Method | Use | Explanation |\n",
        "|----|---|---|\n",
        "| keys | adict.keys() |Returns the keys of the dictionary in a dict_keys object |\n",
        "| values\t| adict.values() |\tReturns the values of the dictionary in a dict_values object |\n",
        "| items\t|adict.items()\t|Returns the key-value pairs in a dict_items object|\n",
        "| get\t|adict.get(k)\t|Returns the value associated with k, None otherwise|\n",
        "| get\t|adict.get(k,alt)\t|Returns the value associated with k, alt otherwise|\n"
      ]
    },
    {
      "cell_type": "markdown",
      "metadata": {
        "id": "73M3idre2v2j"
      },
      "source": [
        "**values( )** function returns a list with all the assigned values in the dictionary./"
      ]
    },
    {
      "cell_type": "code",
      "execution_count": null,
      "metadata": {
        "id": "Ds_czzsk2v2j",
        "outputId": "4291e3bb-7213-4304-c7b1-576e69e9ccba",
        "colab": {
          "base_uri": "https://localhost:8080/"
        }
      },
      "outputs": [
        {
          "output_type": "stream",
          "name": "stdout",
          "text": [
            "dict_values(['Mumbai', 'Chennai', 'Jaipur', 'Chandigarh', 'Chandigarh'])\n",
            "<class 'dict_values'>\n"
          ]
        }
      ],
      "source": [
        "# print the capitals and get the data type of those values\n",
        "capitals = {'Maharashtra': 'Mumbai', 'Tamil Nadu': 'Chennai', 'Rajasthan': 'Jaipur', 'Punjab': 'Chandigarh', 'Haryana': 'Chandigarh'}\n"
      ]
    },
    {
      "cell_type": "code",
      "execution_count": null,
      "metadata": {
        "id": "KihFv1VH2v2j",
        "outputId": "5025c889-3021-4243-d80c-601c192b7456",
        "colab": {
          "base_uri": "https://localhost:8080/"
        }
      },
      "outputs": [
        {
          "output_type": "stream",
          "name": "stdout",
          "text": [
            "['Mumbai', 'Chennai', 'Jaipur', 'Chandigarh', 'Chandigarh']\n",
            "<class 'list'>\n"
          ]
        }
      ],
      "source": [
        "# to convert to a list use list()\n",
        "capitals_list = list(capitals.values())\n"
      ]
    },
    {
      "cell_type": "markdown",
      "metadata": {
        "id": "j_xCxoCj2v2k"
      },
      "source": [
        "**keys( )** function returns all the index or the keys to which contains the values that it was assigned to."
      ]
    },
    {
      "cell_type": "code",
      "execution_count": null,
      "metadata": {
        "id": "gan8M7bZ2v2k",
        "outputId": "627f8951-e286-4a5e-c50d-693cfbab1328"
      },
      "outputs": [
        {
          "name": "stdout",
          "output_type": "stream",
          "text": [
            "dict_keys(['Maharashtra', 'Tamil Nadu', 'Rajasthan', 'Punjab', 'Haryana'])\n",
            "<class 'dict_keys'>\n"
          ]
        }
      ],
      "source": [
        "# print the keys of the dictionary and also print the data type\n"
      ]
    },
    {
      "cell_type": "markdown",
      "metadata": {
        "id": "dujTqt4z2v2k"
      },
      "source": [
        "**items( )** is returns a list containing both the list but each element in the dictionary is inside a tuple."
      ]
    },
    {
      "cell_type": "code",
      "execution_count": null,
      "metadata": {
        "id": "rP0btkPO2v2k",
        "outputId": "9f28204d-d23d-49e3-d534-6272e42a242d",
        "colab": {
          "base_uri": "https://localhost:8080/"
        }
      },
      "outputs": [
        {
          "output_type": "stream",
          "name": "stdout",
          "text": [
            "dict_items([('Maharashtra', 'Mumbai'), ('Tamil Nadu', 'Chennai'), ('Rajasthan', 'Jaipur'), ('Punjab', 'Chandigarh'), ('Haryana', 'Chandigarh')])\n",
            "[('Maharashtra', 'Mumbai'), ('Tamil Nadu', 'Chennai'), ('Rajasthan', 'Jaipur'), ('Punjab', 'Chandigarh'), ('Haryana', 'Chandigarh')]\n"
          ]
        }
      ],
      "source": [
        "# print the items of the dictionary\n",
        "\n",
        "\n",
        "#convert to list of tuples\n"
      ]
    },
    {
      "cell_type": "markdown",
      "source": [
        "**get()** returns a value for the given key. If key is not available then returns default value None."
      ],
      "metadata": {
        "id": "rwMIy7MnTFzv"
      }
    },
    {
      "cell_type": "code",
      "source": [
        "# get the value of Tamil Nadu\n"
      ],
      "metadata": {
        "colab": {
          "base_uri": "https://localhost:8080/",
          "height": 36
        },
        "id": "UV6Ljz2NTFPw",
        "outputId": "385bbe7d-cd47-4280-8fe7-a05dfcf6e369"
      },
      "execution_count": null,
      "outputs": [
        {
          "output_type": "execute_result",
          "data": {
            "text/plain": [
              "'Chennai'"
            ],
            "application/vnd.google.colaboratory.intrinsic+json": {
              "type": "string"
            }
          },
          "metadata": {},
          "execution_count": 61
        }
      ]
    },
    {
      "cell_type": "code",
      "source": [
        "# get the value of Andhra Pradesh\n"
      ],
      "metadata": {
        "id": "8DuStqVIT2xY"
      },
      "execution_count": null,
      "outputs": []
    },
    {
      "cell_type": "code",
      "source": [
        "capitals.get(\"Andhra Pradesh\", \"Amaravati\")"
      ],
      "metadata": {
        "colab": {
          "base_uri": "https://localhost:8080/",
          "height": 36
        },
        "id": "e6IMTZ_NTdAP",
        "outputId": "e39ac406-56f2-4914-8e2f-6d856517512e"
      },
      "execution_count": null,
      "outputs": [
        {
          "output_type": "execute_result",
          "data": {
            "text/plain": [
              "'Amaravati'"
            ],
            "application/vnd.google.colaboratory.intrinsic+json": {
              "type": "string"
            }
          },
          "metadata": {},
          "execution_count": 62
        }
      ]
    },
    {
      "cell_type": "markdown",
      "metadata": {
        "id": "rl3PXHp12v2l"
      },
      "source": [
        "# Sets  \n",
        "Sets are mainly used to eliminate repeated numbers in a sequence/list. It is also used to perform some standard set operations.\n",
        "\n",
        "Sets are declared as set() which will initialize a empty set. Also set([sequence]) can be executed to declare a set with elements"
      ]
    },
    {
      "cell_type": "code",
      "execution_count": null,
      "metadata": {
        "id": "zWs2O-yq2v2m",
        "outputId": "188a7203-4897-4440-ebc9-445a23d8ca09",
        "colab": {
          "base_uri": "https://localhost:8080/"
        }
      },
      "outputs": [
        {
          "output_type": "stream",
          "name": "stdout",
          "text": [
            "<class 'set'>\n"
          ]
        }
      ],
      "source": [
        "# create a set named set_1 and initialise it by set()\n"
      ]
    },
    {
      "cell_type": "code",
      "execution_count": null,
      "metadata": {
        "id": "Mfr8taB02v2m",
        "outputId": "08b4d989-55f7-4444-eaf1-3800b1618a99",
        "colab": {
          "base_uri": "https://localhost:8080/"
        }
      },
      "outputs": [
        {
          "output_type": "stream",
          "name": "stdout",
          "text": [
            "{1, 2, 3, 4}\n"
          ]
        }
      ],
      "source": [
        "# create a set named set_1 and initialise it by set([1,2,2,3,3,4])\n"
      ]
    },
    {
      "cell_type": "code",
      "source": [
        "# Different types of sets in Python\n",
        "# set of integers\n",
        "\n",
        "# set of mixed datatypes\n"
      ],
      "metadata": {
        "colab": {
          "base_uri": "https://localhost:8080/"
        },
        "id": "uBPlCklQg0uK",
        "outputId": "7481d547-1a57-4097-bc05-1a2b01450ed3"
      },
      "execution_count": null,
      "outputs": [
        {
          "output_type": "stream",
          "name": "stdout",
          "text": [
            "{1, 2, 3, 4}\n",
            "<class 'set'>\n",
            "{2.0, 'Relevel', (1, 2, 3)}\n",
            "<class 'set'>\n"
          ]
        }
      ]
    },
    {
      "cell_type": "markdown",
      "source": [
        "### Advantages of Python Sets\n",
        "\n",
        "Because sets cannot have multiple occurrences of the same element, it makes it highly useful to remove duplicate values from a list or tuple efficiently and perform everyday math operations like unions and intersections."
      ],
      "metadata": {
        "id": "K9HGXZJfI-j2"
      }
    },
    {
      "cell_type": "code",
      "source": [
        "## Remove the duplicates from list\n",
        "l = [0, 2, 4, 2, 3, 5, 4, 1, 5]\n"
      ],
      "metadata": {
        "colab": {
          "base_uri": "https://localhost:8080/"
        },
        "id": "T-Ec9VypJaka",
        "outputId": "fd42f110-1aa6-42fe-e061-20a82a3ba9ca"
      },
      "execution_count": null,
      "outputs": [
        {
          "output_type": "stream",
          "name": "stdout",
          "text": [
            "{0, 1, 2, 3, 4, 5}\n"
          ]
        }
      ]
    },
    {
      "cell_type": "code",
      "source": [
        "# Find the set of above string\n",
        "name = \"Relevel\"\n"
      ],
      "metadata": {
        "colab": {
          "base_uri": "https://localhost:8080/"
        },
        "id": "nhxvLl3qI8aW",
        "outputId": "8e539655-6704-4c14-b7b1-23a364d8a3b8"
      },
      "execution_count": null,
      "outputs": [
        {
          "output_type": "stream",
          "name": "stdout",
          "text": [
            "{'e', 'l', 'v', 'R'}\n"
          ]
        }
      ]
    },
    {
      "cell_type": "code",
      "source": [
        "# Find the set of above string\n",
        "name = \"ReLevel\"\n"
      ],
      "metadata": {
        "colab": {
          "base_uri": "https://localhost:8080/"
        },
        "id": "03CZXsrdJJta",
        "outputId": "8b0c0051-22e8-4dfa-8f4d-1dfa945d4d88"
      },
      "execution_count": null,
      "outputs": [
        {
          "output_type": "stream",
          "name": "stdout",
          "text": [
            "{'l', 'e', 'v', 'L', 'R'}\n"
          ]
        }
      ]
    },
    {
      "cell_type": "markdown",
      "metadata": {
        "id": "8BwFrLTE2v2m"
      },
      "source": [
        "## Set Methods - Built in set functions"
      ]
    },
    {
      "cell_type": "markdown",
      "metadata": {
        "id": "AiS4h0aZ2v2m"
      },
      "source": [
        "| Method Name | Use | Explanation |\n",
        "| --- | --- | --- |\n",
        "| union | aset.union(otherset) | Returns a new set with all elements from both sets |\n",
        "| intersection\t| aset.intersection(otherset) |\tReturns a new set with only those elements common to both sets |\n",
        "|difference\t|aset.difference(otherset)\t|Returns a new set with all items from first set not in second|\n",
        "|issubset|\taset.issubset(otherset)|\t\tAsks whether all elements of one set are in the other|\n",
        "|add|\taset.add(item)|\tAdds item to the set|\n",
        "|remove|\taset.remove(item)|\tRemoves item from the set|\n",
        "|pop|\taset.pop()|\tRemoves an arbitrary element from the set|\n",
        "|clear|\taset.clear()|\tRemoves all elements from the set|"
      ]
    },
    {
      "cell_type": "code",
      "execution_count": null,
      "metadata": {
        "id": "5mpV_lYr2v2n"
      },
      "outputs": [],
      "source": [
        "set_a = set([1,2,3])\n",
        "set_b = set([2,3,4,5])"
      ]
    },
    {
      "cell_type": "markdown",
      "metadata": {
        "id": "KTP0SMkm2v2n"
      },
      "source": [
        "- Union: $X \\cup Y$:  \n",
        "**union( )** function returns a set which contains all the elements of both the sets without repetition."
      ]
    },
    {
      "cell_type": "code",
      "execution_count": null,
      "metadata": {
        "id": "ATegtvnG2v2n",
        "outputId": "d9b80092-f0c2-49eb-d265-ca1b39b2662a",
        "colab": {
          "base_uri": "https://localhost:8080/"
        }
      },
      "outputs": [
        {
          "output_type": "execute_result",
          "data": {
            "text/plain": [
              "{1, 2, 3, 4, 5}"
            ]
          },
          "metadata": {},
          "execution_count": 68
        }
      ],
      "source": [
        "# create a union of set_a and set_b\n"
      ]
    },
    {
      "cell_type": "code",
      "execution_count": null,
      "metadata": {
        "id": "wUHqThYY2v2n"
      },
      "outputs": [],
      "source": [
        "# Union\n",
        "X = {1, 2, 3}\n",
        "Y = {4, 5, 6}"
      ]
    },
    {
      "cell_type": "markdown",
      "metadata": {
        "id": "ECkKUqql2v2o"
      },
      "source": [
        "- Intersection: $X \\cap Y$:  \n",
        "**intersection( )** function outputs a set which contains all the elements that are in both sets."
      ]
    },
    {
      "cell_type": "code",
      "execution_count": null,
      "metadata": {
        "id": "J7burCzo2v2o",
        "outputId": "d65ba702-3837-4dc1-9b2f-7749a2930944",
        "colab": {
          "base_uri": "https://localhost:8080/"
        }
      },
      "outputs": [
        {
          "output_type": "execute_result",
          "data": {
            "text/plain": [
              "{2, 3}"
            ]
          },
          "metadata": {},
          "execution_count": 77
        }
      ],
      "source": [
        "# create an intersection of set_a and set_b\n"
      ]
    },
    {
      "cell_type": "code",
      "execution_count": null,
      "metadata": {
        "id": "_s9b_29g2v2o"
      },
      "outputs": [],
      "source": [
        "# create two sets X and Y and {1,2,3,4} and {3,4,5}\n",
        "X = {1, 2, 3, 4}\n",
        "Y = {3, 4, 5}"
      ]
    },
    {
      "cell_type": "markdown",
      "metadata": {
        "id": "K6I0WnRl2v2o"
      },
      "source": [
        "- Difference $X - Y$:  \n",
        "**difference( )** function ouptuts a set which contains elements that are in set1 and not in set2."
      ]
    },
    {
      "cell_type": "code",
      "execution_count": null,
      "metadata": {
        "id": "5hS_BOEq2v2p",
        "outputId": "73b36982-30de-480b-de1c-8bd57712fc21",
        "colab": {
          "base_uri": "https://localhost:8080/"
        }
      },
      "outputs": [
        {
          "output_type": "execute_result",
          "data": {
            "text/plain": [
              "{1, 2}"
            ]
          },
          "metadata": {},
          "execution_count": 73
        }
      ],
      "source": [
        "# find the difference b/w those sets\n"
      ]
    },
    {
      "cell_type": "markdown",
      "metadata": {
        "id": "zH8QpboB2v2p"
      },
      "source": [
        "**symmetric_difference( )** function ouputs a function which contains elements that are in one of the sets."
      ]
    },
    {
      "cell_type": "code",
      "execution_count": null,
      "metadata": {
        "id": "metTL0BK2v2p",
        "outputId": "cea93696-c1ab-4a24-f8a1-6925381c4dc8",
        "colab": {
          "base_uri": "https://localhost:8080/"
        }
      },
      "outputs": [
        {
          "output_type": "execute_result",
          "data": {
            "text/plain": [
              "{1, 2, 5}"
            ]
          },
          "metadata": {},
          "execution_count": 74
        }
      ],
      "source": [
        "# Get the symmetric_difference of X and Y\n"
      ]
    },
    {
      "cell_type": "markdown",
      "metadata": {
        "id": "VLT2XIhY2v2p"
      },
      "source": [
        "## List to Set, Set to Tuple, and Tuple to List and Vice-Versa Conversion"
      ]
    },
    {
      "cell_type": "code",
      "execution_count": null,
      "metadata": {
        "id": "xRVkeVKA2v2q",
        "outputId": "9d58e701-099b-44b1-dbd4-fc3a1ed1bdde",
        "colab": {
          "base_uri": "https://localhost:8080/"
        }
      },
      "outputs": [
        {
          "output_type": "stream",
          "name": "stdout",
          "text": [
            "{'C', 'B', 'D', 'A'}\n"
          ]
        }
      ],
      "source": [
        "# List to Set\n",
        "\n",
        "# Initialise list with duplicates like ['A','B','A','C','D','C','C','B']\n",
        "X = ['A','B','A','C','D','C','C','B']\n"
      ]
    },
    {
      "cell_type": "code",
      "execution_count": null,
      "metadata": {
        "id": "Ko7MhmxZ2v2q",
        "outputId": "b95c0d69-4ef1-4db2-937f-21f742218f61",
        "colab": {
          "base_uri": "https://localhost:8080/"
        }
      },
      "outputs": [
        {
          "output_type": "stream",
          "name": "stdout",
          "text": [
            "['C', 'B', 'D', 'A']\n"
          ]
        }
      ],
      "source": [
        "# Set to List\n",
        "\n",
        "#Convert it to a list by wrapping it back to a list\n"
      ]
    },
    {
      "cell_type": "code",
      "execution_count": null,
      "metadata": {
        "id": "OFlXLd362v2q",
        "colab": {
          "base_uri": "https://localhost:8080/"
        },
        "outputId": "f7ddedab-275b-49dd-dd4f-2325817bf06f"
      },
      "outputs": [
        {
          "output_type": "stream",
          "name": "stdout",
          "text": [
            "[10, 100, 1000] <class 'list'>\n",
            "(10, 100, 1000) <class 'tuple'>\n"
          ]
        }
      ],
      "source": [
        "# List to Tuple\n",
        "\n",
        "l_1 = [10,100,1000]\n",
        "t_1 = l_1\n",
        "\n",
        "print(l_1, type(l_1))\n",
        "print(t_1, type(t_1))"
      ]
    },
    {
      "cell_type": "code",
      "source": [
        "# Tuple to List\n",
        "\n",
        "t_2 = (10, 100, 1000)\n",
        "l_2 = t_2\n",
        "\n",
        "print(t_2, type(t_2))\n",
        "print(l_2, type(l_2))"
      ],
      "metadata": {
        "colab": {
          "base_uri": "https://localhost:8080/"
        },
        "id": "o13R9Gq1M6Dc",
        "outputId": "4472ba9c-f390-4e56-ccc2-e913977832c4"
      },
      "execution_count": null,
      "outputs": [
        {
          "output_type": "stream",
          "name": "stdout",
          "text": [
            "(10, 100, 1000) <class 'tuple'>\n",
            "[10, 100, 1000] <class 'list'>\n"
          ]
        }
      ]
    },
    {
      "cell_type": "code",
      "source": [
        "# Set to Tuple\n",
        "\n",
        "s_1 = {1, 2, 3, 4}\n",
        "t_1 = s_1\n",
        "\n",
        "print(s_1, type(s_1))\n",
        "print(t_1, type(t_1))"
      ],
      "metadata": {
        "colab": {
          "base_uri": "https://localhost:8080/"
        },
        "id": "J362fDSnNRJH",
        "outputId": "19aafac3-4b7c-40bb-9787-9f13cd545285"
      },
      "execution_count": null,
      "outputs": [
        {
          "output_type": "stream",
          "name": "stdout",
          "text": [
            "{1, 2, 3, 4} <class 'set'>\n",
            "(1, 2, 3, 4) <class 'tuple'>\n"
          ]
        }
      ]
    },
    {
      "cell_type": "code",
      "source": [
        "# Tuple to Set\n",
        "\n",
        "t_1 = (1, 2, 3, 4)\n",
        "s_1 = t_1\n",
        "\n",
        "print(t_1, type(t_1))\n",
        "print(s_1, type(s_1))"
      ],
      "metadata": {
        "colab": {
          "base_uri": "https://localhost:8080/"
        },
        "id": "MkQROEjBNpxf",
        "outputId": "545212ef-7a32-4d5f-be30-1387e6e6f2c0"
      },
      "execution_count": null,
      "outputs": [
        {
          "output_type": "stream",
          "name": "stdout",
          "text": [
            "(1, 2, 3, 4) <class 'tuple'>\n",
            "{1, 2, 3, 4} <class 'set'>\n"
          ]
        }
      ]
    },
    {
      "cell_type": "code",
      "source": [],
      "metadata": {
        "id": "0_goXoqdN2A8"
      },
      "execution_count": null,
      "outputs": []
    }
  ],
  "metadata": {
    "kernelspec": {
      "display_name": "Python 3",
      "language": "python",
      "name": "python3"
    },
    "language_info": {
      "codemirror_mode": {
        "name": "ipython",
        "version": 3
      },
      "file_extension": ".py",
      "mimetype": "text/x-python",
      "name": "python",
      "nbconvert_exporter": "python",
      "pygments_lexer": "ipython3",
      "version": "3.8.5"
    },
    "colab": {
      "provenance": [],
      "collapsed_sections": [],
      "include_colab_link": true
    }
  },
  "nbformat": 4,
  "nbformat_minor": 0
}