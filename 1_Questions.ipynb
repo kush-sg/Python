{
  "nbformat": 4,
  "nbformat_minor": 0,
  "metadata": {
    "colab": {
      "provenance": [],
      "collapsed_sections": [],
      "include_colab_link": true
    },
    "kernelspec": {
      "name": "python3",
      "display_name": "Python 3"
    },
    "language_info": {
      "name": "python"
    }
  },
  "cells": [
    {
      "cell_type": "markdown",
      "metadata": {
        "id": "view-in-github",
        "colab_type": "text"
      },
      "source": [
        "<a href=\"https://colab.research.google.com/github/kush-sg/Python/blob/rehearsal/1_Questions.ipynb\" target=\"_parent\"><img src=\"https://colab.research.google.com/assets/colab-badge.svg\" alt=\"Open In Colab\"/></a>"
      ]
    },
    {
      "cell_type": "markdown",
      "source": [],
      "metadata": {
        "id": "N_Y6ZjqHolcn"
      }
    },
    {
      "cell_type": "markdown",
      "source": [
        "# **Question-1:**\n",
        "You are given two integer variables,  x and y. You have to swap the values stored in x and y.\n",
        "\n",
        "----------------------------------------------------------------------\n",
        "Input:\n",
        "Two numbers x and y separated by a comma.\n",
        "\n",
        "Output:\n",
        "Print 5 lines. The first two lines will have values of variables shown before swapping, and the last two lines will have values of variables shown after swapping. The third line will be blank.\n",
        "\n",
        "----------------------------------------------------------------------\n",
        "Sample input:\n",
        "20, 50\n",
        "\n",
        "Sample output:\n",
        "x before swapping: 20\n",
        "y before swapping: 50\n",
        "\n",
        "x after swapping: 50\n",
        "y after swapping: 20\n"
      ],
      "metadata": {
        "id": "uGHKJxigPJCS"
      }
    },
    {
      "cell_type": "code",
      "source": [
        "# Solution -1:\n",
        "\n",
        "## Take input using input()\n",
        "\n",
        "## input() takes input in form of the string\n"
      ],
      "metadata": {
        "colab": {
          "base_uri": "https://localhost:8080/"
        },
        "id": "9fU5SiqWPTkm",
        "outputId": "e63ec751-1ce7-4226-84f2-a77c7d706d67"
      },
      "execution_count": null,
      "outputs": [
        {
          "output_type": "stream",
          "name": "stdout",
          "text": [
            "20, 50\n",
            "x before swapping: 20\n",
            "y before swapping: 50\n",
            "\n",
            "x after swapping: 50\n",
            "y after swapping: 20\n"
          ]
        }
      ]
    },
    {
      "cell_type": "markdown",
      "source": [
        "**Question-2:**\n",
        "\n",
        "Given an integer, print whether it is Even or Odd.\n",
        "\n",
        "----------------------------------------------------------------------\n",
        "Input:\n",
        "An integer\n",
        "\n",
        "Output:\n",
        "'Even' or 'Odd'\n",
        "\n",
        "----------------------------------------------------------------------\n",
        "Sample input:\n",
        "3\n",
        "\n",
        "Sample output:\n",
        "Odd\n",
        "\n",
        "----------------------------------------------------------------------\n",
        "Sample input:\n",
        "6\n",
        "\n",
        "Sample output:\n",
        "Even"
      ],
      "metadata": {
        "id": "3sJtRsGpQjfQ"
      }
    },
    {
      "cell_type": "code",
      "source": [
        "#Take input on your own\n"
      ],
      "metadata": {
        "colab": {
          "base_uri": "https://localhost:8080/"
        },
        "id": "bJO3LPC3fAuW",
        "outputId": "46fad881-1f1e-4d75-9bad-34f18ec8c06f"
      },
      "execution_count": null,
      "outputs": [
        {
          "output_type": "stream",
          "name": "stdout",
          "text": [
            "3\n",
            "Odd\n"
          ]
        }
      ]
    },
    {
      "cell_type": "markdown",
      "source": [
        "**Question-3:**\n",
        "\n",
        "A number k is beautiful if it is of the form 3n+1, is pretty if it is of the form 3n+2 and is awesome if it is of form 3n.\n",
        "Given a number k, print if it is beautiful, pretty or awesome.\n",
        "\n",
        "Sample input:\n",
        "21\n",
        "\n",
        "Sample output:\n",
        "awesome\n",
        "\n",
        "Sample input:\n",
        "22\n",
        "\n",
        "Sample output:\n",
        "beautiful\n",
        "\n",
        "Sample input:\n",
        "23\n",
        "\n",
        "Sample output:\n",
        "pretty\n"
      ],
      "metadata": {
        "id": "dBy-nWTVfNiD"
      }
    },
    {
      "cell_type": "code",
      "source": [],
      "metadata": {
        "colab": {
          "base_uri": "https://localhost:8080/"
        },
        "id": "OL0t_YyEfaa1",
        "outputId": "effbe17a-f882-4906-e543-5564f2ab914f"
      },
      "execution_count": null,
      "outputs": [
        {
          "output_type": "stream",
          "name": "stdout",
          "text": [
            "22\n",
            "beautiful\n"
          ]
        }
      ]
    },
    {
      "cell_type": "code",
      "source": [],
      "metadata": {
        "id": "AcVNxxU2f0mp"
      },
      "execution_count": null,
      "outputs": []
    },
    {
      "cell_type": "markdown",
      "source": [
        "**Question - 4:**\n",
        "\n",
        "You're trying to automate your alarm clock by writing a function for it. You're given a day of the week encoded as 1=Mon, 2=Tue, ... 6=Sat, 7=Sun, and whether you are on vacation as a boolean value (a boolean object is either True or False. Google \"booleans python\" to get a better understanding). Based on the day and whether you're on vacation, write a function that returns a time in form of a string indicating when the alarm clock should ring. \n",
        "\n",
        "When not on a vacation, on weekdays, the alarm should ring at \"7:00\" and on the weekends (Saturday and Sunday) it should ring at \"10:00\". \n",
        "\n",
        "While on a vacation, it should ring at \"10:00\" on weekdays. On vacation, it should not ring on weekends, that is, it should return \"off\".\n",
        "\n",
        "----------------------------------------------------------------------\n",
        "Input:\n",
        "The input will be a list of two elements. The first element will be an integer from 1 to 7, and the second element will be a boolean value.\n",
        "\n",
        "Output:\n",
        "The output will be a string denoting the time alarm will ring or 'off'\n",
        "\n",
        "----------------------------------------------------------------------\n",
        "Sample input:\n",
        "[7, True]\n",
        "\n",
        "Sample output:\n",
        "off\n",
        "\n",
        "----------------------------------------------------------------------\n",
        "Sample input:\n",
        "[3, True]\n",
        "\n",
        "Sample output:\n",
        "10:00\n",
        "\n",
        "----------------------------------------------------------------------\n"
      ],
      "metadata": {
        "id": "sb25bj5mf1Hi"
      }
    },
    {
      "cell_type": "code",
      "source": [
        "#Take input here\n"
      ],
      "metadata": {
        "colab": {
          "base_uri": "https://localhost:8080/"
        },
        "id": "N1l-3g9Bf6wo",
        "outputId": "2ae1a6dc-dc92-460d-c141-a3c9b3faa3fe"
      },
      "execution_count": null,
      "outputs": [
        {
          "output_type": "stream",
          "name": "stdout",
          "text": [
            "[3, True]\n",
            "10:00\n"
          ]
        }
      ]
    },
    {
      "cell_type": "markdown",
      "source": [
        "**Question-5:**\n",
        "\n",
        "Description\n",
        "Factorial is a mathematical function denoted by '!'. It is defined as\n",
        "\n",
        "n factorial = n!= 1*2*3...*(n-1)*n\n",
        "\n",
        "In this question, you have to make a function that will take an integer as input, and return the factorial of that integer if that integer is greater than or equal to zero and return -1 if the number is less than zero or negative.\n",
        "\n",
        "Note: the function doesn't return print the factorial but returns it.\n",
        "----------------------------------------------------------------------\n",
        "Input:\n",
        "An integer n\n",
        "\n",
        "Output:\n",
        "The function returns n! if n is greater than or equal to 0.\n",
        "0! = 1\n",
        "and the function returns -1 if the number is less than 0.\n",
        "\n",
        "----------------------------------------------------------------------\n",
        "Sample input:\n",
        "3\n",
        "\n",
        "Sample output:\n",
        "6\n",
        "\n",
        "----------------------------------------------------------------------\n",
        "Sample input:\n",
        "-4\n",
        "\n",
        "Sample output:\n",
        "-1\n"
      ],
      "metadata": {
        "id": "AqrscNL0gY21"
      }
    },
    {
      "cell_type": "code",
      "source": [
        "#take the input here"
      ],
      "metadata": {
        "colab": {
          "base_uri": "https://localhost:8080/"
        },
        "id": "7nvXWOrUggIO",
        "outputId": "010d7b2d-a7c0-49ff-969b-e8fd57fc8f30"
      },
      "execution_count": null,
      "outputs": [
        {
          "output_type": "stream",
          "name": "stdout",
          "text": [
            "6\n",
            "720\n"
          ]
        }
      ]
    },
    {
      "cell_type": "markdown",
      "source": [
        "**Question - 6:**\n",
        "\n",
        "You will be given a number. You have to reverse the digits of the number and print it.\n",
        "\n",
        "----------------------------------------------------------------------\n",
        "Input:\n",
        "A positive integer greater than zero\n",
        "\n",
        "Output:\n",
        "The number in reverse order. Check sample outputs for more details.\n",
        "\n",
        "----------------------------------------------------------------------\n",
        "Sample input:\n",
        "345200\n",
        "\n",
        "Sample output:\n",
        "2543\n",
        "\n",
        "----------------------------------------------------------------------\n",
        "Sample input:\n",
        "6752343\n",
        "\n",
        "Sample output:\n",
        "3432576"
      ],
      "metadata": {
        "id": "NBKZMigznHE5"
      }
    },
    {
      "cell_type": "code",
      "source": [
        "#take input of the number here\n",
        "num = int(input(\"Enter your number \"))\n",
        "r=0\n",
        "while num>0:\n",
        "  r = num%10 + (r*10)\n",
        "  num = num//10\n",
        "print(r)"
      ],
      "metadata": {
        "colab": {
          "base_uri": "https://localhost:8080/"
        },
        "id": "Za6SoDhBnRpY",
        "outputId": "bba34958-82cd-40f9-a8e4-50d3adce9733"
      },
      "execution_count": null,
      "outputs": [
        {
          "output_type": "stream",
          "name": "stdout",
          "text": [
            "Enter your number 123456\n",
            "654321\n"
          ]
        }
      ]
    },
    {
      "cell_type": "markdown",
      "source": [
        "Question-8: \n",
        "\n",
        "How Many Chocolates?\n",
        "Description\n",
        "Sanjay loves chocolates. He goes to a shop to buy his favourite chocolate. There he notices there is an offer going on, upon bringing 3 wrappers of the same chocolate, you will get new chocolate for free. If Sanjay has m Rupees. How many chocolates will he be able to eat if each chocolate costs c Rupees?\n",
        "\n",
        "----------------------------------------------------------------------\n",
        "Input:\n",
        "Two positive integers m and c separated by a comma. The first integer is m and the second integer is c \n",
        "\n",
        "Output:\n",
        "A single integer denoting the number of chocolates Sanjay was able to eat in total.\n",
        "\n",
        "----------------------------------------------------------------------\n",
        "Sample input:\n",
        "15, 2\n",
        "\n",
        "Sample output:\n",
        "10\n",
        "\n",
        "Explanation:\n",
        "First, he will get 15/2=7 chocolates. He then will return 6 wrappers for 2 chocolates. And lastly, these two wrappers and the one he previously had will get him one more chocolate, making a total of 7+2+1=10 chocolates.\n",
        "\n",
        "----------------------------------------------------------------------\n",
        "Sample input:\n",
        "3,1\n",
        "\n",
        "Sample output:\n",
        "4"
      ],
      "metadata": {
        "id": "1wSk_FQkncpE"
      }
    },
    {
      "cell_type": "code",
      "source": [
        "#take input here\n",
        "\n"
      ],
      "metadata": {
        "colab": {
          "base_uri": "https://localhost:8080/"
        },
        "id": "M6-Vynu0nnE4",
        "outputId": "a443741a-89de-448f-f3cb-fa80b5f1a69a"
      },
      "execution_count": null,
      "outputs": [
        {
          "output_type": "stream",
          "name": "stdout",
          "text": [
            "3,1\n",
            "4\n"
          ]
        }
      ]
    },
    {
      "cell_type": "markdown",
      "source": [
        "**Question - 9:**\n",
        "\n",
        "Printing different patterns is a very good exercise to reinforce iteration through loops and strong logic building. Here you will be given a positive integer and you will generate pattern based on that integer.\n",
        "\n",
        "----------------------------------------------------------------------\n",
        "Input:\n",
        "A positive integer n\n",
        "1 <= n <=20\n",
        "\n",
        "Output:\n",
        "A pattern as described by the Sample input and outputs below.\n",
        "\n",
        "----------------------------------------------------------------------\n",
        "Sample input:\n",
        "5\n",
        "\n",
        "Sample output:\n",
        "\n",
        "    *\n",
        "   *_*\n",
        "  *_*_*\n",
        " *_*_*_*\n",
        "*_*_*_*_*\n",
        "\n",
        "\n",
        "----------------------------------------------------------------------\n",
        "Sample input:\n",
        "3\n",
        "\n",
        "Sample output:\n",
        "  *\n",
        " *_*\n",
        "*_*_*\n"
      ],
      "metadata": {
        "id": "vMBAW2ESn8ij"
      }
    },
    {
      "cell_type": "code",
      "source": [
        "#please take input here\n"
      ],
      "metadata": {
        "colab": {
          "base_uri": "https://localhost:8080/"
        },
        "id": "vVv2eDTjoChS",
        "outputId": "b6fbb032-05d5-49b2-e8bf-bc91261d90d8"
      },
      "execution_count": null,
      "outputs": [
        {
          "output_type": "stream",
          "name": "stdout",
          "text": [
            "5\n",
            "    *\n",
            "   *_*\n",
            "  *_*_*\n",
            " *_*_*_*\n",
            "*_*_*_*_*\n"
          ]
        }
      ]
    },
    {
      "cell_type": "markdown",
      "source": [
        "**Question-10:** \n",
        "\n",
        "Any number, say n is called an Armstrong number if it is equal to the sum of its digits, where each is raised to the power of number of digits in n. For example: 153=1^3+5^3+3^3\n",
        "\n",
        "Write Python code to determine whether an entered three digit number is an Armstrong number or not. Assume that the number entered will strictly be a three digit number. Print \"True\" if it is an Armstrong number and print \"False\" if it is not.\n",
        "\n",
        "Sample Input: 153\n",
        "\n",
        "Sample Output: True\n",
        "\n",
        "Sample Input: 125\n",
        "\n",
        "Sample Output: False"
      ],
      "metadata": {
        "id": "Q3ilIiW3tT5E"
      }
    },
    {
      "cell_type": "markdown",
      "source": [
        "**Logic to solve problem**\n",
        "\n",
        "We should start with writing a pseudo code:\n",
        "\n",
        "\n",
        "\n",
        "*   Step-1: Converst the number into string and determine the length. This length will be used as power to which each digit will be raised\n",
        "\n",
        "*   Step-2: Use modulo function to determine each digit\n",
        "\n",
        "*   Step-3: Take summation of each digit raised to the power equal to the number of digit\n",
        "\n",
        "\n",
        "\n",
        "\n",
        "\n",
        "\n"
      ],
      "metadata": {
        "id": "7d_OEStycDnA"
      }
    },
    {
      "cell_type": "code",
      "source": [
        "\n",
        "num = int(input(\"Enter number \"))\n",
        "temp = num\n",
        "pow = len(str(num))\n",
        "sum = 0\n",
        "while temp>0:\n",
        "  sum = ((temp%10)**pow) + sum\n",
        "  temp = temp//10\n",
        "print(sum)\n",
        "if num == sum:\n",
        "  print(\"True\")\n",
        "else:\n",
        "  print(\"False\")"
      ],
      "metadata": {
        "colab": {
          "base_uri": "https://localhost:8080/"
        },
        "id": "FWbs0Rckrwnl",
        "outputId": "fee6882b-0bcf-4501-8f54-e87e93a5b0ad"
      },
      "execution_count": null,
      "outputs": [
        {
          "output_type": "stream",
          "name": "stdout",
          "text": [
            "Enter number 152\n",
            "134\n",
            "False\n"
          ]
        }
      ]
    },
    {
      "cell_type": "markdown",
      "source": [
        "**Question-11:**\n",
        "\n",
        "Compute and display Fibonacci series upto n terms where n is a positive integer entered by the user.\n",
        "\n",
        "Sample Input: 5\n",
        "\n",
        "Sample Output:\n",
        "\n",
        "0\n",
        "\n",
        "1\n",
        "\n",
        "1\n",
        "\n",
        "2\n",
        "\n",
        "3"
      ],
      "metadata": {
        "id": "28wgnpsctpmV"
      }
    },
    {
      "cell_type": "markdown",
      "source": [
        "**Logic to solve problem**\n",
        "\n",
        "The Fibonacci numbers are the numbers in the following integer sequence.\n",
        "0, 1, 1, 2, 3, 5, 8, 13, 21, 34, 55, 89, 144, ……..\n",
        "\n",
        "In mathematical terms, the sequence Fn of Fibonacci numbers is defined by the recurrence relation \n",
        "\n",
        "Fn = Fn-1 + Fn-2\n",
        "with seed values \n",
        "\n",
        "F0 = 0 and F1 = 1. \n",
        "\n",
        "In this problem, we have to write a function sch that it determines a new number as the sum of last two numbers and then print that number"
      ],
      "metadata": {
        "id": "SIWurRQpdKYE"
      }
    },
    {
      "cell_type": "code",
      "source": [],
      "metadata": {
        "colab": {
          "base_uri": "https://localhost:8080/"
        },
        "id": "HBl1t72xtv5P",
        "outputId": "91cc8ba4-929e-4d0c-dad0-6582590f933a"
      },
      "execution_count": null,
      "outputs": [
        {
          "output_type": "stream",
          "name": "stdout",
          "text": [
            "8\n",
            "0\n",
            "1\n",
            "1\n",
            "2\n",
            "3\n",
            "5\n",
            "8\n",
            "13\n"
          ]
        }
      ]
    },
    {
      "cell_type": "markdown",
      "source": [
        "Question-12:\n",
        "\n",
        "Write python code to find the sum of prime numbers from 2 to n where n is a positive integer entered by the user.\n",
        "\n",
        "Note: n can be non-prime or prime. You have to find sum of primes till n and not sum of n prime numbers. i.e. for input 10, output should be 17.\n",
        "\n",
        "Hint: You can try using lambda functions and comprehensions to reduce the lines of code you have to write.\n",
        "\n",
        "Input: A positive integer n.\n",
        "\n",
        "Output: A integer denoting the sum of primes less than or equal to n\n",
        "\n",
        "Sample Input:\n",
        "\n",
        "5\n",
        "\n",
        "Sample Output:\n",
        "\n",
        "10"
      ],
      "metadata": {
        "id": "Z8Xd-eqRt5aA"
      }
    },
    {
      "cell_type": "code",
      "source": [],
      "metadata": {
        "colab": {
          "base_uri": "https://localhost:8080/"
        },
        "id": "pFKRuSUTt-4j",
        "outputId": "ba050832-d8a6-4e83-d789-1b75d14a789f"
      },
      "execution_count": null,
      "outputs": [
        {
          "output_type": "stream",
          "name": "stdout",
          "text": [
            "7\n",
            "17\n"
          ]
        }
      ]
    },
    {
      "cell_type": "markdown",
      "source": [
        "Q13 Write a UDF(user defined function) to print all armstrong number provided by user"
      ],
      "metadata": {
        "id": "tFZ2t2bI4AGL"
      }
    },
    {
      "cell_type": "code",
      "source": [
        "# takes automatic input of numbers from range\n",
        "for i in range(0,520):\n",
        "  pow = len(str(i))\n",
        "  print(pow, end=(\" \"))"
      ],
      "metadata": {
        "colab": {
          "base_uri": "https://localhost:8080/"
        },
        "id": "JFr1tm-gvFxY",
        "outputId": "949fd475-b4a4-4abe-d2dc-63ebe7fc3d1d"
      },
      "execution_count": 3,
      "outputs": [
        {
          "output_type": "stream",
          "name": "stdout",
          "text": [
            "1 1 1 1 1 1 1 1 1 1 2 2 2 2 2 2 2 2 2 2 2 2 2 2 2 2 2 2 2 2 2 2 2 2 2 2 2 2 2 2 2 2 2 2 2 2 2 2 2 2 2 2 2 2 2 2 2 2 2 2 2 2 2 2 2 2 2 2 2 2 2 2 2 2 2 2 2 2 2 2 2 2 2 2 2 2 2 2 2 2 2 2 2 2 2 2 2 2 2 2 3 3 3 3 3 3 3 3 3 3 3 3 3 3 3 3 3 3 3 3 3 3 3 3 3 3 3 3 3 3 3 3 3 3 3 3 3 3 3 3 3 3 3 3 3 3 3 3 3 3 3 3 3 3 3 3 3 3 3 3 3 3 3 3 3 3 3 3 3 3 3 3 3 3 3 3 3 3 3 3 3 3 3 3 3 3 3 3 3 3 3 3 3 3 3 3 3 3 3 3 3 3 3 3 3 3 3 3 3 3 3 3 3 3 3 3 3 3 3 3 3 3 3 3 3 3 3 3 3 3 3 3 3 3 3 3 3 3 3 3 3 3 3 3 3 3 3 3 3 3 3 3 3 3 3 3 3 3 3 3 3 3 3 3 3 3 3 3 3 3 3 3 3 3 3 3 3 3 3 3 3 3 3 3 3 3 3 3 3 3 3 3 3 3 3 3 3 3 3 3 3 3 3 3 3 3 3 3 3 3 3 3 3 3 3 3 3 3 3 3 3 3 3 3 3 3 3 3 3 3 3 3 3 3 3 3 3 3 3 3 3 3 3 3 3 3 3 3 3 3 3 3 3 3 3 3 3 3 3 3 3 3 3 3 3 3 3 3 3 3 3 3 3 3 3 3 3 3 3 3 3 3 3 3 3 3 3 3 3 3 3 3 3 3 3 3 3 3 3 3 3 3 3 3 3 3 3 3 3 3 3 3 3 3 3 3 3 3 3 3 3 3 3 3 3 3 3 3 3 3 3 3 3 3 3 3 3 3 3 3 3 3 3 3 3 3 3 3 3 3 3 3 3 3 3 3 3 3 3 3 3 3 3 3 3 3 3 3 3 3 3 3 3 3 3 3 3 3 3 3 3 3 3 3 3 3 3 3 3 3 3 3 3 3 3 3 3 3 3 3 3 3 3 3 3 3 3 3 3 3 3 3 3 3 3 3 3 3 3 3 "
          ]
        }
      ]
    },
    {
      "cell_type": "code",
      "source": [
        "# do operations on number \n",
        "i=153\n",
        "sum =0\n",
        "while i>0:\n",
        "  sum = (i%10)**3 + sum\n",
        "  i = i//10\n",
        "print(sum)"
      ],
      "metadata": {
        "colab": {
          "base_uri": "https://localhost:8080/"
        },
        "id": "7b8yPis4xvdP",
        "outputId": "708276f0-7ed3-4f4b-df53-300b2c2c5125"
      },
      "execution_count": 4,
      "outputs": [
        {
          "output_type": "stream",
          "name": "stdout",
          "text": [
            "153\n"
          ]
        }
      ]
    },
    {
      "cell_type": "code",
      "source": [
        "def armstrong(a,b):\n",
        "  for i in range(a,b+1):\n",
        "    temp = i #temp is created so that acual value of 'i' \n",
        "             #got get changed {temp stores dummy value of i}\n",
        "    pow = len(str(i)) # i need to be converted to string to get the length\n",
        "    sum = 0\n",
        "    while temp>0: #all the operation are done on 'temp' \n",
        "                  #so that at the end we can check it with actual value of i\n",
        "      sum = ((temp%10)**pow) + sum\n",
        "      temp = temp//10\n",
        "    print (i, end=\"->\")\n",
        "    if sum == i: #to check sum with actual value of i\n",
        "      print(\"True\" )\n",
        "    else:\n",
        "      print(\"False\")"
      ],
      "metadata": {
        "id": "Tyzhy5NAylx6"
      },
      "execution_count": 20,
      "outputs": []
    },
    {
      "cell_type": "code",
      "source": [
        "armstrong(2,153)"
      ],
      "metadata": {
        "colab": {
          "base_uri": "https://localhost:8080/"
        },
        "id": "e0F-VxUczU8x",
        "outputId": "719c8736-8511-4370-c1cf-4dcb833434e5"
      },
      "execution_count": 21,
      "outputs": [
        {
          "output_type": "stream",
          "name": "stdout",
          "text": [
            "2->True\n",
            "3->True\n",
            "4->True\n",
            "5->True\n",
            "6->True\n",
            "7->True\n",
            "8->True\n",
            "9->True\n",
            "10->False\n",
            "11->False\n",
            "12->False\n",
            "13->False\n",
            "14->False\n",
            "15->False\n",
            "16->False\n",
            "17->False\n",
            "18->False\n",
            "19->False\n",
            "20->False\n",
            "21->False\n",
            "22->False\n",
            "23->False\n",
            "24->False\n",
            "25->False\n",
            "26->False\n",
            "27->False\n",
            "28->False\n",
            "29->False\n",
            "30->False\n",
            "31->False\n",
            "32->False\n",
            "33->False\n",
            "34->False\n",
            "35->False\n",
            "36->False\n",
            "37->False\n",
            "38->False\n",
            "39->False\n",
            "40->False\n",
            "41->False\n",
            "42->False\n",
            "43->False\n",
            "44->False\n",
            "45->False\n",
            "46->False\n",
            "47->False\n",
            "48->False\n",
            "49->False\n",
            "50->False\n",
            "51->False\n",
            "52->False\n",
            "53->False\n",
            "54->False\n",
            "55->False\n",
            "56->False\n",
            "57->False\n",
            "58->False\n",
            "59->False\n",
            "60->False\n",
            "61->False\n",
            "62->False\n",
            "63->False\n",
            "64->False\n",
            "65->False\n",
            "66->False\n",
            "67->False\n",
            "68->False\n",
            "69->False\n",
            "70->False\n",
            "71->False\n",
            "72->False\n",
            "73->False\n",
            "74->False\n",
            "75->False\n",
            "76->False\n",
            "77->False\n",
            "78->False\n",
            "79->False\n",
            "80->False\n",
            "81->False\n",
            "82->False\n",
            "83->False\n",
            "84->False\n",
            "85->False\n",
            "86->False\n",
            "87->False\n",
            "88->False\n",
            "89->False\n",
            "90->False\n",
            "91->False\n",
            "92->False\n",
            "93->False\n",
            "94->False\n",
            "95->False\n",
            "96->False\n",
            "97->False\n",
            "98->False\n",
            "99->False\n",
            "100->False\n",
            "101->False\n",
            "102->False\n",
            "103->False\n",
            "104->False\n",
            "105->False\n",
            "106->False\n",
            "107->False\n",
            "108->False\n",
            "109->False\n",
            "110->False\n",
            "111->False\n",
            "112->False\n",
            "113->False\n",
            "114->False\n",
            "115->False\n",
            "116->False\n",
            "117->False\n",
            "118->False\n",
            "119->False\n",
            "120->False\n",
            "121->False\n",
            "122->False\n",
            "123->False\n",
            "124->False\n",
            "125->False\n",
            "126->False\n",
            "127->False\n",
            "128->False\n",
            "129->False\n",
            "130->False\n",
            "131->False\n",
            "132->False\n",
            "133->False\n",
            "134->False\n",
            "135->False\n",
            "136->False\n",
            "137->False\n",
            "138->False\n",
            "139->False\n",
            "140->False\n",
            "141->False\n",
            "142->False\n",
            "143->False\n",
            "144->False\n",
            "145->False\n",
            "146->False\n",
            "147->False\n",
            "148->False\n",
            "149->False\n",
            "150->False\n",
            "151->False\n",
            "152->False\n",
            "153->True\n"
          ]
        }
      ]
    },
    {
      "cell_type": "code",
      "source": [],
      "metadata": {
        "id": "JmumXX6J3N6x"
      },
      "execution_count": null,
      "outputs": []
    }
  ]
}