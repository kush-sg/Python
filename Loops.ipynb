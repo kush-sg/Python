{
  "nbformat": 4,
  "nbformat_minor": 0,
  "metadata": {
    "colab": {
      "provenance": [],
      "authorship_tag": "ABX9TyMGrDW3oXJQMe+HVKRB4g4X",
      "include_colab_link": true
    },
    "kernelspec": {
      "name": "python3",
      "display_name": "Python 3"
    },
    "language_info": {
      "name": "python"
    }
  },
  "cells": [
    {
      "cell_type": "markdown",
      "metadata": {
        "id": "view-in-github",
        "colab_type": "text"
      },
      "source": [
        "<a href=\"https://colab.research.google.com/github/kush-sg/Python/blob/Self-Notes/Loops.ipynb\" target=\"_parent\"><img src=\"https://colab.research.google.com/assets/colab-badge.svg\" alt=\"Open In Colab\"/></a>"
      ]
    },
    {
      "cell_type": "markdown",
      "source": [
        "# PYTHON\n"
      ],
      "metadata": {
        "id": "Lkm1yMXyFN68"
      }
    },
    {
      "cell_type": "markdown",
      "source": [
        "# LOOPS\n",
        "\n",
        "> Python programming language provides the following types of loops to handle looping requirements. Python provides three ways for executing the loops. \n",
        "\n",
        "1.   FOR LOOP\n",
        "2.   WHILE LOOP\n",
        "3.   NESTED LOOP"
      ],
      "metadata": {
        "id": "dJ92YFyPFVnB"
      }
    },
    {
      "cell_type": "markdown",
      "source": [
        "## Practice Questions\n",
        "\n",
        "\n",
        "---\n",
        "---\n",
        "\n"
      ],
      "metadata": {
        "id": "v01GpzJHH9NP"
      }
    },
    {
      "cell_type": "markdown",
      "source": [
        "Q1 What is the output of the following"
      ],
      "metadata": {
        "id": "lsNihOfNIX9W"
      }
    },
    {
      "cell_type": "code",
      "source": [
        "for i in \"Myblog\":\n",
        "  print(i,'?',end=\" \")"
      ],
      "metadata": {
        "colab": {
          "base_uri": "https://localhost:8080/"
        },
        "id": "iPJadvO5IezM",
        "outputId": "29ced36e-8ab6-4f69-ae2a-e6a80c5bed65"
      },
      "execution_count": 3,
      "outputs": [
        {
          "output_type": "stream",
          "name": "stdout",
          "text": [
            "M ? y ? b ? l ? o ? g ? "
          ]
        }
      ]
    },
    {
      "cell_type": "code",
      "source": [
        "for i in range(5):\n",
        "  print(i, end=\" \")"
      ],
      "metadata": {
        "colab": {
          "base_uri": "https://localhost:8080/"
        },
        "id": "gzPb5ogBIrUD",
        "outputId": "cdc69b01-b6dd-4c0f-d8d5-f7037013e828"
      },
      "execution_count": 6,
      "outputs": [
        {
          "output_type": "stream",
          "name": "stdout",
          "text": [
            "0 1 2 3 4 "
          ]
        }
      ]
    },
    {
      "cell_type": "code",
      "source": [
        "for i in range(10,15):\n",
        "  print(i, end=\" \")"
      ],
      "metadata": {
        "colab": {
          "base_uri": "https://localhost:8080/"
        },
        "id": "6BCcw-7yJT3u",
        "outputId": "b5f063b1-3522-4f45-94b1-8bda88231a1b"
      },
      "execution_count": 8,
      "outputs": [
        {
          "output_type": "stream",
          "name": "stdout",
          "text": [
            "10 11 12 13 14 "
          ]
        }
      ]
    },
    {
      "cell_type": "markdown",
      "source": [
        "Q2 Write a program to print first 10 natural numbers."
      ],
      "metadata": {
        "id": "JCDWYzXjJnvJ"
      }
    },
    {
      "cell_type": "code",
      "source": [
        "for i in range(1,11):\n",
        "  print(i, end=\" \")"
      ],
      "metadata": {
        "colab": {
          "base_uri": "https://localhost:8080/"
        },
        "id": "5ONYYsEIJudw",
        "outputId": "b33588f5-b692-49ae-ec4d-eb5f8838e147"
      },
      "execution_count": 10,
      "outputs": [
        {
          "output_type": "stream",
          "name": "stdout",
          "text": [
            "1 2 3 4 5 6 7 8 9 10 "
          ]
        }
      ]
    },
    {
      "cell_type": "markdown",
      "source": [
        "Q3 Write a program to print first 10 even number"
      ],
      "metadata": {
        "id": "68av5y1KKJTM"
      }
    },
    {
      "cell_type": "code",
      "source": [
        "for i in range(2,21,2):\n",
        "  print(i, end=\" \")"
      ],
      "metadata": {
        "colab": {
          "base_uri": "https://localhost:8080/"
        },
        "id": "Ld-Hslb-KAMX",
        "outputId": "bf404502-7ed3-42c7-c45b-cf1bfe88bcaf"
      },
      "execution_count": 11,
      "outputs": [
        {
          "output_type": "stream",
          "name": "stdout",
          "text": [
            "2 4 6 8 10 12 14 16 18 20 "
          ]
        }
      ]
    },
    {
      "cell_type": "code",
      "source": [
        "#dyaamic way\n",
        "n= int(input(\"Print even number upto: \"))\n",
        "for i in range(2,2*n+1,2):\n",
        "  print(i, end=\" \")"
      ],
      "metadata": {
        "colab": {
          "base_uri": "https://localhost:8080/"
        },
        "id": "r_MaXHWeKdkW",
        "outputId": "71ef29e6-782b-4fa7-a35e-fdf6e3c56ad8"
      },
      "execution_count": 14,
      "outputs": [
        {
          "output_type": "stream",
          "name": "stdout",
          "text": [
            "Print even number upto: 10\n",
            "2 4 6 8 10 12 14 16 18 20 "
          ]
        }
      ]
    },
    {
      "cell_type": "markdown",
      "source": [
        "Q4 Write a program to print first 10 odd numbers"
      ],
      "metadata": {
        "id": "klRttj--LQTT"
      }
    },
    {
      "cell_type": "code",
      "source": [
        "for i in range(1,20,2):\n",
        "  print(i, end=\" \")"
      ],
      "metadata": {
        "colab": {
          "base_uri": "https://localhost:8080/"
        },
        "id": "Yzrn7n0tLXNo",
        "outputId": "acbe3409-79b9-4573-d9ad-5eb63819da6a"
      },
      "execution_count": 15,
      "outputs": [
        {
          "output_type": "stream",
          "name": "stdout",
          "text": [
            "1 3 5 7 9 11 13 15 17 19 "
          ]
        }
      ]
    },
    {
      "cell_type": "code",
      "source": [
        "#dynamic way\n",
        "n= int(input(\"Print Odd number upto: \"))\n",
        "for i in range(1,2*n+1,2):\n",
        "  print(i, end=\" \")"
      ],
      "metadata": {
        "colab": {
          "base_uri": "https://localhost:8080/"
        },
        "id": "END4JBV3LhKM",
        "outputId": "e7249125-39e8-40a1-bfd0-d63cfaa3eb5d"
      },
      "execution_count": 18,
      "outputs": [
        {
          "output_type": "stream",
          "name": "stdout",
          "text": [
            "Print Odd number upto: 10\n",
            "1 3 5 7 9 11 13 15 17 19 "
          ]
        }
      ]
    },
    {
      "cell_type": "markdown",
      "source": [
        "Q5 Write a program to print first 10 even numbers in reverse order"
      ],
      "metadata": {
        "id": "i_rtUdzxiy9N"
      }
    },
    {
      "cell_type": "code",
      "source": [
        "for i in range(20,1,-2):\n",
        "  print(i, end=\" \")"
      ],
      "metadata": {
        "colab": {
          "base_uri": "https://localhost:8080/"
        },
        "id": "Q9TPTTLBi6TU",
        "outputId": "7bd8a4e6-8a4b-4ca7-df3a-f1225f5af16e"
      },
      "execution_count": 20,
      "outputs": [
        {
          "output_type": "stream",
          "name": "stdout",
          "text": [
            "20 18 16 14 12 10 8 6 4 2 "
          ]
        }
      ]
    },
    {
      "cell_type": "markdown",
      "source": [
        "Q6 Write a program to print table of a number accepted from user"
      ],
      "metadata": {
        "id": "c_kErzx5kVbA"
      }
    },
    {
      "cell_type": "code",
      "source": [
        "\n",
        "a = int(input(\"Print table of \"))\n",
        "b = int(input(\"Print table upto \"))\n",
        "for i in range(a,a*b+1,a):\n",
        "  print(i, end=\" \")"
      ],
      "metadata": {
        "id": "Xsqhyk2wkpD7",
        "colab": {
          "base_uri": "https://localhost:8080/"
        },
        "outputId": "9a6af21e-eeaa-4d38-d80e-7bfd3cb7881c"
      },
      "execution_count": 30,
      "outputs": [
        {
          "output_type": "stream",
          "name": "stdout",
          "text": [
            "Print table of 4\n",
            "Print table upto 10\n",
            "4 8 12 16 20 24 28 32 36 40 "
          ]
        }
      ]
    },
    {
      "cell_type": "markdown",
      "source": [
        "Q7 Write a program to display product of the digits of the number accepted from the user"
      ],
      "metadata": {
        "id": "XMZb7ctyqK2C"
      }
    },
    {
      "cell_type": "code",
      "source": [
        "\n"
      ],
      "metadata": {
        "id": "CuDLNRHwqV8w"
      },
      "execution_count": null,
      "outputs": []
    }
  ]
}